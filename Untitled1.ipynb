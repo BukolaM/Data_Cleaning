{
 "cells": [
  {
   "cell_type": "code",
   "execution_count": 1,
   "id": "1c74a501",
   "metadata": {},
   "outputs": [],
   "source": [
    "import pandas as pd"
   ]
  },
  {
   "cell_type": "code",
   "execution_count": 2,
   "id": "b56db371",
   "metadata": {},
   "outputs": [
    {
     "name": "stderr",
     "output_type": "stream",
     "text": [
      "/var/folders/73/dfnlcqg57w7btn76pt1r17cm0000gp/T/ipykernel_1562/1369213445.py:1: DtypeWarning: Columns (76) have mixed types. Specify dtype option on import or set low_memory=False.\n",
      "  df = pd.read_csv(\"fifa21 raw data v2.csv\")\n"
     ]
    }
   ],
   "source": [
    "df = pd.read_csv(\"fifa21 raw data v2.csv\")"
   ]
  },
  {
   "cell_type": "code",
   "execution_count": 3,
   "id": "8748bbbd",
   "metadata": {
    "scrolled": true
   },
   "outputs": [
    {
     "data": {
      "text/html": [
       "<div>\n",
       "<style scoped>\n",
       "    .dataframe tbody tr th:only-of-type {\n",
       "        vertical-align: middle;\n",
       "    }\n",
       "\n",
       "    .dataframe tbody tr th {\n",
       "        vertical-align: top;\n",
       "    }\n",
       "\n",
       "    .dataframe thead th {\n",
       "        text-align: right;\n",
       "    }\n",
       "</style>\n",
       "<table border=\"1\" class=\"dataframe\">\n",
       "  <thead>\n",
       "    <tr style=\"text-align: right;\">\n",
       "      <th></th>\n",
       "      <th>ID</th>\n",
       "      <th>Name</th>\n",
       "      <th>LongName</th>\n",
       "      <th>photoUrl</th>\n",
       "      <th>playerUrl</th>\n",
       "      <th>Nationality</th>\n",
       "      <th>Age</th>\n",
       "      <th>↓OVA</th>\n",
       "      <th>POT</th>\n",
       "      <th>Club</th>\n",
       "      <th>...</th>\n",
       "      <th>A/W</th>\n",
       "      <th>D/W</th>\n",
       "      <th>IR</th>\n",
       "      <th>PAC</th>\n",
       "      <th>SHO</th>\n",
       "      <th>PAS</th>\n",
       "      <th>DRI</th>\n",
       "      <th>DEF</th>\n",
       "      <th>PHY</th>\n",
       "      <th>Hits</th>\n",
       "    </tr>\n",
       "  </thead>\n",
       "  <tbody>\n",
       "    <tr>\n",
       "      <th>0</th>\n",
       "      <td>158023</td>\n",
       "      <td>L. Messi</td>\n",
       "      <td>Lionel Messi</td>\n",
       "      <td>https://cdn.sofifa.com/players/158/023/21_60.png</td>\n",
       "      <td>http://sofifa.com/player/158023/lionel-messi/2...</td>\n",
       "      <td>Argentina</td>\n",
       "      <td>33</td>\n",
       "      <td>93</td>\n",
       "      <td>93</td>\n",
       "      <td>\\n\\n\\n\\nFC Barcelona</td>\n",
       "      <td>...</td>\n",
       "      <td>Medium</td>\n",
       "      <td>Low</td>\n",
       "      <td>5 ★</td>\n",
       "      <td>85</td>\n",
       "      <td>92</td>\n",
       "      <td>91</td>\n",
       "      <td>95</td>\n",
       "      <td>38</td>\n",
       "      <td>65</td>\n",
       "      <td>771</td>\n",
       "    </tr>\n",
       "    <tr>\n",
       "      <th>1</th>\n",
       "      <td>20801</td>\n",
       "      <td>Cristiano Ronaldo</td>\n",
       "      <td>C. Ronaldo dos Santos Aveiro</td>\n",
       "      <td>https://cdn.sofifa.com/players/020/801/21_60.png</td>\n",
       "      <td>http://sofifa.com/player/20801/c-ronaldo-dos-s...</td>\n",
       "      <td>Portugal</td>\n",
       "      <td>35</td>\n",
       "      <td>92</td>\n",
       "      <td>92</td>\n",
       "      <td>\\n\\n\\n\\nJuventus</td>\n",
       "      <td>...</td>\n",
       "      <td>High</td>\n",
       "      <td>Low</td>\n",
       "      <td>5 ★</td>\n",
       "      <td>89</td>\n",
       "      <td>93</td>\n",
       "      <td>81</td>\n",
       "      <td>89</td>\n",
       "      <td>35</td>\n",
       "      <td>77</td>\n",
       "      <td>562</td>\n",
       "    </tr>\n",
       "    <tr>\n",
       "      <th>2</th>\n",
       "      <td>200389</td>\n",
       "      <td>J. Oblak</td>\n",
       "      <td>Jan Oblak</td>\n",
       "      <td>https://cdn.sofifa.com/players/200/389/21_60.png</td>\n",
       "      <td>http://sofifa.com/player/200389/jan-oblak/210006/</td>\n",
       "      <td>Slovenia</td>\n",
       "      <td>27</td>\n",
       "      <td>91</td>\n",
       "      <td>93</td>\n",
       "      <td>\\n\\n\\n\\nAtlético Madrid</td>\n",
       "      <td>...</td>\n",
       "      <td>Medium</td>\n",
       "      <td>Medium</td>\n",
       "      <td>3 ★</td>\n",
       "      <td>87</td>\n",
       "      <td>92</td>\n",
       "      <td>78</td>\n",
       "      <td>90</td>\n",
       "      <td>52</td>\n",
       "      <td>90</td>\n",
       "      <td>150</td>\n",
       "    </tr>\n",
       "    <tr>\n",
       "      <th>3</th>\n",
       "      <td>192985</td>\n",
       "      <td>K. De Bruyne</td>\n",
       "      <td>Kevin De Bruyne</td>\n",
       "      <td>https://cdn.sofifa.com/players/192/985/21_60.png</td>\n",
       "      <td>http://sofifa.com/player/192985/kevin-de-bruyn...</td>\n",
       "      <td>Belgium</td>\n",
       "      <td>29</td>\n",
       "      <td>91</td>\n",
       "      <td>91</td>\n",
       "      <td>\\n\\n\\n\\nManchester City</td>\n",
       "      <td>...</td>\n",
       "      <td>High</td>\n",
       "      <td>High</td>\n",
       "      <td>4 ★</td>\n",
       "      <td>76</td>\n",
       "      <td>86</td>\n",
       "      <td>93</td>\n",
       "      <td>88</td>\n",
       "      <td>64</td>\n",
       "      <td>78</td>\n",
       "      <td>207</td>\n",
       "    </tr>\n",
       "    <tr>\n",
       "      <th>4</th>\n",
       "      <td>190871</td>\n",
       "      <td>Neymar Jr</td>\n",
       "      <td>Neymar da Silva Santos Jr.</td>\n",
       "      <td>https://cdn.sofifa.com/players/190/871/21_60.png</td>\n",
       "      <td>http://sofifa.com/player/190871/neymar-da-silv...</td>\n",
       "      <td>Brazil</td>\n",
       "      <td>28</td>\n",
       "      <td>91</td>\n",
       "      <td>91</td>\n",
       "      <td>\\n\\n\\n\\nParis Saint-Germain</td>\n",
       "      <td>...</td>\n",
       "      <td>High</td>\n",
       "      <td>Medium</td>\n",
       "      <td>5 ★</td>\n",
       "      <td>91</td>\n",
       "      <td>85</td>\n",
       "      <td>86</td>\n",
       "      <td>94</td>\n",
       "      <td>36</td>\n",
       "      <td>59</td>\n",
       "      <td>595</td>\n",
       "    </tr>\n",
       "  </tbody>\n",
       "</table>\n",
       "<p>5 rows × 77 columns</p>\n",
       "</div>"
      ],
      "text/plain": [
       "       ID               Name                      LongName  \\\n",
       "0  158023           L. Messi                  Lionel Messi   \n",
       "1   20801  Cristiano Ronaldo  C. Ronaldo dos Santos Aveiro   \n",
       "2  200389           J. Oblak                     Jan Oblak   \n",
       "3  192985       K. De Bruyne               Kevin De Bruyne   \n",
       "4  190871          Neymar Jr    Neymar da Silva Santos Jr.   \n",
       "\n",
       "                                           photoUrl  \\\n",
       "0  https://cdn.sofifa.com/players/158/023/21_60.png   \n",
       "1  https://cdn.sofifa.com/players/020/801/21_60.png   \n",
       "2  https://cdn.sofifa.com/players/200/389/21_60.png   \n",
       "3  https://cdn.sofifa.com/players/192/985/21_60.png   \n",
       "4  https://cdn.sofifa.com/players/190/871/21_60.png   \n",
       "\n",
       "                                           playerUrl Nationality  Age  ↓OVA  \\\n",
       "0  http://sofifa.com/player/158023/lionel-messi/2...   Argentina   33    93   \n",
       "1  http://sofifa.com/player/20801/c-ronaldo-dos-s...    Portugal   35    92   \n",
       "2  http://sofifa.com/player/200389/jan-oblak/210006/    Slovenia   27    91   \n",
       "3  http://sofifa.com/player/192985/kevin-de-bruyn...     Belgium   29    91   \n",
       "4  http://sofifa.com/player/190871/neymar-da-silv...      Brazil   28    91   \n",
       "\n",
       "   POT                         Club  ...     A/W     D/W   IR PAC SHO  PAS  \\\n",
       "0   93         \\n\\n\\n\\nFC Barcelona  ...  Medium     Low  5 ★  85  92   91   \n",
       "1   92             \\n\\n\\n\\nJuventus  ...    High     Low  5 ★  89  93   81   \n",
       "2   93      \\n\\n\\n\\nAtlético Madrid  ...  Medium  Medium  3 ★  87  92   78   \n",
       "3   91      \\n\\n\\n\\nManchester City  ...    High    High  4 ★  76  86   93   \n",
       "4   91  \\n\\n\\n\\nParis Saint-Germain  ...    High  Medium  5 ★  91  85   86   \n",
       "\n",
       "  DRI DEF PHY Hits  \n",
       "0  95  38  65  771  \n",
       "1  89  35  77  562  \n",
       "2  90  52  90  150  \n",
       "3  88  64  78  207  \n",
       "4  94  36  59  595  \n",
       "\n",
       "[5 rows x 77 columns]"
      ]
     },
     "execution_count": 3,
     "metadata": {},
     "output_type": "execute_result"
    }
   ],
   "source": [
    "df.head()"
   ]
  },
  {
   "cell_type": "markdown",
   "id": "4f345ed2",
   "metadata": {},
   "source": [
    "## Data Cleaning"
   ]
  },
  {
   "cell_type": "code",
   "execution_count": 4,
   "id": "ce384641",
   "metadata": {},
   "outputs": [],
   "source": [
    "#"
   ]
  },
  {
   "cell_type": "code",
   "execution_count": 5,
   "id": "8c81cbe8",
   "metadata": {},
   "outputs": [],
   "source": [
    "# Converting all the header name into lower case\n",
    "df.columns = [x.lower() for x in df.columns]"
   ]
  },
  {
   "cell_type": "code",
   "execution_count": 6,
   "id": "62f4d2a3",
   "metadata": {},
   "outputs": [],
   "source": [
    "df.columns = df.columns.str.replace(\" \", \"_\")"
   ]
  },
  {
   "cell_type": "code",
   "execution_count": 7,
   "id": "5b48d576",
   "metadata": {},
   "outputs": [],
   "source": [
    "df.rename(columns = {\"↓ova\" : \"ova\"}, inplace = True)"
   ]
  },
  {
   "cell_type": "code",
   "execution_count": 8,
   "id": "a046a94b",
   "metadata": {},
   "outputs": [
    {
     "data": {
      "text/plain": [
       "Index(['id', 'name', 'longname', 'photourl', 'playerurl', 'nationality', 'age',\n",
       "       'ova', 'pot', 'club', 'contract', 'positions', 'height', 'weight',\n",
       "       'preferred_foot', 'bov', 'best_position', 'joined', 'loan_date_end',\n",
       "       'value', 'wage', 'release_clause', 'attacking', 'crossing', 'finishing',\n",
       "       'heading_accuracy', 'short_passing', 'volleys', 'skill', 'dribbling',\n",
       "       'curve', 'fk_accuracy', 'long_passing', 'ball_control', 'movement',\n",
       "       'acceleration', 'sprint_speed', 'agility', 'reactions', 'balance',\n",
       "       'power', 'shot_power', 'jumping', 'stamina', 'strength', 'long_shots',\n",
       "       'mentality', 'aggression', 'interceptions', 'positioning', 'vision',\n",
       "       'penalties', 'composure', 'defending', 'marking', 'standing_tackle',\n",
       "       'sliding_tackle', 'goalkeeping', 'gk_diving', 'gk_handling',\n",
       "       'gk_kicking', 'gk_positioning', 'gk_reflexes', 'total_stats',\n",
       "       'base_stats', 'w/f', 'sm', 'a/w', 'd/w', 'ir', 'pac', 'sho', 'pas',\n",
       "       'dri', 'def', 'phy', 'hits'],\n",
       "      dtype='object')"
      ]
     },
     "execution_count": 8,
     "metadata": {},
     "output_type": "execute_result"
    }
   ],
   "source": [
    "df.columns"
   ]
  },
  {
   "cell_type": "markdown",
   "id": "77efc81c",
   "metadata": {},
   "source": [
    "# 2"
   ]
  },
  {
   "cell_type": "code",
   "execution_count": 9,
   "id": "5401ff26",
   "metadata": {
    "scrolled": true
   },
   "outputs": [
    {
     "name": "stdout",
     "output_type": "stream",
     "text": [
      "<class 'pandas.core.frame.DataFrame'>\n",
      "RangeIndex: 18979 entries, 0 to 18978\n",
      "Data columns (total 77 columns):\n",
      " #   Column            Non-Null Count  Dtype \n",
      "---  ------            --------------  ----- \n",
      " 0   id                18979 non-null  int64 \n",
      " 1   name              18979 non-null  object\n",
      " 2   longname          18979 non-null  object\n",
      " 3   photourl          18979 non-null  object\n",
      " 4   playerurl         18979 non-null  object\n",
      " 5   nationality       18979 non-null  object\n",
      " 6   age               18979 non-null  int64 \n",
      " 7   ova               18979 non-null  int64 \n",
      " 8   pot               18979 non-null  int64 \n",
      " 9   club              18979 non-null  object\n",
      " 10  contract          18979 non-null  object\n",
      " 11  positions         18979 non-null  object\n",
      " 12  height            18979 non-null  object\n",
      " 13  weight            18979 non-null  object\n",
      " 14  preferred_foot    18979 non-null  object\n",
      " 15  bov               18979 non-null  int64 \n",
      " 16  best_position     18979 non-null  object\n",
      " 17  joined            18979 non-null  object\n",
      " 18  loan_date_end     1013 non-null   object\n",
      " 19  value             18979 non-null  object\n",
      " 20  wage              18979 non-null  object\n",
      " 21  release_clause    18979 non-null  object\n",
      " 22  attacking         18979 non-null  int64 \n",
      " 23  crossing          18979 non-null  int64 \n",
      " 24  finishing         18979 non-null  int64 \n",
      " 25  heading_accuracy  18979 non-null  int64 \n",
      " 26  short_passing     18979 non-null  int64 \n",
      " 27  volleys           18979 non-null  int64 \n",
      " 28  skill             18979 non-null  int64 \n",
      " 29  dribbling         18979 non-null  int64 \n",
      " 30  curve             18979 non-null  int64 \n",
      " 31  fk_accuracy       18979 non-null  int64 \n",
      " 32  long_passing      18979 non-null  int64 \n",
      " 33  ball_control      18979 non-null  int64 \n",
      " 34  movement          18979 non-null  int64 \n",
      " 35  acceleration      18979 non-null  int64 \n",
      " 36  sprint_speed      18979 non-null  int64 \n",
      " 37  agility           18979 non-null  int64 \n",
      " 38  reactions         18979 non-null  int64 \n",
      " 39  balance           18979 non-null  int64 \n",
      " 40  power             18979 non-null  int64 \n",
      " 41  shot_power        18979 non-null  int64 \n",
      " 42  jumping           18979 non-null  int64 \n",
      " 43  stamina           18979 non-null  int64 \n",
      " 44  strength          18979 non-null  int64 \n",
      " 45  long_shots        18979 non-null  int64 \n",
      " 46  mentality         18979 non-null  int64 \n",
      " 47  aggression        18979 non-null  int64 \n",
      " 48  interceptions     18979 non-null  int64 \n",
      " 49  positioning       18979 non-null  int64 \n",
      " 50  vision            18979 non-null  int64 \n",
      " 51  penalties         18979 non-null  int64 \n",
      " 52  composure         18979 non-null  int64 \n",
      " 53  defending         18979 non-null  int64 \n",
      " 54  marking           18979 non-null  int64 \n",
      " 55  standing_tackle   18979 non-null  int64 \n",
      " 56  sliding_tackle    18979 non-null  int64 \n",
      " 57  goalkeeping       18979 non-null  int64 \n",
      " 58  gk_diving         18979 non-null  int64 \n",
      " 59  gk_handling       18979 non-null  int64 \n",
      " 60  gk_kicking        18979 non-null  int64 \n",
      " 61  gk_positioning    18979 non-null  int64 \n",
      " 62  gk_reflexes       18979 non-null  int64 \n",
      " 63  total_stats       18979 non-null  int64 \n",
      " 64  base_stats        18979 non-null  int64 \n",
      " 65  w/f               18979 non-null  object\n",
      " 66  sm                18979 non-null  object\n",
      " 67  a/w               18979 non-null  object\n",
      " 68  d/w               18979 non-null  object\n",
      " 69  ir                18979 non-null  object\n",
      " 70  pac               18979 non-null  int64 \n",
      " 71  sho               18979 non-null  int64 \n",
      " 72  pas               18979 non-null  int64 \n",
      " 73  dri               18979 non-null  int64 \n",
      " 74  def               18979 non-null  int64 \n",
      " 75  phy               18979 non-null  int64 \n",
      " 76  hits              16384 non-null  object\n",
      "dtypes: int64(54), object(23)\n",
      "memory usage: 11.1+ MB\n"
     ]
    }
   ],
   "source": [
    "df.info()"
   ]
  },
  {
   "cell_type": "code",
   "execution_count": 10,
   "id": "54a2fc49",
   "metadata": {},
   "outputs": [
    {
     "data": {
      "text/plain": [
       "7570    \\n\\n\\n\\nVfL Osnabrück\n",
       "Name: club, dtype: object"
      ]
     },
     "execution_count": 10,
     "metadata": {},
     "output_type": "execute_result"
    }
   ],
   "source": [
    "#reviewing the sample of club column\n",
    "df['club'].sample()"
   ]
  },
  {
   "cell_type": "code",
   "execution_count": 11,
   "id": "795a8caf",
   "metadata": {},
   "outputs": [],
   "source": [
    "df['clubs'] = df['club'].apply(lambda x: x.strip())"
   ]
  },
  {
   "cell_type": "markdown",
   "id": "c68d1197",
   "metadata": {},
   "source": [
    "# 3"
   ]
  },
  {
   "cell_type": "code",
   "execution_count": 12,
   "id": "4dbac858",
   "metadata": {},
   "outputs": [
    {
     "data": {
      "text/plain": [
       "0        2004 ~ 2021\n",
       "1        2018 ~ 2022\n",
       "2        2014 ~ 2023\n",
       "3        2015 ~ 2023\n",
       "4        2017 ~ 2022\n",
       "            ...     \n",
       "18974    2018 ~ 2022\n",
       "18975    2020 ~ 2021\n",
       "18976    2019 ~ 2020\n",
       "18977    2020 ~ 2022\n",
       "18978    2019 ~ 2023\n",
       "Name: contract, Length: 18979, dtype: object"
      ]
     },
     "execution_count": 12,
     "metadata": {},
     "output_type": "execute_result"
    }
   ],
   "source": [
    "#reviewing the sample of club column\n",
    "df['contract'] "
   ]
  },
  {
   "cell_type": "code",
   "execution_count": 13,
   "id": "ed79a071",
   "metadata": {},
   "outputs": [],
   "source": [
    "df['contract'] = df['contract'].apply(lambda x : x.replace(\" ~ \", \"-\"))"
   ]
  },
  {
   "cell_type": "markdown",
   "id": "2a188d28",
   "metadata": {},
   "source": [
    "# 4"
   ]
  },
  {
   "cell_type": "code",
   "execution_count": 14,
   "id": "254ece55",
   "metadata": {},
   "outputs": [
    {
     "data": {
      "text/plain": [
       "array(['2004-2021', '2018-2022', '2014-2023', '2015-2023', '2017-2022',\n",
       "       '2017-2023', '2018-2024', '2014-2022', '2018-2023', '2016-2023',\n",
       "       '2013-2023', '2011-2023', '2009-2022', '2005-2021', '2011-2021',\n",
       "       '2015-2022', '2017-2024', '2010-2024', '2012-2021', '2019-2024',\n",
       "       '2015-2024', '2017-2025', '2020-2025', '2019-2023', '2008-2023',\n",
       "       '2015-2021', '2020-2022', '2012-2022', '2016-2025', '2013-2022',\n",
       "       '2011-2022', '2012-2024', '2016-2021', '2012-2023', '2008-2022',\n",
       "       '2019-2022', '2017-2021', '2013-2024', '2020-2024', '2010-2022',\n",
       "       '2020-2021', '2011-2024', '2020-2023', '2014-2024', '2013-2026',\n",
       "       '2016-2022', '2010-2021', '2013-2021', '2019-2025', '2018-2025',\n",
       "       '2016-2024', '2018-2021', '2009-2024', '2007-2022',\n",
       "       'Jun 30, 2021 On Loan', '2009-2021', '2019-2021', '2019-2026',\n",
       "       'Free', '2012-2028', '2010-2023', '2014-2021', '2015-2025',\n",
       "       '2014-2026', '2012-2025', '2017-2020', '2002-2022', '2020-2027',\n",
       "       '2013-2025', 'Dec 31, 2020 On Loan', '2019-2020', '2011-2025',\n",
       "       '2016-2020', '2007-2021', '2020-2026', '2010-2025', '2009-2023',\n",
       "       '2008-2021', '2020-2020', '2016-2026', 'Jan 30, 2021 On Loan',\n",
       "       '2012-2020', '2014-2025', 'Jun 30, 2022 On Loan', '2015-2020',\n",
       "       'May 31, 2021 On Loan', '2018-2020', '2014-2020', '2013-2020',\n",
       "       '2006-2024', 'Jul 5, 2021 On Loan', 'Dec 31, 2021 On Loan',\n",
       "       '2004-2025', '2011-2020', 'Jul 1, 2021 On Loan',\n",
       "       'Jan 1, 2021 On Loan', '2006-2023', 'Aug 31, 2021 On Loan',\n",
       "       '2006-2021', '2005-2023', '2003-2020', '2009-2020', '2002-2020',\n",
       "       '2005-2020', '2005-2022', 'Jan 31, 2021 On Loan', '2010-2020',\n",
       "       'Dec 30, 2021 On Loan', '2008-2020', '2007-2020', '2003-2021',\n",
       "       'Jun 23, 2021 On Loan', 'Jan 3, 2021 On Loan',\n",
       "       'Nov 27, 2021 On Loan', '2002-2021', 'Jan 17, 2021 On Loan',\n",
       "       'Jun 30, 2023 On Loan', '1998-2021', '2003-2022', '2007-2023',\n",
       "       'Jul 31, 2021 On Loan', 'Nov 22, 2020 On Loan',\n",
       "       'May 31, 2022 On Loan', '2006-2020', 'Dec 30, 2020 On Loan',\n",
       "       '2007-2025', 'Jan 4, 2021 On Loan', 'Nov 30, 2020 On Loan',\n",
       "       '2004-2020', '2009-2025', 'Aug 1, 2021 On Loan'], dtype=object)"
      ]
     },
     "execution_count": 14,
     "metadata": {},
     "output_type": "execute_result"
    }
   ],
   "source": [
    "df['contract'].unique()"
   ]
  },
  {
   "cell_type": "code",
   "execution_count": 19,
   "id": "9623435b",
   "metadata": {},
   "outputs": [],
   "source": [
    "def contract_terms(item):\n",
    "    if \"On Loan\" in item:\n",
    "        return \"loan\"\n",
    "    if \"-\" in item:\n",
    "        return \"active\"\n",
    "    if \"Free\" in item:\n",
    "        return \"free\"\n",
    "    "
   ]
  },
  {
   "cell_type": "code",
   "execution_count": 21,
   "id": "df9906f4",
   "metadata": {},
   "outputs": [
    {
     "data": {
      "text/plain": [
       "array(['active', 'loan', 'free'], dtype=object)"
      ]
     },
     "execution_count": 21,
     "metadata": {},
     "output_type": "execute_result"
    }
   ],
   "source": [
    "df['contract_terms'] = df['contract'].apply(contract_terms)\n",
    "df['contract_terms'].unique()"
   ]
  },
  {
   "cell_type": "code",
   "execution_count": 22,
   "id": "869cf63b",
   "metadata": {},
   "outputs": [
    {
     "data": {
      "text/plain": [
       "0        €103.5M\n",
       "1           €63M\n",
       "2          €120M\n",
       "3          €129M\n",
       "4          €132M\n",
       "          ...   \n",
       "18974      €100K\n",
       "18975      €130K\n",
       "18976      €120K\n",
       "18977      €100K\n",
       "18978      €100K\n",
       "Name: value, Length: 18979, dtype: object"
      ]
     },
     "execution_count": 22,
     "metadata": {},
     "output_type": "execute_result"
    }
   ],
   "source": [
    "df['value']"
   ]
  },
  {
   "cell_type": "code",
   "execution_count": 35,
   "id": "31c8ae3b",
   "metadata": {},
   "outputs": [],
   "source": [
    "def value_change(item):\n",
    "    try:\n",
    "        item = item.replace(\"€\", \"\").strip()\n",
    "        if \"K\" in item:\n",
    "            item = float(item.replace(\"K\", \"\"))\n",
    "            item = item * 1000\n",
    "        if \"M\" in item:\n",
    "            item = float(item.replace(\"M\", \"\"))\n",
    "            item = item * 1000000\n",
    "        else:\n",
    "            item = float(item)\n",
    "        return  round(item)\n",
    "    \n",
    "    except:\n",
    "        return 0"
   ]
  },
  {
   "cell_type": "code",
   "execution_count": 36,
   "id": "2652eff4",
   "metadata": {},
   "outputs": [],
   "source": [
    "df['value_'] = df['value']. apply(value_change)"
   ]
  },
  {
   "cell_type": "code",
   "execution_count": 37,
   "id": "cee7862d",
   "metadata": {
    "scrolled": true
   },
   "outputs": [
    {
     "data": {
      "text/plain": [
       "0        103500000\n",
       "1         63000000\n",
       "2        120000000\n",
       "3        129000000\n",
       "4        132000000\n",
       "           ...    \n",
       "18974            0\n",
       "18975            0\n",
       "18976            0\n",
       "18977            0\n",
       "18978            0\n",
       "Name: value_, Length: 18979, dtype: int64"
      ]
     },
     "execution_count": 37,
     "metadata": {},
     "output_type": "execute_result"
    }
   ],
   "source": [
    "df['value_']"
   ]
  },
  {
   "cell_type": "markdown",
   "id": "193040a0",
   "metadata": {},
   "source": [
    "## 5"
   ]
  },
  {
   "cell_type": "code",
   "execution_count": 39,
   "id": "4e0441a1",
   "metadata": {},
   "outputs": [
    {
     "data": {
      "text/plain": [
       "array(['170cm', '187cm', '188cm', '181cm', '175cm', '184cm', '191cm',\n",
       "       '178cm', '193cm', '185cm', '199cm', '173cm', '168cm', '176cm',\n",
       "       '177cm', '183cm', '180cm', '189cm', '179cm', '195cm', '172cm',\n",
       "       '182cm', '186cm', '192cm', '165cm', '194cm', '167cm', '196cm',\n",
       "       '163cm', '190cm', '174cm', '169cm', '171cm', '197cm', '200cm',\n",
       "       '166cm', '6\\'2\"', '164cm', '198cm', '6\\'3\"', '6\\'5\"', '5\\'11\"',\n",
       "       '6\\'4\"', '6\\'1\"', '6\\'0\"', '5\\'10\"', '5\\'9\"', '5\\'6\"', '5\\'7\"',\n",
       "       '5\\'4\"', '201cm', '158cm', '162cm', '161cm', '160cm', '203cm',\n",
       "       '157cm', '156cm', '202cm', '159cm', '206cm', '155cm'], dtype=object)"
      ]
     },
     "execution_count": 39,
     "metadata": {},
     "output_type": "execute_result"
    }
   ],
   "source": [
    "df['height'].unique()"
   ]
  },
  {
   "cell_type": "code",
   "execution_count": 77,
   "id": "213091aa",
   "metadata": {},
   "outputs": [
    {
     "data": {
      "text/plain": [
       "dtype('O')"
      ]
     },
     "execution_count": 77,
     "metadata": {},
     "output_type": "execute_result"
    }
   ],
   "source": [
    "df['height'].dtype"
   ]
  },
  {
   "cell_type": "code",
   "execution_count": 132,
   "id": "ccc357f0",
   "metadata": {},
   "outputs": [],
   "source": [
    "def convert_(item):\n",
    "    if 'cm' in item:\n",
    "        item = item.replace(\"cm\", \"\")\n",
    "    else:\n",
    "        item = item.replace('\"', '')\n",
    "        value = item.split(\"\\'\")\n",
    "        item = (float(value[0]) * 30.48) + (float(value[1]) * 2.54)\n",
    "                                         \n",
    "    return int(item)"
   ]
  },
  {
   "cell_type": "code",
   "execution_count": 133,
   "id": "52ebc02d",
   "metadata": {},
   "outputs": [
    {
     "name": "stdout",
     "output_type": "stream",
     "text": [
      "190\n"
     ]
    }
   ],
   "source": [
    "a = convert_('6\\'3\"')\n",
    "print(a)"
   ]
  },
  {
   "cell_type": "code",
   "execution_count": 134,
   "id": "d7ab180e",
   "metadata": {},
   "outputs": [],
   "source": [
    "df['heights'] = df['height'].apply(convert_)"
   ]
  },
  {
   "cell_type": "code",
   "execution_count": 113,
   "id": "f2f2b463",
   "metadata": {},
   "outputs": [
    {
     "data": {
      "text/plain": [
       "0        170\n",
       "1        187\n",
       "2        188\n",
       "3        181\n",
       "4        175\n",
       "        ... \n",
       "18974    178\n",
       "18975    175\n",
       "18976    179\n",
       "18977    175\n",
       "18978    188\n",
       "Name: heights, Length: 18979, dtype: int64"
      ]
     },
     "execution_count": 113,
     "metadata": {},
     "output_type": "execute_result"
    }
   ],
   "source": [
    "df['heights']"
   ]
  },
  {
   "cell_type": "code",
   "execution_count": 106,
   "id": "104bf28e",
   "metadata": {},
   "outputs": [
    {
     "data": {
      "text/plain": [
       "array([170, 187, 188, 181, 175, 184, 191, 178, 193, 185, 199, 173, 168,\n",
       "       176, 177, 183, 180, 189, 179, 195, 172, 182, 186, 192, 165, 194,\n",
       "       167, 196, 163, 190, 174, 169, 171, 197, 200, 166, 164, 198, 162,\n",
       "       201, 158, 161, 160, 203, 157, 156, 202, 159, 206, 155])"
      ]
     },
     "execution_count": 106,
     "metadata": {},
     "output_type": "execute_result"
    }
   ],
   "source": [
    "df['heights'].unique()"
   ]
  },
  {
   "cell_type": "markdown",
   "id": "1ed60a4b",
   "metadata": {},
   "source": [
    "## 6"
   ]
  },
  {
   "cell_type": "code",
   "execution_count": 110,
   "id": "41c732ef",
   "metadata": {},
   "outputs": [
    {
     "data": {
      "text/plain": [
       "array(['72kg', '83kg', '87kg', '70kg', '68kg', '80kg', '71kg', '91kg',\n",
       "       '73kg', '85kg', '92kg', '69kg', '84kg', '96kg', '81kg', '82kg',\n",
       "       '75kg', '86kg', '89kg', '74kg', '76kg', '64kg', '78kg', '90kg',\n",
       "       '66kg', '60kg', '94kg', '79kg', '67kg', '65kg', '59kg', '61kg',\n",
       "       '93kg', '88kg', '97kg', '77kg', '62kg', '63kg', '95kg', '100kg',\n",
       "       '58kg', '183lbs', '179lbs', '172lbs', '196lbs', '176lbs', '185lbs',\n",
       "       '170lbs', '203lbs', '168lbs', '161lbs', '146lbs', '130lbs',\n",
       "       '190lbs', '174lbs', '148lbs', '165lbs', '159lbs', '192lbs',\n",
       "       '181lbs', '139lbs', '154lbs', '157lbs', '163lbs', '98kg', '103kg',\n",
       "       '99kg', '102kg', '56kg', '101kg', '57kg', '55kg', '104kg', '107kg',\n",
       "       '110kg', '53kg', '50kg', '54kg', '52kg'], dtype=object)"
      ]
     },
     "execution_count": 110,
     "metadata": {},
     "output_type": "execute_result"
    }
   ],
   "source": [
    "df['weight'].unique()"
   ]
  },
  {
   "cell_type": "code",
   "execution_count": 145,
   "id": "5b1d7a2f",
   "metadata": {},
   "outputs": [],
   "source": [
    "def parse_lbs(item):\n",
    "    if \"kg\" in item:\n",
    "        item = item.replace(\"kg\", \"\")\n",
    "    else:\n",
    "        value = item.replace(\"lbs\", \"\")\n",
    "        item = int(value) * 0.453592\n",
    "    return int(item)\n",
    "    "
   ]
  },
  {
   "cell_type": "code",
   "execution_count": 146,
   "id": "eedeedf1",
   "metadata": {},
   "outputs": [
    {
     "name": "stdout",
     "output_type": "stream",
     "text": [
      "63\n"
     ]
    }
   ],
   "source": [
    "a = parse_lbs('139lbs')\n",
    "print(a)"
   ]
  },
  {
   "cell_type": "code",
   "execution_count": 147,
   "id": "543eeec4",
   "metadata": {},
   "outputs": [],
   "source": [
    "df['weight'] = df['weight'].apply(parse_lbs)"
   ]
  },
  {
   "cell_type": "code",
   "execution_count": 148,
   "id": "1f12e3a0",
   "metadata": {},
   "outputs": [
    {
     "data": {
      "text/plain": [
       "array([ 72,  83,  87,  70,  68,  80,  71,  91,  73,  85,  92,  69,  84,\n",
       "        96,  81,  82,  75,  86,  89,  74,  76,  64,  78,  90,  66,  60,\n",
       "        94,  79,  67,  65,  59,  61,  93,  88,  97,  77,  62,  63,  95,\n",
       "       100,  58,  98, 103,  99, 102,  56, 101,  57,  55, 104, 107, 110,\n",
       "        53,  50,  54,  52])"
      ]
     },
     "execution_count": 148,
     "metadata": {},
     "output_type": "execute_result"
    }
   ],
   "source": [
    "df['weight'].unique()"
   ]
  },
  {
   "cell_type": "code",
   "execution_count": null,
   "id": "f237dd56",
   "metadata": {},
   "outputs": [],
   "source": []
  }
 ],
 "metadata": {
  "kernelspec": {
   "display_name": "Python 3 (ipykernel)",
   "language": "python",
   "name": "python3"
  },
  "language_info": {
   "codemirror_mode": {
    "name": "ipython",
    "version": 3
   },
   "file_extension": ".py",
   "mimetype": "text/x-python",
   "name": "python",
   "nbconvert_exporter": "python",
   "pygments_lexer": "ipython3",
   "version": "3.9.12"
  }
 },
 "nbformat": 4,
 "nbformat_minor": 5
}
