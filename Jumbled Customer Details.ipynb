{
 "cells": [
  {
   "cell_type": "code",
   "execution_count": 100,
   "id": "14734fa4",
   "metadata": {},
   "outputs": [],
   "source": [
    "import pandas as pd"
   ]
  },
  {
   "cell_type": "code",
   "execution_count": 112,
   "id": "48880acd",
   "metadata": {},
   "outputs": [
    {
     "data": {
      "text/html": [
       "<div>\n",
       "<style scoped>\n",
       "    .dataframe tbody tr th:only-of-type {\n",
       "        vertical-align: middle;\n",
       "    }\n",
       "\n",
       "    .dataframe tbody tr th {\n",
       "        vertical-align: top;\n",
       "    }\n",
       "\n",
       "    .dataframe thead th {\n",
       "        text-align: right;\n",
       "    }\n",
       "</style>\n",
       "<table border=\"1\" class=\"dataframe\">\n",
       "  <thead>\n",
       "    <tr style=\"text-align: right;\">\n",
       "      <th></th>\n",
       "      <th>Name</th>\n",
       "      <th>Address</th>\n",
       "      <th>Age</th>\n",
       "      <th>Gender</th>\n",
       "    </tr>\n",
       "  </thead>\n",
       "  <tbody>\n",
       "    <tr>\n",
       "      <th>0</th>\n",
       "      <td>Name Hussein Hakeem Address Number 22 Fioye Cr...</td>\n",
       "      <td>NaN</td>\n",
       "      <td>NaN</td>\n",
       "      <td>NaN</td>\n",
       "    </tr>\n",
       "    <tr>\n",
       "      <th>1</th>\n",
       "      <td>Name Arojoye Samuel Address 11 Omolade Close O...</td>\n",
       "      <td>NaN</td>\n",
       "      <td>NaN</td>\n",
       "      <td>NaN</td>\n",
       "    </tr>\n",
       "    <tr>\n",
       "      <th>2</th>\n",
       "      <td>Name Alex Ezurum Address 1 Adamu Lane, Abuja A...</td>\n",
       "      <td>NaN</td>\n",
       "      <td>NaN</td>\n",
       "      <td>NaN</td>\n",
       "    </tr>\n",
       "    <tr>\n",
       "      <th>3</th>\n",
       "      <td>Name Susan Nwaimo Address Number 58 Yaba Stree...</td>\n",
       "      <td>NaN</td>\n",
       "      <td>NaN</td>\n",
       "      <td>NaN</td>\n",
       "    </tr>\n",
       "    <tr>\n",
       "      <th>4</th>\n",
       "      <td>Name Ajao Opeyemi Address No12 Olubunmi Street...</td>\n",
       "      <td>NaN</td>\n",
       "      <td>NaN</td>\n",
       "      <td>NaN</td>\n",
       "    </tr>\n",
       "    <tr>\n",
       "      <th>5</th>\n",
       "      <td>Name Banjoko Adebusola Address 34 Ngige Street...</td>\n",
       "      <td>NaN</td>\n",
       "      <td>NaN</td>\n",
       "      <td>NaN</td>\n",
       "    </tr>\n",
       "    <tr>\n",
       "      <th>6</th>\n",
       "      <td>Name Muhammed Olabisi Address 13, ICAN road, E...</td>\n",
       "      <td>NaN</td>\n",
       "      <td>NaN</td>\n",
       "      <td>NaN</td>\n",
       "    </tr>\n",
       "    <tr>\n",
       "      <th>7</th>\n",
       "      <td>Name Oluwagbemi Mojisola Address ACCA Lane, On...</td>\n",
       "      <td>NaN</td>\n",
       "      <td>NaN</td>\n",
       "      <td>NaN</td>\n",
       "    </tr>\n",
       "  </tbody>\n",
       "</table>\n",
       "</div>"
      ],
      "text/plain": [
       "                                                Name  Address  Age  Gender\n",
       "0  Name Hussein Hakeem Address Number 22 Fioye Cr...      NaN  NaN     NaN\n",
       "1  Name Arojoye Samuel Address 11 Omolade Close O...      NaN  NaN     NaN\n",
       "2  Name Alex Ezurum Address 1 Adamu Lane, Abuja A...      NaN  NaN     NaN\n",
       "3  Name Susan Nwaimo Address Number 58 Yaba Stree...      NaN  NaN     NaN\n",
       "4  Name Ajao Opeyemi Address No12 Olubunmi Street...      NaN  NaN     NaN\n",
       "5  Name Banjoko Adebusola Address 34 Ngige Street...      NaN  NaN     NaN\n",
       "6  Name Muhammed Olabisi Address 13, ICAN road, E...      NaN  NaN     NaN\n",
       "7  Name Oluwagbemi Mojisola Address ACCA Lane, On...      NaN  NaN     NaN"
      ]
     },
     "execution_count": 112,
     "metadata": {},
     "output_type": "execute_result"
    }
   ],
   "source": [
    "df = pd.read_excel('5.-Jumbled-up-Customers-Details.xlsx')\n",
    "df"
   ]
  },
  {
   "cell_type": "code",
   "execution_count": 113,
   "id": "aaea54b8",
   "metadata": {
    "scrolled": true
   },
   "outputs": [
    {
     "data": {
      "text/plain": [
       "Index(['Name', 'Address', 'Age', 'Gender'], dtype='object')"
      ]
     },
     "execution_count": 113,
     "metadata": {},
     "output_type": "execute_result"
    }
   ],
   "source": [
    "df.columns"
   ]
  },
  {
   "cell_type": "markdown",
   "id": "c1365981",
   "metadata": {},
   "source": [
    "#### Issue 1"
   ]
  },
  {
   "cell_type": "code",
   "execution_count": 114,
   "id": "13d90c89",
   "metadata": {},
   "outputs": [],
   "source": [
    "# Converting all the header name into lower case\n",
    "df.columns = [x.lower() for x in df.columns]"
   ]
  },
  {
   "cell_type": "code",
   "execution_count": 115,
   "id": "38ebda62",
   "metadata": {},
   "outputs": [
    {
     "data": {
      "text/html": [
       "<div>\n",
       "<style scoped>\n",
       "    .dataframe tbody tr th:only-of-type {\n",
       "        vertical-align: middle;\n",
       "    }\n",
       "\n",
       "    .dataframe tbody tr th {\n",
       "        vertical-align: top;\n",
       "    }\n",
       "\n",
       "    .dataframe thead th {\n",
       "        text-align: right;\n",
       "    }\n",
       "</style>\n",
       "<table border=\"1\" class=\"dataframe\">\n",
       "  <thead>\n",
       "    <tr style=\"text-align: right;\">\n",
       "      <th></th>\n",
       "      <th>name</th>\n",
       "      <th>address</th>\n",
       "      <th>age</th>\n",
       "      <th>gender</th>\n",
       "    </tr>\n",
       "  </thead>\n",
       "  <tbody>\n",
       "    <tr>\n",
       "      <th>0</th>\n",
       "      <td>Name Hussein Hakeem Address Number 22 Fioye Cr...</td>\n",
       "      <td>NaN</td>\n",
       "      <td>NaN</td>\n",
       "      <td>NaN</td>\n",
       "    </tr>\n",
       "    <tr>\n",
       "      <th>1</th>\n",
       "      <td>Name Arojoye Samuel Address 11 Omolade Close O...</td>\n",
       "      <td>NaN</td>\n",
       "      <td>NaN</td>\n",
       "      <td>NaN</td>\n",
       "    </tr>\n",
       "    <tr>\n",
       "      <th>2</th>\n",
       "      <td>Name Alex Ezurum Address 1 Adamu Lane, Abuja A...</td>\n",
       "      <td>NaN</td>\n",
       "      <td>NaN</td>\n",
       "      <td>NaN</td>\n",
       "    </tr>\n",
       "    <tr>\n",
       "      <th>3</th>\n",
       "      <td>Name Susan Nwaimo Address Number 58 Yaba Stree...</td>\n",
       "      <td>NaN</td>\n",
       "      <td>NaN</td>\n",
       "      <td>NaN</td>\n",
       "    </tr>\n",
       "    <tr>\n",
       "      <th>4</th>\n",
       "      <td>Name Ajao Opeyemi Address No12 Olubunmi Street...</td>\n",
       "      <td>NaN</td>\n",
       "      <td>NaN</td>\n",
       "      <td>NaN</td>\n",
       "    </tr>\n",
       "    <tr>\n",
       "      <th>5</th>\n",
       "      <td>Name Banjoko Adebusola Address 34 Ngige Street...</td>\n",
       "      <td>NaN</td>\n",
       "      <td>NaN</td>\n",
       "      <td>NaN</td>\n",
       "    </tr>\n",
       "    <tr>\n",
       "      <th>6</th>\n",
       "      <td>Name Muhammed Olabisi Address 13, ICAN road, E...</td>\n",
       "      <td>NaN</td>\n",
       "      <td>NaN</td>\n",
       "      <td>NaN</td>\n",
       "    </tr>\n",
       "    <tr>\n",
       "      <th>7</th>\n",
       "      <td>Name Oluwagbemi Mojisola Address ACCA Lane, On...</td>\n",
       "      <td>NaN</td>\n",
       "      <td>NaN</td>\n",
       "      <td>NaN</td>\n",
       "    </tr>\n",
       "  </tbody>\n",
       "</table>\n",
       "</div>"
      ],
      "text/plain": [
       "                                                name  address  age  gender\n",
       "0  Name Hussein Hakeem Address Number 22 Fioye Cr...      NaN  NaN     NaN\n",
       "1  Name Arojoye Samuel Address 11 Omolade Close O...      NaN  NaN     NaN\n",
       "2  Name Alex Ezurum Address 1 Adamu Lane, Abuja A...      NaN  NaN     NaN\n",
       "3  Name Susan Nwaimo Address Number 58 Yaba Stree...      NaN  NaN     NaN\n",
       "4  Name Ajao Opeyemi Address No12 Olubunmi Street...      NaN  NaN     NaN\n",
       "5  Name Banjoko Adebusola Address 34 Ngige Street...      NaN  NaN     NaN\n",
       "6  Name Muhammed Olabisi Address 13, ICAN road, E...      NaN  NaN     NaN\n",
       "7  Name Oluwagbemi Mojisola Address ACCA Lane, On...      NaN  NaN     NaN"
      ]
     },
     "execution_count": 115,
     "metadata": {},
     "output_type": "execute_result"
    }
   ],
   "source": [
    "df"
   ]
  },
  {
   "cell_type": "code",
   "execution_count": 116,
   "id": "e52e9a5f",
   "metadata": {},
   "outputs": [
    {
     "name": "stdout",
     "output_type": "stream",
     "text": [
      "Hussein Hakeem\n",
      "Number 22 Fioye Crescent Surulere Lagos\n",
      "17\n",
      "Male\n"
     ]
    }
   ],
   "source": [
    "import re\n",
    "\n",
    "text = 'Name Hussein Hakeem Address Number 22 Fioye Crescent Surulere Lagos Age 17 Gender Male'\n",
    "name = \"\"\n",
    "address = \"\"\n",
    "age = \"\"\n",
    "gender = \"\"\n",
    "try:\n",
    "    name = re.search('Name(.+?)Address', text).group(1).strip()\n",
    "    print(name)\n",
    "\n",
    "    address = re.search('Address(.+?)Age', text).group(1).strip()\n",
    "    print(address)\n",
    "\n",
    "    age = re.search('Age(.+?)Gender', text).group(1).strip()\n",
    "    print(age)\n",
    "\n",
    "\n",
    "    gender = text.split(\"Gender\",1)[1].strip()\n",
    "    print(gender)\n",
    "except AttributeError:\n",
    "    pass"
   ]
  },
  {
   "cell_type": "code",
   "execution_count": 117,
   "id": "045ebee5",
   "metadata": {},
   "outputs": [],
   "source": [
    "def get_name(item):  \n",
    "    try:\n",
    "        name = re.search('Name(.+?)Address', item).group(1).strip()\n",
    "    except AttributeError:\n",
    "        name = \"\" \n",
    "    return name"
   ]
  },
  {
   "cell_type": "code",
   "execution_count": 118,
   "id": "a2c6f0f8",
   "metadata": {},
   "outputs": [],
   "source": [
    "def get_address(item):\n",
    "    try:\n",
    "        address = re.search('Address(.+?)Age', item).group(1).strip()\n",
    "    except AttributeError:\n",
    "         address = \"\"\n",
    "    return address"
   ]
  },
  {
   "cell_type": "code",
   "execution_count": 119,
   "id": "e901abb7",
   "metadata": {},
   "outputs": [],
   "source": [
    "def get_age(item):\n",
    "    try:\n",
    "        age = re.search('Age(.+?)Gender', item).group(1).strip()\n",
    "    except AttributeError:\n",
    "        age = \"\"\n",
    "    return age"
   ]
  },
  {
   "cell_type": "code",
   "execution_count": 120,
   "id": "cb4b5246",
   "metadata": {},
   "outputs": [],
   "source": [
    "def get_gender(item):\n",
    "    try:\n",
    "        gender = text.split(\"Gender\",1)[1].strip()\n",
    "    except AttributeError:\n",
    "        gender = \"\"\n",
    "    return gender"
   ]
  },
  {
   "cell_type": "code",
   "execution_count": 121,
   "id": "99887390",
   "metadata": {},
   "outputs": [],
   "source": [
    "df['address'] = df['name'].apply(get_address)\n",
    "df['age'] = df['name'].apply(get_age)\n",
    "df['gender'] = df['name'].apply(get_gender)\n",
    "df['name'] = df['name'].apply(get_name)"
   ]
  },
  {
   "cell_type": "code",
   "execution_count": 122,
   "id": "27802713",
   "metadata": {},
   "outputs": [
    {
     "data": {
      "text/html": [
       "<div>\n",
       "<style scoped>\n",
       "    .dataframe tbody tr th:only-of-type {\n",
       "        vertical-align: middle;\n",
       "    }\n",
       "\n",
       "    .dataframe tbody tr th {\n",
       "        vertical-align: top;\n",
       "    }\n",
       "\n",
       "    .dataframe thead th {\n",
       "        text-align: right;\n",
       "    }\n",
       "</style>\n",
       "<table border=\"1\" class=\"dataframe\">\n",
       "  <thead>\n",
       "    <tr style=\"text-align: right;\">\n",
       "      <th></th>\n",
       "      <th>name</th>\n",
       "      <th>address</th>\n",
       "      <th>age</th>\n",
       "      <th>gender</th>\n",
       "    </tr>\n",
       "  </thead>\n",
       "  <tbody>\n",
       "    <tr>\n",
       "      <th>0</th>\n",
       "      <td>Hussein Hakeem</td>\n",
       "      <td>Number 22 Fioye Crescent Surulere Lagos</td>\n",
       "      <td>17</td>\n",
       "      <td>Male</td>\n",
       "    </tr>\n",
       "    <tr>\n",
       "      <th>1</th>\n",
       "      <td>Arojoye Samuel</td>\n",
       "      <td>11 Omolade Close Omole Estate Lagos</td>\n",
       "      <td>16</td>\n",
       "      <td>Male</td>\n",
       "    </tr>\n",
       "    <tr>\n",
       "      <th>2</th>\n",
       "      <td>Alex Ezurum</td>\n",
       "      <td>1 Adamu Lane, Abuja</td>\n",
       "      <td>14</td>\n",
       "      <td>Male</td>\n",
       "    </tr>\n",
       "    <tr>\n",
       "      <th>3</th>\n",
       "      <td>Susan Nwaimo</td>\n",
       "      <td>Number 58 Yaba Street, Kaduna State</td>\n",
       "      <td>16</td>\n",
       "      <td>Male</td>\n",
       "    </tr>\n",
       "    <tr>\n",
       "      <th>4</th>\n",
       "      <td>Ajao Opeyemi</td>\n",
       "      <td>No12 Olubunmi Street, Abeokuta</td>\n",
       "      <td>18</td>\n",
       "      <td>Male</td>\n",
       "    </tr>\n",
       "    <tr>\n",
       "      <th>5</th>\n",
       "      <td>Banjoko Adebusola</td>\n",
       "      <td>34 Ngige Street, Ugheli, Delta</td>\n",
       "      <td>14</td>\n",
       "      <td>Male</td>\n",
       "    </tr>\n",
       "    <tr>\n",
       "      <th>6</th>\n",
       "      <td>Muhammed Olabisi</td>\n",
       "      <td>13, ICAN road, Enugu</td>\n",
       "      <td>12</td>\n",
       "      <td>Male</td>\n",
       "    </tr>\n",
       "    <tr>\n",
       "      <th>7</th>\n",
       "      <td>Oluwagbemi Mojisola</td>\n",
       "      <td>ACCA Lane, Onitsha</td>\n",
       "      <td>13</td>\n",
       "      <td>Male</td>\n",
       "    </tr>\n",
       "  </tbody>\n",
       "</table>\n",
       "</div>"
      ],
      "text/plain": [
       "                  name                                  address age gender\n",
       "0       Hussein Hakeem  Number 22 Fioye Crescent Surulere Lagos  17   Male\n",
       "1       Arojoye Samuel      11 Omolade Close Omole Estate Lagos  16   Male\n",
       "2          Alex Ezurum                      1 Adamu Lane, Abuja  14   Male\n",
       "3         Susan Nwaimo      Number 58 Yaba Street, Kaduna State  16   Male\n",
       "4         Ajao Opeyemi           No12 Olubunmi Street, Abeokuta  18   Male\n",
       "5    Banjoko Adebusola           34 Ngige Street, Ugheli, Delta  14   Male\n",
       "6     Muhammed Olabisi                     13, ICAN road, Enugu  12   Male\n",
       "7  Oluwagbemi Mojisola                       ACCA Lane, Onitsha  13   Male"
      ]
     },
     "execution_count": 122,
     "metadata": {},
     "output_type": "execute_result"
    }
   ],
   "source": [
    "df"
   ]
  },
  {
   "cell_type": "code",
   "execution_count": null,
   "id": "7b753f93",
   "metadata": {},
   "outputs": [],
   "source": []
  }
 ],
 "metadata": {
  "kernelspec": {
   "display_name": "Python 3 (ipykernel)",
   "language": "python",
   "name": "python3"
  },
  "language_info": {
   "codemirror_mode": {
    "name": "ipython",
    "version": 3
   },
   "file_extension": ".py",
   "mimetype": "text/x-python",
   "name": "python",
   "nbconvert_exporter": "python",
   "pygments_lexer": "ipython3",
   "version": "3.9.12"
  }
 },
 "nbformat": 4,
 "nbformat_minor": 5
}
