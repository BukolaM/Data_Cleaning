{
 "cells": [
  {
   "cell_type": "code",
   "execution_count": 9,
   "id": "14734fa4",
   "metadata": {},
   "outputs": [],
   "source": [
    "import pandas as pd"
   ]
  },
  {
   "cell_type": "code",
   "execution_count": 11,
   "id": "48880acd",
   "metadata": {},
   "outputs": [
    {
     "data": {
      "text/html": [
       "<div>\n",
       "<style scoped>\n",
       "    .dataframe tbody tr th:only-of-type {\n",
       "        vertical-align: middle;\n",
       "    }\n",
       "\n",
       "    .dataframe tbody tr th {\n",
       "        vertical-align: top;\n",
       "    }\n",
       "\n",
       "    .dataframe thead th {\n",
       "        text-align: right;\n",
       "    }\n",
       "</style>\n",
       "<table border=\"1\" class=\"dataframe\">\n",
       "  <thead>\n",
       "    <tr style=\"text-align: right;\">\n",
       "      <th></th>\n",
       "      <th>Name</th>\n",
       "      <th>Address</th>\n",
       "      <th>Age</th>\n",
       "      <th>Gender</th>\n",
       "    </tr>\n",
       "  </thead>\n",
       "  <tbody>\n",
       "    <tr>\n",
       "      <th>0</th>\n",
       "      <td>Name Hussein Hakeem Address Number 22 Fioye Cr...</td>\n",
       "      <td>NaN</td>\n",
       "      <td>NaN</td>\n",
       "      <td>NaN</td>\n",
       "    </tr>\n",
       "    <tr>\n",
       "      <th>1</th>\n",
       "      <td>Name Arojoye Samuel Address 11 Omolade Close O...</td>\n",
       "      <td>NaN</td>\n",
       "      <td>NaN</td>\n",
       "      <td>NaN</td>\n",
       "    </tr>\n",
       "    <tr>\n",
       "      <th>2</th>\n",
       "      <td>Name Alex Ezurum Address 1 Adamu Lane, Abuja A...</td>\n",
       "      <td>NaN</td>\n",
       "      <td>NaN</td>\n",
       "      <td>NaN</td>\n",
       "    </tr>\n",
       "    <tr>\n",
       "      <th>3</th>\n",
       "      <td>Name Susan Nwaimo Address Number 58 Yaba Stree...</td>\n",
       "      <td>NaN</td>\n",
       "      <td>NaN</td>\n",
       "      <td>NaN</td>\n",
       "    </tr>\n",
       "    <tr>\n",
       "      <th>4</th>\n",
       "      <td>Name Ajao Opeyemi Address No12 Olubunmi Street...</td>\n",
       "      <td>NaN</td>\n",
       "      <td>NaN</td>\n",
       "      <td>NaN</td>\n",
       "    </tr>\n",
       "    <tr>\n",
       "      <th>5</th>\n",
       "      <td>Name Banjoko Adebusola Address 34 Ngige Street...</td>\n",
       "      <td>NaN</td>\n",
       "      <td>NaN</td>\n",
       "      <td>NaN</td>\n",
       "    </tr>\n",
       "    <tr>\n",
       "      <th>6</th>\n",
       "      <td>Name Muhammed Olabisi Address 13, ICAN road, E...</td>\n",
       "      <td>NaN</td>\n",
       "      <td>NaN</td>\n",
       "      <td>NaN</td>\n",
       "    </tr>\n",
       "    <tr>\n",
       "      <th>7</th>\n",
       "      <td>Name Oluwagbemi Mojisola Address ACCA Lane, On...</td>\n",
       "      <td>NaN</td>\n",
       "      <td>NaN</td>\n",
       "      <td>NaN</td>\n",
       "    </tr>\n",
       "  </tbody>\n",
       "</table>\n",
       "</div>"
      ],
      "text/plain": [
       "                                                Name  Address  Age  Gender\n",
       "0  Name Hussein Hakeem Address Number 22 Fioye Cr...      NaN  NaN     NaN\n",
       "1  Name Arojoye Samuel Address 11 Omolade Close O...      NaN  NaN     NaN\n",
       "2  Name Alex Ezurum Address 1 Adamu Lane, Abuja A...      NaN  NaN     NaN\n",
       "3  Name Susan Nwaimo Address Number 58 Yaba Stree...      NaN  NaN     NaN\n",
       "4  Name Ajao Opeyemi Address No12 Olubunmi Street...      NaN  NaN     NaN\n",
       "5  Name Banjoko Adebusola Address 34 Ngige Street...      NaN  NaN     NaN\n",
       "6  Name Muhammed Olabisi Address 13, ICAN road, E...      NaN  NaN     NaN\n",
       "7  Name Oluwagbemi Mojisola Address ACCA Lane, On...      NaN  NaN     NaN"
      ]
     },
     "execution_count": 11,
     "metadata": {},
     "output_type": "execute_result"
    }
   ],
   "source": [
    "df = pd.read_excel('5.-Jumbled-up-Customers-Details.xlsx')\n",
    "df"
   ]
  },
  {
   "cell_type": "code",
   "execution_count": 12,
   "id": "363e5bbb",
   "metadata": {
    "scrolled": true
   },
   "outputs": [
    {
     "data": {
      "text/plain": [
       "Index(['Name', 'Address', 'Age', 'Gender'], dtype='object')"
      ]
     },
     "execution_count": 12,
     "metadata": {},
     "output_type": "execute_result"
    }
   ],
   "source": [
    "df.columns"
   ]
  },
  {
   "cell_type": "markdown",
   "id": "d7feee8a",
   "metadata": {},
   "source": [
    "#### Issue 1"
   ]
  },
  {
   "cell_type": "code",
   "execution_count": 13,
   "id": "e08c95a2",
   "metadata": {},
   "outputs": [],
   "source": [
    "# Converting all the header name into lower case\n",
    "df.columns = [x.lower() for x in df.columns]"
   ]
  },
  {
   "cell_type": "code",
   "execution_count": 14,
   "id": "38de4278",
   "metadata": {},
   "outputs": [
    {
     "data": {
      "text/html": [
       "<div>\n",
       "<style scoped>\n",
       "    .dataframe tbody tr th:only-of-type {\n",
       "        vertical-align: middle;\n",
       "    }\n",
       "\n",
       "    .dataframe tbody tr th {\n",
       "        vertical-align: top;\n",
       "    }\n",
       "\n",
       "    .dataframe thead th {\n",
       "        text-align: right;\n",
       "    }\n",
       "</style>\n",
       "<table border=\"1\" class=\"dataframe\">\n",
       "  <thead>\n",
       "    <tr style=\"text-align: right;\">\n",
       "      <th></th>\n",
       "      <th>name</th>\n",
       "      <th>address</th>\n",
       "      <th>age</th>\n",
       "      <th>gender</th>\n",
       "    </tr>\n",
       "  </thead>\n",
       "  <tbody>\n",
       "    <tr>\n",
       "      <th>0</th>\n",
       "      <td>Name Hussein Hakeem Address Number 22 Fioye Cr...</td>\n",
       "      <td>NaN</td>\n",
       "      <td>NaN</td>\n",
       "      <td>NaN</td>\n",
       "    </tr>\n",
       "    <tr>\n",
       "      <th>1</th>\n",
       "      <td>Name Arojoye Samuel Address 11 Omolade Close O...</td>\n",
       "      <td>NaN</td>\n",
       "      <td>NaN</td>\n",
       "      <td>NaN</td>\n",
       "    </tr>\n",
       "    <tr>\n",
       "      <th>2</th>\n",
       "      <td>Name Alex Ezurum Address 1 Adamu Lane, Abuja A...</td>\n",
       "      <td>NaN</td>\n",
       "      <td>NaN</td>\n",
       "      <td>NaN</td>\n",
       "    </tr>\n",
       "    <tr>\n",
       "      <th>3</th>\n",
       "      <td>Name Susan Nwaimo Address Number 58 Yaba Stree...</td>\n",
       "      <td>NaN</td>\n",
       "      <td>NaN</td>\n",
       "      <td>NaN</td>\n",
       "    </tr>\n",
       "    <tr>\n",
       "      <th>4</th>\n",
       "      <td>Name Ajao Opeyemi Address No12 Olubunmi Street...</td>\n",
       "      <td>NaN</td>\n",
       "      <td>NaN</td>\n",
       "      <td>NaN</td>\n",
       "    </tr>\n",
       "    <tr>\n",
       "      <th>5</th>\n",
       "      <td>Name Banjoko Adebusola Address 34 Ngige Street...</td>\n",
       "      <td>NaN</td>\n",
       "      <td>NaN</td>\n",
       "      <td>NaN</td>\n",
       "    </tr>\n",
       "    <tr>\n",
       "      <th>6</th>\n",
       "      <td>Name Muhammed Olabisi Address 13, ICAN road, E...</td>\n",
       "      <td>NaN</td>\n",
       "      <td>NaN</td>\n",
       "      <td>NaN</td>\n",
       "    </tr>\n",
       "    <tr>\n",
       "      <th>7</th>\n",
       "      <td>Name Oluwagbemi Mojisola Address ACCA Lane, On...</td>\n",
       "      <td>NaN</td>\n",
       "      <td>NaN</td>\n",
       "      <td>NaN</td>\n",
       "    </tr>\n",
       "  </tbody>\n",
       "</table>\n",
       "</div>"
      ],
      "text/plain": [
       "                                                name  address  age  gender\n",
       "0  Name Hussein Hakeem Address Number 22 Fioye Cr...      NaN  NaN     NaN\n",
       "1  Name Arojoye Samuel Address 11 Omolade Close O...      NaN  NaN     NaN\n",
       "2  Name Alex Ezurum Address 1 Adamu Lane, Abuja A...      NaN  NaN     NaN\n",
       "3  Name Susan Nwaimo Address Number 58 Yaba Stree...      NaN  NaN     NaN\n",
       "4  Name Ajao Opeyemi Address No12 Olubunmi Street...      NaN  NaN     NaN\n",
       "5  Name Banjoko Adebusola Address 34 Ngige Street...      NaN  NaN     NaN\n",
       "6  Name Muhammed Olabisi Address 13, ICAN road, E...      NaN  NaN     NaN\n",
       "7  Name Oluwagbemi Mojisola Address ACCA Lane, On...      NaN  NaN     NaN"
      ]
     },
     "execution_count": 14,
     "metadata": {},
     "output_type": "execute_result"
    }
   ],
   "source": [
    "df"
   ]
  },
  {
   "cell_type": "code",
   "execution_count": 15,
   "id": "e6e4c6e3",
   "metadata": {},
   "outputs": [],
   "source": [
    "def arrange_data(item):\n",
    "    item = item.split(' ')\n",
    "    return (item)"
   ]
  },
  {
   "cell_type": "code",
   "execution_count": 16,
   "id": "a8d63e62",
   "metadata": {},
   "outputs": [
    {
     "name": "stdout",
     "output_type": "stream",
     "text": [
      "['Name', 'Hussein', 'Hakeem', 'Address', 'Number', '22', 'Fioye', 'Crescent', 'Surulere', 'Lagos', 'Age', '17', 'Gender', 'Male']\n"
     ]
    }
   ],
   "source": [
    "a = arrange_data('Name Hussein Hakeem Address Number 22 Fioye Crescent Surulere Lagos Age 17 Gender Male')\n",
    "print(a)"
   ]
  },
  {
   "cell_type": "code",
   "execution_count": null,
   "id": "1e002e31",
   "metadata": {},
   "outputs": [],
   "source": []
  }
 ],
 "metadata": {
  "kernelspec": {
   "display_name": "Python 3 (ipykernel)",
   "language": "python",
   "name": "python3"
  },
  "language_info": {
   "codemirror_mode": {
    "name": "ipython",
    "version": 3
   },
   "file_extension": ".py",
   "mimetype": "text/x-python",
   "name": "python",
   "nbconvert_exporter": "python",
   "pygments_lexer": "ipython3",
   "version": "3.9.12"
  }
 },
 "nbformat": 4,
 "nbformat_minor": 5
}
