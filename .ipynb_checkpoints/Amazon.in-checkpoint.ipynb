{
 "cells": [
  {
   "cell_type": "code",
   "execution_count": 102,
   "id": "85a7399a",
   "metadata": {},
   "outputs": [],
   "source": [
    "import pandas as pd\n",
    "import matplotlib.pyplot as plt\n",
    "\n",
    "\n",
    "import warnings\n",
    "#suppress future warnings\n",
    "warnings.simplefilter(action = \"ignore\", category = FutureWarning)"
   ]
  },
  {
   "cell_type": "code",
   "execution_count": 103,
   "id": "8e183bc5",
   "metadata": {},
   "outputs": [
    {
     "name": "stderr",
     "output_type": "stream",
     "text": [
      "/var/folders/73/dfnlcqg57w7btn76pt1r17cm0000gp/T/ipykernel_27865/49390194.py:1: DtypeWarning: Columns (23) have mixed types. Specify dtype option on import or set low_memory=False.\n",
      "  df = pd.read_csv(\"Amazon Sale Report.csv\", index_col = \"index\")\n"
     ]
    },
    {
     "data": {
      "text/html": [
       "<div>\n",
       "<style scoped>\n",
       "    .dataframe tbody tr th:only-of-type {\n",
       "        vertical-align: middle;\n",
       "    }\n",
       "\n",
       "    .dataframe tbody tr th {\n",
       "        vertical-align: top;\n",
       "    }\n",
       "\n",
       "    .dataframe thead th {\n",
       "        text-align: right;\n",
       "    }\n",
       "</style>\n",
       "<table border=\"1\" class=\"dataframe\">\n",
       "  <thead>\n",
       "    <tr style=\"text-align: right;\">\n",
       "      <th></th>\n",
       "      <th>Order ID</th>\n",
       "      <th>Date</th>\n",
       "      <th>Status</th>\n",
       "      <th>Fulfilment</th>\n",
       "      <th>Sales Channel</th>\n",
       "      <th>ship-service-level</th>\n",
       "      <th>Style</th>\n",
       "      <th>SKU</th>\n",
       "      <th>Category</th>\n",
       "      <th>Size</th>\n",
       "      <th>ASIN</th>\n",
       "      <th>Courier Status</th>\n",
       "      <th>Qty</th>\n",
       "      <th>currency</th>\n",
       "      <th>Amount</th>\n",
       "      <th>ship-city</th>\n",
       "      <th>ship-state</th>\n",
       "      <th>ship-postal-code</th>\n",
       "      <th>ship-country</th>\n",
       "      <th>promotion-ids</th>\n",
       "      <th>B2B</th>\n",
       "      <th>fulfilled-by</th>\n",
       "      <th>Unnamed: 22</th>\n",
       "    </tr>\n",
       "    <tr>\n",
       "      <th>index</th>\n",
       "      <th></th>\n",
       "      <th></th>\n",
       "      <th></th>\n",
       "      <th></th>\n",
       "      <th></th>\n",
       "      <th></th>\n",
       "      <th></th>\n",
       "      <th></th>\n",
       "      <th></th>\n",
       "      <th></th>\n",
       "      <th></th>\n",
       "      <th></th>\n",
       "      <th></th>\n",
       "      <th></th>\n",
       "      <th></th>\n",
       "      <th></th>\n",
       "      <th></th>\n",
       "      <th></th>\n",
       "      <th></th>\n",
       "      <th></th>\n",
       "      <th></th>\n",
       "      <th></th>\n",
       "      <th></th>\n",
       "    </tr>\n",
       "  </thead>\n",
       "  <tbody>\n",
       "    <tr>\n",
       "      <th>0</th>\n",
       "      <td>405-8078784-5731545</td>\n",
       "      <td>04-30-22</td>\n",
       "      <td>Cancelled</td>\n",
       "      <td>Merchant</td>\n",
       "      <td>Amazon.in</td>\n",
       "      <td>Standard</td>\n",
       "      <td>SET389</td>\n",
       "      <td>SET389-KR-NP-S</td>\n",
       "      <td>Set</td>\n",
       "      <td>S</td>\n",
       "      <td>B09KXVBD7Z</td>\n",
       "      <td>NaN</td>\n",
       "      <td>0</td>\n",
       "      <td>INR</td>\n",
       "      <td>647.62</td>\n",
       "      <td>MUMBAI</td>\n",
       "      <td>MAHARASHTRA</td>\n",
       "      <td>400081.0</td>\n",
       "      <td>IN</td>\n",
       "      <td>NaN</td>\n",
       "      <td>False</td>\n",
       "      <td>Easy Ship</td>\n",
       "      <td>NaN</td>\n",
       "    </tr>\n",
       "    <tr>\n",
       "      <th>1</th>\n",
       "      <td>171-9198151-1101146</td>\n",
       "      <td>04-30-22</td>\n",
       "      <td>Shipped - Delivered to Buyer</td>\n",
       "      <td>Merchant</td>\n",
       "      <td>Amazon.in</td>\n",
       "      <td>Standard</td>\n",
       "      <td>JNE3781</td>\n",
       "      <td>JNE3781-KR-XXXL</td>\n",
       "      <td>kurta</td>\n",
       "      <td>3XL</td>\n",
       "      <td>B09K3WFS32</td>\n",
       "      <td>Shipped</td>\n",
       "      <td>1</td>\n",
       "      <td>INR</td>\n",
       "      <td>406.00</td>\n",
       "      <td>BENGALURU</td>\n",
       "      <td>KARNATAKA</td>\n",
       "      <td>560085.0</td>\n",
       "      <td>IN</td>\n",
       "      <td>Amazon PLCC Free-Financing Universal Merchant ...</td>\n",
       "      <td>False</td>\n",
       "      <td>Easy Ship</td>\n",
       "      <td>NaN</td>\n",
       "    </tr>\n",
       "    <tr>\n",
       "      <th>2</th>\n",
       "      <td>404-0687676-7273146</td>\n",
       "      <td>04-30-22</td>\n",
       "      <td>Shipped</td>\n",
       "      <td>Amazon</td>\n",
       "      <td>Amazon.in</td>\n",
       "      <td>Expedited</td>\n",
       "      <td>JNE3371</td>\n",
       "      <td>JNE3371-KR-XL</td>\n",
       "      <td>kurta</td>\n",
       "      <td>XL</td>\n",
       "      <td>B07WV4JV4D</td>\n",
       "      <td>Shipped</td>\n",
       "      <td>1</td>\n",
       "      <td>INR</td>\n",
       "      <td>329.00</td>\n",
       "      <td>NAVI MUMBAI</td>\n",
       "      <td>MAHARASHTRA</td>\n",
       "      <td>410210.0</td>\n",
       "      <td>IN</td>\n",
       "      <td>IN Core Free Shipping 2015/04/08 23-48-5-108</td>\n",
       "      <td>True</td>\n",
       "      <td>NaN</td>\n",
       "      <td>NaN</td>\n",
       "    </tr>\n",
       "    <tr>\n",
       "      <th>3</th>\n",
       "      <td>403-9615377-8133951</td>\n",
       "      <td>04-30-22</td>\n",
       "      <td>Cancelled</td>\n",
       "      <td>Merchant</td>\n",
       "      <td>Amazon.in</td>\n",
       "      <td>Standard</td>\n",
       "      <td>J0341</td>\n",
       "      <td>J0341-DR-L</td>\n",
       "      <td>Western Dress</td>\n",
       "      <td>L</td>\n",
       "      <td>B099NRCT7B</td>\n",
       "      <td>NaN</td>\n",
       "      <td>0</td>\n",
       "      <td>INR</td>\n",
       "      <td>753.33</td>\n",
       "      <td>PUDUCHERRY</td>\n",
       "      <td>PUDUCHERRY</td>\n",
       "      <td>605008.0</td>\n",
       "      <td>IN</td>\n",
       "      <td>NaN</td>\n",
       "      <td>False</td>\n",
       "      <td>Easy Ship</td>\n",
       "      <td>NaN</td>\n",
       "    </tr>\n",
       "  </tbody>\n",
       "</table>\n",
       "</div>"
      ],
      "text/plain": [
       "                  Order ID      Date                        Status Fulfilment  \\\n",
       "index                                                                           \n",
       "0      405-8078784-5731545  04-30-22                     Cancelled   Merchant   \n",
       "1      171-9198151-1101146  04-30-22  Shipped - Delivered to Buyer   Merchant   \n",
       "2      404-0687676-7273146  04-30-22                       Shipped     Amazon   \n",
       "3      403-9615377-8133951  04-30-22                     Cancelled   Merchant   \n",
       "\n",
       "      Sales Channel  ship-service-level    Style              SKU  \\\n",
       "index                                                               \n",
       "0          Amazon.in           Standard   SET389   SET389-KR-NP-S   \n",
       "1          Amazon.in           Standard  JNE3781  JNE3781-KR-XXXL   \n",
       "2          Amazon.in          Expedited  JNE3371    JNE3371-KR-XL   \n",
       "3          Amazon.in           Standard    J0341       J0341-DR-L   \n",
       "\n",
       "            Category Size        ASIN Courier Status  Qty currency  Amount  \\\n",
       "index                                                                        \n",
       "0                Set    S  B09KXVBD7Z            NaN    0      INR  647.62   \n",
       "1              kurta  3XL  B09K3WFS32        Shipped    1      INR  406.00   \n",
       "2              kurta   XL  B07WV4JV4D        Shipped    1      INR  329.00   \n",
       "3      Western Dress    L  B099NRCT7B            NaN    0      INR  753.33   \n",
       "\n",
       "         ship-city   ship-state  ship-postal-code ship-country  \\\n",
       "index                                                            \n",
       "0           MUMBAI  MAHARASHTRA          400081.0           IN   \n",
       "1        BENGALURU    KARNATAKA          560085.0           IN   \n",
       "2      NAVI MUMBAI  MAHARASHTRA          410210.0           IN   \n",
       "3       PUDUCHERRY   PUDUCHERRY          605008.0           IN   \n",
       "\n",
       "                                           promotion-ids    B2B fulfilled-by  \\\n",
       "index                                                                          \n",
       "0                                                    NaN  False    Easy Ship   \n",
       "1      Amazon PLCC Free-Financing Universal Merchant ...  False    Easy Ship   \n",
       "2           IN Core Free Shipping 2015/04/08 23-48-5-108   True          NaN   \n",
       "3                                                    NaN  False    Easy Ship   \n",
       "\n",
       "      Unnamed: 22  \n",
       "index              \n",
       "0             NaN  \n",
       "1             NaN  \n",
       "2             NaN  \n",
       "3             NaN  "
      ]
     },
     "execution_count": 103,
     "metadata": {},
     "output_type": "execute_result"
    }
   ],
   "source": [
    "df = pd.read_csv(\"Amazon Sale Report.csv\", index_col = \"index\")\n",
    "pd.set_option('display.max_columns', None)\n",
    "df.head(4)"
   ]
  },
  {
   "cell_type": "code",
   "execution_count": 104,
   "id": "3aa878e2",
   "metadata": {
    "scrolled": true
   },
   "outputs": [
    {
     "name": "stdout",
     "output_type": "stream",
     "text": [
      "<class 'pandas.core.frame.DataFrame'>\n",
      "Int64Index: 128975 entries, 0 to 128974\n",
      "Data columns (total 23 columns):\n",
      " #   Column              Non-Null Count   Dtype  \n",
      "---  ------              --------------   -----  \n",
      " 0   Order ID            128975 non-null  object \n",
      " 1   Date                128975 non-null  object \n",
      " 2   Status              128975 non-null  object \n",
      " 3   Fulfilment          128975 non-null  object \n",
      " 4   Sales Channel       128975 non-null  object \n",
      " 5   ship-service-level  128975 non-null  object \n",
      " 6   Style               128975 non-null  object \n",
      " 7   SKU                 128975 non-null  object \n",
      " 8   Category            128975 non-null  object \n",
      " 9   Size                128975 non-null  object \n",
      " 10  ASIN                128975 non-null  object \n",
      " 11  Courier Status      122103 non-null  object \n",
      " 12  Qty                 128975 non-null  int64  \n",
      " 13  currency            121180 non-null  object \n",
      " 14  Amount              121180 non-null  float64\n",
      " 15  ship-city           128942 non-null  object \n",
      " 16  ship-state          128942 non-null  object \n",
      " 17  ship-postal-code    128942 non-null  float64\n",
      " 18  ship-country        128942 non-null  object \n",
      " 19  promotion-ids       79822 non-null   object \n",
      " 20  B2B                 128975 non-null  bool   \n",
      " 21  fulfilled-by        39277 non-null   object \n",
      " 22  Unnamed: 22         79925 non-null   object \n",
      "dtypes: bool(1), float64(2), int64(1), object(19)\n",
      "memory usage: 22.8+ MB\n"
     ]
    }
   ],
   "source": [
    "df.info()"
   ]
  },
  {
   "cell_type": "markdown",
   "id": "830b9970",
   "metadata": {},
   "source": [
    "# Data Cleaning"
   ]
  },
  {
   "cell_type": "markdown",
   "id": "ec76e695",
   "metadata": {},
   "source": [
    "This dataset provides detailed insights into Amazon sales data, including SKU Code, Design Number, Stock, Category, Size and Color, to help optimize product profitability\n",
    "\n",
    "- Category: Type of product. (String)\n",
    "- Size: Size of the product. (String)\n",
    "- Date: Date of the sale. (Date)\n",
    "- Status: Status of the sale. (String)\n",
    "- Fulfilment: Method of fulfilment. (String)\n",
    "- Style: Style of the product. (String)\n",
    "- SKU: Stock Keeping Unit. (String)\n",
    "- ASIN: Amazon Standard Identification Number. (String)\n",
    "- Courier Status: Status of the courier. (String)\n",
    "- Qty: Quantity of the product. (Integer)\n",
    "- Amount: Amount of the sale. (Float)\n",
    "- B2B: Business to business sale. (Boolean)\n",
    "- Currency: The currency used for the sale. (String)"
   ]
  },
  {
   "cell_type": "markdown",
   "id": "50ce8bab",
   "metadata": {},
   "source": [
    "# Renaming DataFrame Columns"
   ]
  },
  {
   "cell_type": "code",
   "execution_count": 105,
   "id": "e6538fbd",
   "metadata": {},
   "outputs": [],
   "source": [
    "#renaming the df columns for clarity\n",
    "df.rename(columns = {'ship-service-level' : 'Ship-Service-Level',\n",
    "                      'SKU' : 'Stock Keeping Unit',\n",
    "                      'ASIN' : 'Amazon Standard Identification Number',\n",
    "                     'currency': 'Currency',\n",
    "                      'ship-city': 'Ship-City',\n",
    "                      'ship-state': 'Ship-State',\n",
    "                      'ship-postal-code' : 'Ship-Postal-Code',\n",
    "                     'ship-country' : 'Ship-Country',\n",
    "                      'promotion-ids': 'Promotion-ids',\n",
    "                     'fulfilled-by' : 'Fulfilled-by'}, inplace = True)"
   ]
  },
  {
   "cell_type": "markdown",
   "id": "872ca6eb",
   "metadata": {},
   "source": [
    "## 1.  Dealing with Courier Status Column"
   ]
  },
  {
   "cell_type": "code",
   "execution_count": 106,
   "id": "0a95a0c8",
   "metadata": {},
   "outputs": [
    {
     "data": {
      "image/png": "[encoded data removed]",
      "text/plain": [
       "<Figure size 432x288 with 1 Axes>"
      ]
     },
     "metadata": {
      "needs_background": "light"
     },
     "output_type": "display_data"
    }
   ],
   "source": [
    "df[\"Courier Status\"].hist(grid = False)\n",
    "plt.show()"
   ]
  },
  {
   "cell_type": "code",
   "execution_count": 95,
   "id": "b8532757",
   "metadata": {
    "scrolled": false
   },
   "outputs": [
    {
     "data": {
      "text/plain": [
       "Shipped      116359\n",
       "Unshipped      6681\n",
       "Cancelled      5935\n",
       "Name: Courier Status, dtype: int64"
      ]
     },
     "execution_count": 95,
     "metadata": {},
     "output_type": "execute_result"
    }
   ],
   "source": [
    "#to get the count of each unique value in the \"courier status\" column\n",
    "df[\"Courier Status\"].value_counts()"
   ]
  },
  {
   "cell_type": "code",
   "execution_count": 89,
   "id": "5a68fbed",
   "metadata": {},
   "outputs": [
    {
     "data": {
      "text/plain": [
       "6872"
      ]
     },
     "execution_count": 89,
     "metadata": {},
     "output_type": "execute_result"
    }
   ],
   "source": [
    "#null values count\n",
    "null_values = df[\"Courier Status\"].isna().sum()\n",
    "null_values "
   ]
  },
  {
   "cell_type": "markdown",
   "id": "6f5d2411",
   "metadata": {},
   "source": [
    "This column is categorical so its best to replace the null values with its mode, i.e the most frequently occurring value."
   ]
  },
  {
   "cell_type": "code",
   "execution_count": 115,
   "id": "d00d05e5",
   "metadata": {},
   "outputs": [
    {
     "name": "stdout",
     "output_type": "stream",
     "text": [
      "Filled values count: 128975\n",
      "Assertion passed: no null values in the 'Courier Status' column\n"
     ]
    }
   ],
   "source": [
    "#filling the null with mode value\n",
    "df[\"Courier Status\"] = df[\"Courier Status\"].fillna(df[\"Courier Status\"].mode()[0])\n",
    "\n",
    "#count of  the filled values\n",
    "filled_count = df[\"Courier Status\"].count()\n",
    "\n",
    "\n",
    "#asserting that there are no null values in the \"Courier Status\" column\n",
    "assert df[\"Courier Status\"].isnull().sum() == 0, \"Null values still exist\"\n",
    "\n",
    "\n",
    "print(f\"Filled values count: {filled_count}\")\n",
    "print(\"Assertion passed: no null values in the 'Courier Status' column\")"
   ]
  },
  {
   "cell_type": "markdown",
   "id": "72f92e4a",
   "metadata": {},
   "source": [
    "## 2.  Dealing with Currency Column"
   ]
  },
  {
   "cell_type": "code",
   "execution_count": 116,
   "id": "338212da",
   "metadata": {},
   "outputs": [
    {
     "name": "stdout",
     "output_type": "stream",
     "text": [
      "0\n"
     ]
    }
   ],
   "source": [
    "#to get the count of the null values in the \"currency\" column\n",
    "print(df[\"Currency\"].isna().sum())\n",
    "\n",
    "\n",
    "#filling the null with mode value\n",
    "df[\"Currency\"] = df[\"Currency\"].fillna(\"INR\")"
   ]
  },
  {
   "cell_type": "code",
   "execution_count": 117,
   "id": "cba66f9a",
   "metadata": {},
   "outputs": [],
   "source": [
    "#aserting that there are no null values in the \"currency\" column\n",
    "assert df[\"Currency\"].isnull().sum() == 0, \"null values still exist in the 'Currency' column\""
   ]
  },
  {
   "cell_type": "markdown",
   "id": "2e73b84c",
   "metadata": {},
   "source": [
    "## 3.  Dealing with Amount Column"
   ]
  },
  {
   "cell_type": "markdown",
   "id": "8e833b78",
   "metadata": {},
   "source": [
    "- In the dataset, the \"Amount\" column contains null values in cases where the quantity ordered is zero. It is logical to fill these null values with zero, as it signifies that no quantity was ordered, resulting in no associated amount."
   ]
  },
  {
   "cell_type": "code",
   "execution_count": 118,
   "id": "579f69ef",
   "metadata": {},
   "outputs": [
    {
     "name": "stdout",
     "output_type": "stream",
     "text": [
      "0\n"
     ]
    }
   ],
   "source": [
    "#to get the count of the null values in the \"currency\" column\n",
    "print(df[\"Amount\"].isna().sum())"
   ]
  },
  {
   "cell_type": "code",
   "execution_count": 119,
   "id": "f77c1694",
   "metadata": {},
   "outputs": [],
   "source": [
    "#filling the null with mode value\n",
    "df[\"Amount\"] = df[\"Amount\"].fillna(0)\n",
    "\n",
    "#aserting that there are no null values in the \"currency\" column\n",
    "assert df[\"Amount\"].isnull().sum() == 0, \"null values still exist in the 'Currency' column\""
   ]
  },
  {
   "cell_type": "code",
   "execution_count": 120,
   "id": "36ff323a",
   "metadata": {
    "scrolled": false
   },
   "outputs": [
    {
     "data": {
      "text/plain": [
       "Order ID                                     0\n",
       "Date                                         0\n",
       "Status                                       0\n",
       "Fulfilment                                   0\n",
       "Sales Channel                                0\n",
       "Ship-Service-Level                           0\n",
       "Style                                        0\n",
       "Stock Keeping Unit                           0\n",
       "Category                                     0\n",
       "Size                                         0\n",
       "Amazon Standard Identification Number        0\n",
       "Courier Status                               0\n",
       "Qty                                          0\n",
       "Currency                                     0\n",
       "Amount                                       0\n",
       "Ship-City                                   33\n",
       "Ship-State                                  33\n",
       "Ship-Postal-Code                            33\n",
       "Ship-Country                                33\n",
       "Promotion-ids                            49153\n",
       "B2B                                          0\n",
       "Fulfilled-by                             89698\n",
       "Unnamed: 22                              49050\n",
       "dtype: int64"
      ]
     },
     "execution_count": 120,
     "metadata": {},
     "output_type": "execute_result"
    }
   ],
   "source": [
    "df.isna().sum()"
   ]
  },
  {
   "cell_type": "markdown",
   "id": "c5eec362",
   "metadata": {},
   "source": [
    "## 4.  Dealing with Ship-City, Ship-State, Ship-Postal-Code and Ship-Country Columns"
   ]
  },
  {
   "cell_type": "code",
   "execution_count": 126,
   "id": "22ed4515",
   "metadata": {},
   "outputs": [
    {
     "data": {
      "text/plain": [
       "BENGALURU    11217\n",
       "HYDERABAD     8074\n",
       "MUMBAI        6126\n",
       "NEW DELHI     5795\n",
       "CHENNAI       5421\n",
       "Name: Ship-City, dtype: int64"
      ]
     },
     "execution_count": 126,
     "metadata": {},
     "output_type": "execute_result"
    }
   ],
   "source": [
    "#confirming the ship city with the top counts\n",
    "df[\"Ship-City\"].value_counts().head()"
   ]
  },
  {
   "cell_type": "code",
   "execution_count": null,
   "id": "f659cc84",
   "metadata": {},
   "outputs": [],
   "source": [
    "# locating the ship city with \"Bengaluru\" to see if there's a correlation with the variables\n",
    "\n"
   ]
  }
 ],
 "metadata": {
  "kernelspec": {
   "display_name": "Python 3 (ipykernel)",
   "language": "python",
   "name": "python3"
  },
  "language_info": {
   "codemirror_mode": {
    "name": "ipython",
    "version": 3
   },
   "file_extension": ".py",
   "mimetype": "text/x-python",
   "name": "python",
   "nbconvert_exporter": "python",
   "pygments_lexer": "ipython3",
   "version": "3.9.12"
  }
 },
 "nbformat": 4,
 "nbformat_minor": 5
}
