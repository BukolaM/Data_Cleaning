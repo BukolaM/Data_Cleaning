{
 "cells": [
  {
   "cell_type": "code",
   "execution_count": 193,
   "id": "35dcd331",
   "metadata": {},
   "outputs": [],
   "source": [
    "import pandas as pd\n",
    "import matplotlib.pyplot as plt\n",
    "\n",
    "\n",
    "import warnings\n",
    "#suppress future warnings\n",
    "warnings.simplefilter(action = \"ignore\", category = FutureWarning)"
   ]
  },
  {
   "cell_type": "code",
   "execution_count": 194,
   "id": "e4502647",
   "metadata": {},
   "outputs": [
    {
     "name": "stderr",
     "output_type": "stream",
     "text": [
      "/var/folders/73/dfnlcqg57w7btn76pt1r17cm0000gp/T/ipykernel_27865/49390194.py:1: DtypeWarning: Columns (23) have mixed types. Specify dtype option on import or set low_memory=False.\n",
      "  df = pd.read_csv(\"Amazon Sale Report.csv\", index_col = \"index\")\n"
     ]
    },
    {
     "data": {
      "text/html": [
       "<div>\n",
       "<style scoped>\n",
       "    .dataframe tbody tr th:only-of-type {\n",
       "        vertical-align: middle;\n",
       "    }\n",
       "\n",
       "    .dataframe tbody tr th {\n",
       "        vertical-align: top;\n",
       "    }\n",
       "\n",
       "    .dataframe thead th {\n",
       "        text-align: right;\n",
       "    }\n",
       "</style>\n",
       "<table border=\"1\" class=\"dataframe\">\n",
       "  <thead>\n",
       "    <tr style=\"text-align: right;\">\n",
       "      <th></th>\n",
       "      <th>Order ID</th>\n",
       "      <th>Date</th>\n",
       "      <th>Status</th>\n",
       "      <th>Fulfilment</th>\n",
       "      <th>Sales Channel</th>\n",
       "      <th>ship-service-level</th>\n",
       "      <th>Style</th>\n",
       "      <th>SKU</th>\n",
       "      <th>Category</th>\n",
       "      <th>Size</th>\n",
       "      <th>ASIN</th>\n",
       "      <th>Courier Status</th>\n",
       "      <th>Qty</th>\n",
       "      <th>currency</th>\n",
       "      <th>Amount</th>\n",
       "      <th>ship-city</th>\n",
       "      <th>ship-state</th>\n",
       "      <th>ship-postal-code</th>\n",
       "      <th>ship-country</th>\n",
       "      <th>promotion-ids</th>\n",
       "      <th>B2B</th>\n",
       "      <th>fulfilled-by</th>\n",
       "      <th>Unnamed: 22</th>\n",
       "    </tr>\n",
       "    <tr>\n",
       "      <th>index</th>\n",
       "      <th></th>\n",
       "      <th></th>\n",
       "      <th></th>\n",
       "      <th></th>\n",
       "      <th></th>\n",
       "      <th></th>\n",
       "      <th></th>\n",
       "      <th></th>\n",
       "      <th></th>\n",
       "      <th></th>\n",
       "      <th></th>\n",
       "      <th></th>\n",
       "      <th></th>\n",
       "      <th></th>\n",
       "      <th></th>\n",
       "      <th></th>\n",
       "      <th></th>\n",
       "      <th></th>\n",
       "      <th></th>\n",
       "      <th></th>\n",
       "      <th></th>\n",
       "      <th></th>\n",
       "      <th></th>\n",
       "    </tr>\n",
       "  </thead>\n",
       "  <tbody>\n",
       "    <tr>\n",
       "      <th>0</th>\n",
       "      <td>405-8078784-5731545</td>\n",
       "      <td>04-30-22</td>\n",
       "      <td>Cancelled</td>\n",
       "      <td>Merchant</td>\n",
       "      <td>Amazon.in</td>\n",
       "      <td>Standard</td>\n",
       "      <td>SET389</td>\n",
       "      <td>SET389-KR-NP-S</td>\n",
       "      <td>Set</td>\n",
       "      <td>S</td>\n",
       "      <td>B09KXVBD7Z</td>\n",
       "      <td>NaN</td>\n",
       "      <td>0</td>\n",
       "      <td>INR</td>\n",
       "      <td>647.62</td>\n",
       "      <td>MUMBAI</td>\n",
       "      <td>MAHARASHTRA</td>\n",
       "      <td>400081.0</td>\n",
       "      <td>IN</td>\n",
       "      <td>NaN</td>\n",
       "      <td>False</td>\n",
       "      <td>Easy Ship</td>\n",
       "      <td>NaN</td>\n",
       "    </tr>\n",
       "    <tr>\n",
       "      <th>1</th>\n",
       "      <td>171-9198151-1101146</td>\n",
       "      <td>04-30-22</td>\n",
       "      <td>Shipped - Delivered to Buyer</td>\n",
       "      <td>Merchant</td>\n",
       "      <td>Amazon.in</td>\n",
       "      <td>Standard</td>\n",
       "      <td>JNE3781</td>\n",
       "      <td>JNE3781-KR-XXXL</td>\n",
       "      <td>kurta</td>\n",
       "      <td>3XL</td>\n",
       "      <td>B09K3WFS32</td>\n",
       "      <td>Shipped</td>\n",
       "      <td>1</td>\n",
       "      <td>INR</td>\n",
       "      <td>406.00</td>\n",
       "      <td>BENGALURU</td>\n",
       "      <td>KARNATAKA</td>\n",
       "      <td>560085.0</td>\n",
       "      <td>IN</td>\n",
       "      <td>Amazon PLCC Free-Financing Universal Merchant ...</td>\n",
       "      <td>False</td>\n",
       "      <td>Easy Ship</td>\n",
       "      <td>NaN</td>\n",
       "    </tr>\n",
       "    <tr>\n",
       "      <th>2</th>\n",
       "      <td>404-0687676-7273146</td>\n",
       "      <td>04-30-22</td>\n",
       "      <td>Shipped</td>\n",
       "      <td>Amazon</td>\n",
       "      <td>Amazon.in</td>\n",
       "      <td>Expedited</td>\n",
       "      <td>JNE3371</td>\n",
       "      <td>JNE3371-KR-XL</td>\n",
       "      <td>kurta</td>\n",
       "      <td>XL</td>\n",
       "      <td>B07WV4JV4D</td>\n",
       "      <td>Shipped</td>\n",
       "      <td>1</td>\n",
       "      <td>INR</td>\n",
       "      <td>329.00</td>\n",
       "      <td>NAVI MUMBAI</td>\n",
       "      <td>MAHARASHTRA</td>\n",
       "      <td>410210.0</td>\n",
       "      <td>IN</td>\n",
       "      <td>IN Core Free Shipping 2015/04/08 23-48-5-108</td>\n",
       "      <td>True</td>\n",
       "      <td>NaN</td>\n",
       "      <td>NaN</td>\n",
       "    </tr>\n",
       "    <tr>\n",
       "      <th>3</th>\n",
       "      <td>403-9615377-8133951</td>\n",
       "      <td>04-30-22</td>\n",
       "      <td>Cancelled</td>\n",
       "      <td>Merchant</td>\n",
       "      <td>Amazon.in</td>\n",
       "      <td>Standard</td>\n",
       "      <td>J0341</td>\n",
       "      <td>J0341-DR-L</td>\n",
       "      <td>Western Dress</td>\n",
       "      <td>L</td>\n",
       "      <td>B099NRCT7B</td>\n",
       "      <td>NaN</td>\n",
       "      <td>0</td>\n",
       "      <td>INR</td>\n",
       "      <td>753.33</td>\n",
       "      <td>PUDUCHERRY</td>\n",
       "      <td>PUDUCHERRY</td>\n",
       "      <td>605008.0</td>\n",
       "      <td>IN</td>\n",
       "      <td>NaN</td>\n",
       "      <td>False</td>\n",
       "      <td>Easy Ship</td>\n",
       "      <td>NaN</td>\n",
       "    </tr>\n",
       "  </tbody>\n",
       "</table>\n",
       "</div>"
      ],
      "text/plain": [
       "                  Order ID      Date                        Status Fulfilment  \\\n",
       "index                                                                           \n",
       "0      405-8078784-5731545  04-30-22                     Cancelled   Merchant   \n",
       "1      171-9198151-1101146  04-30-22  Shipped - Delivered to Buyer   Merchant   \n",
       "2      404-0687676-7273146  04-30-22                       Shipped     Amazon   \n",
       "3      403-9615377-8133951  04-30-22                     Cancelled   Merchant   \n",
       "\n",
       "      Sales Channel  ship-service-level    Style              SKU  \\\n",
       "index                                                               \n",
       "0          Amazon.in           Standard   SET389   SET389-KR-NP-S   \n",
       "1          Amazon.in           Standard  JNE3781  JNE3781-KR-XXXL   \n",
       "2          Amazon.in          Expedited  JNE3371    JNE3371-KR-XL   \n",
       "3          Amazon.in           Standard    J0341       J0341-DR-L   \n",
       "\n",
       "            Category Size        ASIN Courier Status  Qty currency  Amount  \\\n",
       "index                                                                        \n",
       "0                Set    S  B09KXVBD7Z            NaN    0      INR  647.62   \n",
       "1              kurta  3XL  B09K3WFS32        Shipped    1      INR  406.00   \n",
       "2              kurta   XL  B07WV4JV4D        Shipped    1      INR  329.00   \n",
       "3      Western Dress    L  B099NRCT7B            NaN    0      INR  753.33   \n",
       "\n",
       "         ship-city   ship-state  ship-postal-code ship-country  \\\n",
       "index                                                            \n",
       "0           MUMBAI  MAHARASHTRA          400081.0           IN   \n",
       "1        BENGALURU    KARNATAKA          560085.0           IN   \n",
       "2      NAVI MUMBAI  MAHARASHTRA          410210.0           IN   \n",
       "3       PUDUCHERRY   PUDUCHERRY          605008.0           IN   \n",
       "\n",
       "                                           promotion-ids    B2B fulfilled-by  \\\n",
       "index                                                                          \n",
       "0                                                    NaN  False    Easy Ship   \n",
       "1      Amazon PLCC Free-Financing Universal Merchant ...  False    Easy Ship   \n",
       "2           IN Core Free Shipping 2015/04/08 23-48-5-108   True          NaN   \n",
       "3                                                    NaN  False    Easy Ship   \n",
       "\n",
       "      Unnamed: 22  \n",
       "index              \n",
       "0             NaN  \n",
       "1             NaN  \n",
       "2             NaN  \n",
       "3             NaN  "
      ]
     },
     "execution_count": 194,
     "metadata": {},
     "output_type": "execute_result"
    }
   ],
   "source": [
    "df = pd.read_csv(\"Amazon Sale Report.csv\", index_col = \"index\")\n",
    "pd.set_option('display.max_columns', None)\n",
    "df.head(4)"
   ]
  },
  {
   "cell_type": "code",
   "execution_count": 224,
   "id": "81f9fbf1",
   "metadata": {
    "scrolled": true
   },
   "outputs": [
    {
     "data": {
      "text/html": [
       "<div>\n",
       "<style scoped>\n",
       "    .dataframe tbody tr th:only-of-type {\n",
       "        vertical-align: middle;\n",
       "    }\n",
       "\n",
       "    .dataframe tbody tr th {\n",
       "        vertical-align: top;\n",
       "    }\n",
       "\n",
       "    .dataframe thead th {\n",
       "        text-align: right;\n",
       "    }\n",
       "</style>\n",
       "<table border=\"1\" class=\"dataframe\">\n",
       "  <thead>\n",
       "    <tr style=\"text-align: right;\">\n",
       "      <th></th>\n",
       "      <th>count</th>\n",
       "      <th>unique</th>\n",
       "      <th>top</th>\n",
       "      <th>freq</th>\n",
       "      <th>mean</th>\n",
       "      <th>std</th>\n",
       "      <th>min</th>\n",
       "      <th>25%</th>\n",
       "      <th>50%</th>\n",
       "      <th>75%</th>\n",
       "      <th>max</th>\n",
       "    </tr>\n",
       "  </thead>\n",
       "  <tbody>\n",
       "    <tr>\n",
       "      <th>Order ID</th>\n",
       "      <td>128975</td>\n",
       "      <td>120378</td>\n",
       "      <td>171-5057375-2831560</td>\n",
       "      <td>12</td>\n",
       "      <td>NaN</td>\n",
       "      <td>NaN</td>\n",
       "      <td>NaN</td>\n",
       "      <td>NaN</td>\n",
       "      <td>NaN</td>\n",
       "      <td>NaN</td>\n",
       "      <td>NaN</td>\n",
       "    </tr>\n",
       "    <tr>\n",
       "      <th>Date</th>\n",
       "      <td>128975</td>\n",
       "      <td>91</td>\n",
       "      <td>05-03-22</td>\n",
       "      <td>2085</td>\n",
       "      <td>NaN</td>\n",
       "      <td>NaN</td>\n",
       "      <td>NaN</td>\n",
       "      <td>NaN</td>\n",
       "      <td>NaN</td>\n",
       "      <td>NaN</td>\n",
       "      <td>NaN</td>\n",
       "    </tr>\n",
       "    <tr>\n",
       "      <th>Status</th>\n",
       "      <td>128975</td>\n",
       "      <td>13</td>\n",
       "      <td>Shipped</td>\n",
       "      <td>77804</td>\n",
       "      <td>NaN</td>\n",
       "      <td>NaN</td>\n",
       "      <td>NaN</td>\n",
       "      <td>NaN</td>\n",
       "      <td>NaN</td>\n",
       "      <td>NaN</td>\n",
       "      <td>NaN</td>\n",
       "    </tr>\n",
       "    <tr>\n",
       "      <th>Fulfilment</th>\n",
       "      <td>128975</td>\n",
       "      <td>2</td>\n",
       "      <td>Amazon</td>\n",
       "      <td>89698</td>\n",
       "      <td>NaN</td>\n",
       "      <td>NaN</td>\n",
       "      <td>NaN</td>\n",
       "      <td>NaN</td>\n",
       "      <td>NaN</td>\n",
       "      <td>NaN</td>\n",
       "      <td>NaN</td>\n",
       "    </tr>\n",
       "    <tr>\n",
       "      <th>Sales Channel</th>\n",
       "      <td>128975</td>\n",
       "      <td>2</td>\n",
       "      <td>Amazon.in</td>\n",
       "      <td>128851</td>\n",
       "      <td>NaN</td>\n",
       "      <td>NaN</td>\n",
       "      <td>NaN</td>\n",
       "      <td>NaN</td>\n",
       "      <td>NaN</td>\n",
       "      <td>NaN</td>\n",
       "      <td>NaN</td>\n",
       "    </tr>\n",
       "    <tr>\n",
       "      <th>Ship-Service-Level</th>\n",
       "      <td>128975</td>\n",
       "      <td>2</td>\n",
       "      <td>Expedited</td>\n",
       "      <td>88615</td>\n",
       "      <td>NaN</td>\n",
       "      <td>NaN</td>\n",
       "      <td>NaN</td>\n",
       "      <td>NaN</td>\n",
       "      <td>NaN</td>\n",
       "      <td>NaN</td>\n",
       "      <td>NaN</td>\n",
       "    </tr>\n",
       "    <tr>\n",
       "      <th>Style</th>\n",
       "      <td>128975</td>\n",
       "      <td>1377</td>\n",
       "      <td>JNE3797</td>\n",
       "      <td>4224</td>\n",
       "      <td>NaN</td>\n",
       "      <td>NaN</td>\n",
       "      <td>NaN</td>\n",
       "      <td>NaN</td>\n",
       "      <td>NaN</td>\n",
       "      <td>NaN</td>\n",
       "      <td>NaN</td>\n",
       "    </tr>\n",
       "    <tr>\n",
       "      <th>Stock Keeping Unit</th>\n",
       "      <td>128975</td>\n",
       "      <td>7195</td>\n",
       "      <td>JNE3797-KR-L</td>\n",
       "      <td>773</td>\n",
       "      <td>NaN</td>\n",
       "      <td>NaN</td>\n",
       "      <td>NaN</td>\n",
       "      <td>NaN</td>\n",
       "      <td>NaN</td>\n",
       "      <td>NaN</td>\n",
       "      <td>NaN</td>\n",
       "    </tr>\n",
       "    <tr>\n",
       "      <th>Category</th>\n",
       "      <td>128975</td>\n",
       "      <td>9</td>\n",
       "      <td>Set</td>\n",
       "      <td>50284</td>\n",
       "      <td>NaN</td>\n",
       "      <td>NaN</td>\n",
       "      <td>NaN</td>\n",
       "      <td>NaN</td>\n",
       "      <td>NaN</td>\n",
       "      <td>NaN</td>\n",
       "      <td>NaN</td>\n",
       "    </tr>\n",
       "    <tr>\n",
       "      <th>Size</th>\n",
       "      <td>128975</td>\n",
       "      <td>11</td>\n",
       "      <td>M</td>\n",
       "      <td>22711</td>\n",
       "      <td>NaN</td>\n",
       "      <td>NaN</td>\n",
       "      <td>NaN</td>\n",
       "      <td>NaN</td>\n",
       "      <td>NaN</td>\n",
       "      <td>NaN</td>\n",
       "      <td>NaN</td>\n",
       "    </tr>\n",
       "    <tr>\n",
       "      <th>Amazon Standard Identification Number</th>\n",
       "      <td>128975</td>\n",
       "      <td>7190</td>\n",
       "      <td>B09SDXFFQ1</td>\n",
       "      <td>773</td>\n",
       "      <td>NaN</td>\n",
       "      <td>NaN</td>\n",
       "      <td>NaN</td>\n",
       "      <td>NaN</td>\n",
       "      <td>NaN</td>\n",
       "      <td>NaN</td>\n",
       "      <td>NaN</td>\n",
       "    </tr>\n",
       "    <tr>\n",
       "      <th>Courier Status</th>\n",
       "      <td>128975</td>\n",
       "      <td>3</td>\n",
       "      <td>Shipped</td>\n",
       "      <td>116359</td>\n",
       "      <td>NaN</td>\n",
       "      <td>NaN</td>\n",
       "      <td>NaN</td>\n",
       "      <td>NaN</td>\n",
       "      <td>NaN</td>\n",
       "      <td>NaN</td>\n",
       "      <td>NaN</td>\n",
       "    </tr>\n",
       "    <tr>\n",
       "      <th>Qty</th>\n",
       "      <td>128975.0</td>\n",
       "      <td>NaN</td>\n",
       "      <td>NaN</td>\n",
       "      <td>NaN</td>\n",
       "      <td>0.904431</td>\n",
       "      <td>0.313354</td>\n",
       "      <td>0.0</td>\n",
       "      <td>1.0</td>\n",
       "      <td>1.0</td>\n",
       "      <td>1.0</td>\n",
       "      <td>15.0</td>\n",
       "    </tr>\n",
       "    <tr>\n",
       "      <th>Currency</th>\n",
       "      <td>128975</td>\n",
       "      <td>1</td>\n",
       "      <td>INR</td>\n",
       "      <td>128975</td>\n",
       "      <td>NaN</td>\n",
       "      <td>NaN</td>\n",
       "      <td>NaN</td>\n",
       "      <td>NaN</td>\n",
       "      <td>NaN</td>\n",
       "      <td>NaN</td>\n",
       "      <td>NaN</td>\n",
       "    </tr>\n",
       "    <tr>\n",
       "      <th>Amount</th>\n",
       "      <td>128975.0</td>\n",
       "      <td>NaN</td>\n",
       "      <td>NaN</td>\n",
       "      <td>NaN</td>\n",
       "      <td>609.363662</td>\n",
       "      <td>313.347147</td>\n",
       "      <td>0.0</td>\n",
       "      <td>413.0</td>\n",
       "      <td>583.0</td>\n",
       "      <td>771.0</td>\n",
       "      <td>5584.0</td>\n",
       "    </tr>\n",
       "    <tr>\n",
       "      <th>Ship-City</th>\n",
       "      <td>128975</td>\n",
       "      <td>8955</td>\n",
       "      <td>BENGALURU</td>\n",
       "      <td>11250</td>\n",
       "      <td>NaN</td>\n",
       "      <td>NaN</td>\n",
       "      <td>NaN</td>\n",
       "      <td>NaN</td>\n",
       "      <td>NaN</td>\n",
       "      <td>NaN</td>\n",
       "      <td>NaN</td>\n",
       "    </tr>\n",
       "    <tr>\n",
       "      <th>Ship-State</th>\n",
       "      <td>128975</td>\n",
       "      <td>69</td>\n",
       "      <td>MAHARASHTRA</td>\n",
       "      <td>22293</td>\n",
       "      <td>NaN</td>\n",
       "      <td>NaN</td>\n",
       "      <td>NaN</td>\n",
       "      <td>NaN</td>\n",
       "      <td>NaN</td>\n",
       "      <td>NaN</td>\n",
       "      <td>NaN</td>\n",
       "    </tr>\n",
       "    <tr>\n",
       "      <th>Ship-Postal-Code</th>\n",
       "      <td>128975.0</td>\n",
       "      <td>NaN</td>\n",
       "      <td>NaN</td>\n",
       "      <td>NaN</td>\n",
       "      <td>463899.030052</td>\n",
       "      <td>191498.35259</td>\n",
       "      <td>110001.0</td>\n",
       "      <td>382421.0</td>\n",
       "      <td>500033.0</td>\n",
       "      <td>600024.0</td>\n",
       "      <td>989898.0</td>\n",
       "    </tr>\n",
       "    <tr>\n",
       "      <th>Ship-Country</th>\n",
       "      <td>128975</td>\n",
       "      <td>1</td>\n",
       "      <td>IN</td>\n",
       "      <td>128975</td>\n",
       "      <td>NaN</td>\n",
       "      <td>NaN</td>\n",
       "      <td>NaN</td>\n",
       "      <td>NaN</td>\n",
       "      <td>NaN</td>\n",
       "      <td>NaN</td>\n",
       "      <td>NaN</td>\n",
       "    </tr>\n",
       "    <tr>\n",
       "      <th>Promotion-ids</th>\n",
       "      <td>128975</td>\n",
       "      <td>5787</td>\n",
       "      <td>IN Core Free Shipping 2015/04/08 23-48-5-108</td>\n",
       "      <td>95253</td>\n",
       "      <td>NaN</td>\n",
       "      <td>NaN</td>\n",
       "      <td>NaN</td>\n",
       "      <td>NaN</td>\n",
       "      <td>NaN</td>\n",
       "      <td>NaN</td>\n",
       "      <td>NaN</td>\n",
       "    </tr>\n",
       "    <tr>\n",
       "      <th>B2B</th>\n",
       "      <td>128975</td>\n",
       "      <td>2</td>\n",
       "      <td>False</td>\n",
       "      <td>128104</td>\n",
       "      <td>NaN</td>\n",
       "      <td>NaN</td>\n",
       "      <td>NaN</td>\n",
       "      <td>NaN</td>\n",
       "      <td>NaN</td>\n",
       "      <td>NaN</td>\n",
       "      <td>NaN</td>\n",
       "    </tr>\n",
       "    <tr>\n",
       "      <th>Fulfilled-by</th>\n",
       "      <td>128975</td>\n",
       "      <td>2</td>\n",
       "      <td>Easy Ship</td>\n",
       "      <td>89698</td>\n",
       "      <td>NaN</td>\n",
       "      <td>NaN</td>\n",
       "      <td>NaN</td>\n",
       "      <td>NaN</td>\n",
       "      <td>NaN</td>\n",
       "      <td>NaN</td>\n",
       "      <td>NaN</td>\n",
       "    </tr>\n",
       "    <tr>\n",
       "      <th>Unnamed: 22</th>\n",
       "      <td>79925</td>\n",
       "      <td>1</td>\n",
       "      <td>False</td>\n",
       "      <td>79925</td>\n",
       "      <td>NaN</td>\n",
       "      <td>NaN</td>\n",
       "      <td>NaN</td>\n",
       "      <td>NaN</td>\n",
       "      <td>NaN</td>\n",
       "      <td>NaN</td>\n",
       "      <td>NaN</td>\n",
       "    </tr>\n",
       "  </tbody>\n",
       "</table>\n",
       "</div>"
      ],
      "text/plain": [
       "                                          count  unique  \\\n",
       "Order ID                                 128975  120378   \n",
       "Date                                     128975      91   \n",
       "Status                                   128975      13   \n",
       "Fulfilment                               128975       2   \n",
       "Sales Channel                            128975       2   \n",
       "Ship-Service-Level                       128975       2   \n",
       "Style                                    128975    1377   \n",
       "Stock Keeping Unit                       128975    7195   \n",
       "Category                                 128975       9   \n",
       "Size                                     128975      11   \n",
       "Amazon Standard Identification Number    128975    7190   \n",
       "Courier Status                           128975       3   \n",
       "Qty                                    128975.0     NaN   \n",
       "Currency                                 128975       1   \n",
       "Amount                                 128975.0     NaN   \n",
       "Ship-City                                128975    8955   \n",
       "Ship-State                               128975      69   \n",
       "Ship-Postal-Code                       128975.0     NaN   \n",
       "Ship-Country                             128975       1   \n",
       "Promotion-ids                            128975    5787   \n",
       "B2B                                      128975       2   \n",
       "Fulfilled-by                             128975       2   \n",
       "Unnamed: 22                               79925       1   \n",
       "\n",
       "                                                                                top  \\\n",
       "Order ID                                                        171-5057375-2831560   \n",
       "Date                                                                       05-03-22   \n",
       "Status                                                                      Shipped   \n",
       "Fulfilment                                                                   Amazon   \n",
       "Sales Channel                                                             Amazon.in   \n",
       "Ship-Service-Level                                                        Expedited   \n",
       "Style                                                                       JNE3797   \n",
       "Stock Keeping Unit                                                     JNE3797-KR-L   \n",
       "Category                                                                        Set   \n",
       "Size                                                                              M   \n",
       "Amazon Standard Identification Number                                    B09SDXFFQ1   \n",
       "Courier Status                                                              Shipped   \n",
       "Qty                                                                             NaN   \n",
       "Currency                                                                        INR   \n",
       "Amount                                                                          NaN   \n",
       "Ship-City                                                                 BENGALURU   \n",
       "Ship-State                                                              MAHARASHTRA   \n",
       "Ship-Postal-Code                                                                NaN   \n",
       "Ship-Country                                                                     IN   \n",
       "Promotion-ids                          IN Core Free Shipping 2015/04/08 23-48-5-108   \n",
       "B2B                                                                           False   \n",
       "Fulfilled-by                                                             Easy Ship    \n",
       "Unnamed: 22                                                                   False   \n",
       "\n",
       "                                         freq           mean           std  \\\n",
       "Order ID                                   12            NaN           NaN   \n",
       "Date                                     2085            NaN           NaN   \n",
       "Status                                  77804            NaN           NaN   \n",
       "Fulfilment                              89698            NaN           NaN   \n",
       "Sales Channel                          128851            NaN           NaN   \n",
       "Ship-Service-Level                      88615            NaN           NaN   \n",
       "Style                                    4224            NaN           NaN   \n",
       "Stock Keeping Unit                        773            NaN           NaN   \n",
       "Category                                50284            NaN           NaN   \n",
       "Size                                    22711            NaN           NaN   \n",
       "Amazon Standard Identification Number     773            NaN           NaN   \n",
       "Courier Status                         116359            NaN           NaN   \n",
       "Qty                                       NaN       0.904431      0.313354   \n",
       "Currency                               128975            NaN           NaN   \n",
       "Amount                                    NaN     609.363662    313.347147   \n",
       "Ship-City                               11250            NaN           NaN   \n",
       "Ship-State                              22293            NaN           NaN   \n",
       "Ship-Postal-Code                          NaN  463899.030052  191498.35259   \n",
       "Ship-Country                           128975            NaN           NaN   \n",
       "Promotion-ids                           95253            NaN           NaN   \n",
       "B2B                                    128104            NaN           NaN   \n",
       "Fulfilled-by                            89698            NaN           NaN   \n",
       "Unnamed: 22                             79925            NaN           NaN   \n",
       "\n",
       "                                            min       25%       50%       75%  \\\n",
       "Order ID                                    NaN       NaN       NaN       NaN   \n",
       "Date                                        NaN       NaN       NaN       NaN   \n",
       "Status                                      NaN       NaN       NaN       NaN   \n",
       "Fulfilment                                  NaN       NaN       NaN       NaN   \n",
       "Sales Channel                               NaN       NaN       NaN       NaN   \n",
       "Ship-Service-Level                          NaN       NaN       NaN       NaN   \n",
       "Style                                       NaN       NaN       NaN       NaN   \n",
       "Stock Keeping Unit                          NaN       NaN       NaN       NaN   \n",
       "Category                                    NaN       NaN       NaN       NaN   \n",
       "Size                                        NaN       NaN       NaN       NaN   \n",
       "Amazon Standard Identification Number       NaN       NaN       NaN       NaN   \n",
       "Courier Status                              NaN       NaN       NaN       NaN   \n",
       "Qty                                         0.0       1.0       1.0       1.0   \n",
       "Currency                                    NaN       NaN       NaN       NaN   \n",
       "Amount                                      0.0     413.0     583.0     771.0   \n",
       "Ship-City                                   NaN       NaN       NaN       NaN   \n",
       "Ship-State                                  NaN       NaN       NaN       NaN   \n",
       "Ship-Postal-Code                       110001.0  382421.0  500033.0  600024.0   \n",
       "Ship-Country                                NaN       NaN       NaN       NaN   \n",
       "Promotion-ids                               NaN       NaN       NaN       NaN   \n",
       "B2B                                         NaN       NaN       NaN       NaN   \n",
       "Fulfilled-by                                NaN       NaN       NaN       NaN   \n",
       "Unnamed: 22                                 NaN       NaN       NaN       NaN   \n",
       "\n",
       "                                            max  \n",
       "Order ID                                    NaN  \n",
       "Date                                        NaN  \n",
       "Status                                      NaN  \n",
       "Fulfilment                                  NaN  \n",
       "Sales Channel                               NaN  \n",
       "Ship-Service-Level                          NaN  \n",
       "Style                                       NaN  \n",
       "Stock Keeping Unit                          NaN  \n",
       "Category                                    NaN  \n",
       "Size                                        NaN  \n",
       "Amazon Standard Identification Number       NaN  \n",
       "Courier Status                              NaN  \n",
       "Qty                                        15.0  \n",
       "Currency                                    NaN  \n",
       "Amount                                   5584.0  \n",
       "Ship-City                                   NaN  \n",
       "Ship-State                                  NaN  \n",
       "Ship-Postal-Code                       989898.0  \n",
       "Ship-Country                                NaN  \n",
       "Promotion-ids                               NaN  \n",
       "B2B                                         NaN  \n",
       "Fulfilled-by                                NaN  \n",
       "Unnamed: 22                                 NaN  "
      ]
     },
     "execution_count": 224,
     "metadata": {},
     "output_type": "execute_result"
    }
   ],
   "source": [
    "df.describe(include = \"all\").T"
   ]
  },
  {
   "cell_type": "markdown",
   "id": "8deb40d6",
   "metadata": {},
   "source": [
    "# Data Cleaning"
   ]
  },
  {
   "cell_type": "markdown",
   "id": "189c508d",
   "metadata": {},
   "source": [
    "This dataset provides detailed insights into Amazon sales data, including SKU Code, Design Number, Stock, Category, Size and Color, to help optimize product profitability\n",
    "\n",
    "- Category: Type of product. (String)\n",
    "- Size: Size of the product. (String)\n",
    "- Date: Date of the sale. (Date)\n",
    "- Status: Status of the sale. (String)\n",
    "- Fulfilment: Method of fulfilment. (String)\n",
    "- Style: Style of the product. (String)\n",
    "- SKU: Stock Keeping Unit. (String)\n",
    "- ASIN: Amazon Standard Identification Number. (String)\n",
    "- Courier Status: Status of the courier. (String)\n",
    "- Qty: Quantity of the product. (Integer)\n",
    "- Amount: Amount of the sale. (Float)\n",
    "- B2B: Business to business sale. (Boolean)\n",
    "- Currency: The currency used for the sale. (String)"
   ]
  },
  {
   "cell_type": "markdown",
   "id": "8e404694",
   "metadata": {},
   "source": [
    "# Renaming DataFrame Columns"
   ]
  },
  {
   "cell_type": "code",
   "execution_count": 196,
   "id": "919a0fa3",
   "metadata": {},
   "outputs": [],
   "source": [
    "#renaming the df columns for clarity\n",
    "df.rename(columns = {'ship-service-level' : 'Ship-Service-Level',\n",
    "                      'SKU' : 'Stock Keeping Unit',\n",
    "                      'ASIN' : 'Amazon Standard Identification Number',\n",
    "                     'currency': 'Currency',\n",
    "                      'ship-city': 'Ship-City',\n",
    "                      'ship-state': 'Ship-State',\n",
    "                      'ship-postal-code' : 'Ship-Postal-Code',\n",
    "                     'ship-country' : 'Ship-Country',\n",
    "                      'promotion-ids': 'Promotion-ids',\n",
    "                     'fulfilled-by' : 'Fulfilled-by'}, inplace = True)"
   ]
  },
  {
   "cell_type": "markdown",
   "id": "c8ee5c8c",
   "metadata": {},
   "source": [
    "## 1.  Dealing with `Courier Status` Column"
   ]
  },
  {
   "cell_type": "code",
   "execution_count": 197,
   "id": "c68df694",
   "metadata": {},
   "outputs": [
    {
     "data": {
      "image/png": "[encoded data removed]",
      "text/plain": [
       "<Figure size 432x288 with 1 Axes>"
      ]
     },
     "metadata": {
      "needs_background": "light"
     },
     "output_type": "display_data"
    }
   ],
   "source": [
    "df[\"Courier Status\"].hist(grid = False)\n",
    "plt.show()"
   ]
  },
  {
   "cell_type": "code",
   "execution_count": 198,
   "id": "882ce981",
   "metadata": {
    "scrolled": false
   },
   "outputs": [
    {
     "data": {
      "text/plain": [
       "Shipped      109487\n",
       "Unshipped      6681\n",
       "Cancelled      5935\n",
       "Name: Courier Status, dtype: int64"
      ]
     },
     "execution_count": 198,
     "metadata": {},
     "output_type": "execute_result"
    }
   ],
   "source": [
    "#to get the count of each unique value in the \"courier status\" column\n",
    "df[\"Courier Status\"].value_counts()"
   ]
  },
  {
   "cell_type": "code",
   "execution_count": 199,
   "id": "6419b15e",
   "metadata": {},
   "outputs": [
    {
     "data": {
      "text/plain": [
       "6872"
      ]
     },
     "execution_count": 199,
     "metadata": {},
     "output_type": "execute_result"
    }
   ],
   "source": [
    "#null values count\n",
    "null_values = df[\"Courier Status\"].isna().sum()\n",
    "null_values "
   ]
  },
  {
   "cell_type": "markdown",
   "id": "549964c1",
   "metadata": {},
   "source": [
    "This column is categorical so its best to replace the null values with its mode, i.e the most frequently occurring value."
   ]
  },
  {
   "cell_type": "code",
   "execution_count": 200,
   "id": "8ba0312d",
   "metadata": {},
   "outputs": [
    {
     "name": "stdout",
     "output_type": "stream",
     "text": [
      "Filled values count: 128975\n",
      "Assertion passed: no null values in the 'Courier Status' column\n"
     ]
    }
   ],
   "source": [
    "#filling the null with mode value\n",
    "df[\"Courier Status\"] = df[\"Courier Status\"].fillna(df[\"Courier Status\"].mode()[0])\n",
    "\n",
    "#count of the filled values\n",
    "filled_count = df[\"Courier Status\"].count()\n",
    "\n",
    "\n",
    "#asserting that there are no null values in the \"Courier Status\" column\n",
    "assert df[\"Courier Status\"].isnull().sum() == 0, \"Null values still exist\"\n",
    "\n",
    "\n",
    "print(f\"Filled values count: {filled_count}\")\n",
    "print(\"Assertion passed: no null values in the 'Courier Status' column\")"
   ]
  },
  {
   "cell_type": "markdown",
   "id": "667e1f15",
   "metadata": {},
   "source": [
    "  ## 2.  Dealing with `Currency` Column"
   ]
  },
  {
   "cell_type": "code",
   "execution_count": 201,
   "id": "16f0d579",
   "metadata": {},
   "outputs": [
    {
     "name": "stdout",
     "output_type": "stream",
     "text": [
      "7795\n"
     ]
    }
   ],
   "source": [
    "#to get the count of the null values in the \"currency\" column\n",
    "print(df[\"Currency\"].isna().sum())\n",
    "\n",
    "\n",
    "#filling the null with mode value\n",
    "df[\"Currency\"] = df[\"Currency\"].fillna(\"INR\")"
   ]
  },
  {
   "cell_type": "code",
   "execution_count": 202,
   "id": "9fdae89d",
   "metadata": {},
   "outputs": [],
   "source": [
    "#aserting that there are no null values in the \"currency\" column\n",
    "assert df[\"Currency\"].isnull().sum() == 0, \"null values still exist in the 'Currency' column\""
   ]
  },
  {
   "cell_type": "markdown",
   "id": "85d22f5e",
   "metadata": {},
   "source": [
    "## 3.  Dealing with `Amount` Column"
   ]
  },
  {
   "cell_type": "markdown",
   "id": "4f3cf428",
   "metadata": {},
   "source": [
    "- In the dataset, the \"Amount\" column contains null values in cases where the Quantity ordered is zero. It is logical to fill these null values with zero, as it signifies that no quantity was ordered, resulting in no associated amount."
   ]
  },
  {
   "cell_type": "code",
   "execution_count": 225,
   "id": "0473cfc0",
   "metadata": {},
   "outputs": [
    {
     "name": "stdout",
     "output_type": "stream",
     "text": [
      "0\n"
     ]
    }
   ],
   "source": [
    "#to get the count of the null values in the \"amount\" column\n",
    "print(df[\"Amount\"].isna().sum())"
   ]
  },
  {
   "cell_type": "code",
   "execution_count": 226,
   "id": "bbe16789",
   "metadata": {},
   "outputs": [],
   "source": [
    "#filling the null with mode value\n",
    "df[\"Amount\"] = df[\"Amount\"].fillna(0)\n",
    "\n",
    "#aserting that there are no null values in the \"amount\" column\n",
    "assert df[\"Amount\"].isnull().sum() == 0, \"null values still exist in the 'Amount' column\""
   ]
  },
  {
   "cell_type": "markdown",
   "id": "cb5fc856",
   "metadata": {},
   "source": [
    "## 4.  Dealing with `Ship-City`, `Ship-State`, `Ship-Postal-Code` and `Ship-Country` Columns"
   ]
  },
  {
   "cell_type": "markdown",
   "id": "11b75ab1",
   "metadata": {},
   "source": [
    "- Filling and Syncing the Missing Shipping Information"
   ]
  },
  {
   "cell_type": "code",
   "execution_count": 227,
   "id": "efb96fa1",
   "metadata": {},
   "outputs": [
    {
     "data": {
      "text/html": [
       "<div>\n",
       "<style scoped>\n",
       "    .dataframe tbody tr th:only-of-type {\n",
       "        vertical-align: middle;\n",
       "    }\n",
       "\n",
       "    .dataframe tbody tr th {\n",
       "        vertical-align: top;\n",
       "    }\n",
       "\n",
       "    .dataframe thead th {\n",
       "        text-align: right;\n",
       "    }\n",
       "</style>\n",
       "<table border=\"1\" class=\"dataframe\">\n",
       "  <thead>\n",
       "    <tr style=\"text-align: right;\">\n",
       "      <th></th>\n",
       "      <th>Ship-City</th>\n",
       "      <th>Ship-State</th>\n",
       "      <th>Ship-Postal-Code</th>\n",
       "      <th>Ship-Country</th>\n",
       "    </tr>\n",
       "    <tr>\n",
       "      <th>index</th>\n",
       "      <th></th>\n",
       "      <th></th>\n",
       "      <th></th>\n",
       "      <th></th>\n",
       "    </tr>\n",
       "  </thead>\n",
       "  <tbody>\n",
       "  </tbody>\n",
       "</table>\n",
       "</div>"
      ],
      "text/plain": [
       "Empty DataFrame\n",
       "Columns: [Ship-City, Ship-State, Ship-Postal-Code, Ship-Country]\n",
       "Index: []"
      ]
     },
     "execution_count": 227,
     "metadata": {},
     "output_type": "execute_result"
    }
   ],
   "source": [
    "#locating the ship-city with \"null values\" to see if there's a correlation with Ship-Postal-Code and Ship-Country Columns\n",
    "df.loc[df[\"Ship-City\"].isnull(), \"Ship-City\":\"Ship-Country\"].head(6)"
   ]
  },
  {
   "cell_type": "code",
   "execution_count": 228,
   "id": "88b5eda2",
   "metadata": {},
   "outputs": [
    {
     "data": {
      "text/plain": [
       "BENGALURU    11250\n",
       "HYDERABAD     8074\n",
       "MUMBAI        6126\n",
       "NEW DELHI     5795\n",
       "CHENNAI       5421\n",
       "Name: Ship-City, dtype: int64"
      ]
     },
     "execution_count": 228,
     "metadata": {},
     "output_type": "execute_result"
    }
   ],
   "source": [
    "#confirming the ship city with the top counts\n",
    "df[\"Ship-City\"].value_counts().head()"
   ]
  },
  {
   "cell_type": "code",
   "execution_count": 229,
   "id": "594877c0",
   "metadata": {},
   "outputs": [],
   "source": [
    "#so to find the mode of the \"Ship-City\" column since its a categorical column\n",
    "ship_city_mode = df[\"Ship-City\"].mode()[0]\n",
    "\n",
    "#filling \"ship-city\" null values with mode value\n",
    "df[\"Ship-City\"].fillna(ship_city_mode, inplace = True)\n",
    "\n",
    "#filling the related columns with the mode value\n",
    "df[\"Ship-State\"].fillna(df[\"Ship-State\"].mode()[0], inplace = True)\n",
    "df[\"Ship-Postal-Code\"].fillna(df[\"Ship-Postal-Code\"].mode()[0], inplace = True)\n",
    "df[\"Ship-Country\"].fillna(df[\"Ship-Country\"].mode()[0], inplace = True)"
   ]
  },
  {
   "cell_type": "code",
   "execution_count": 230,
   "id": "3ab95cd6",
   "metadata": {},
   "outputs": [],
   "source": [
    "#to assert that there are no more null values in the specified columns after filling them\n",
    "assert df[\"Ship-City\"].isnull().sum() == 0, \"null values still exist in Ship City column\"\n",
    "assert df[\"Ship-State\"].isnull().sum() == 0, \"null values still exist in Ship State column\"\n",
    "assert df[\"Ship-Postal-Code\"].isnull().sum() == 0, \"null values still exist in Ship Postal Code column\"\n",
    "assert df[\"Ship-Country\"].isnull().sum() == 0, \"null values still exist in Ship Country column\""
   ]
  },
  {
   "cell_type": "markdown",
   "id": "36efb260",
   "metadata": {},
   "source": [
    "## 5.  Dealing with `Promotion-ids` Column"
   ]
  },
  {
   "cell_type": "code",
   "execution_count": 231,
   "id": "75e4f73e",
   "metadata": {},
   "outputs": [
    {
     "name": "stdout",
     "output_type": "stream",
     "text": [
      "0\n"
     ]
    }
   ],
   "source": [
    "#to get the count of the null values in the \"Promotion-ids\" column\n",
    "print(df[\"Promotion-ids\"].isna().sum())\n",
    "\n",
    "\n",
    "#filling the null with mode value\n",
    "df[\"Promotion-ids\"] = df[\"Promotion-ids\"].fillna(df[\"Promotion-ids\"].mode()[0])"
   ]
  },
  {
   "cell_type": "code",
   "execution_count": 232,
   "id": "e48c919e",
   "metadata": {},
   "outputs": [],
   "source": [
    "#aserting that there are no null values in the \"Promotion-ids\" column\n",
    "assert df[\"Promotion-ids\"].isnull().sum() == 0, \"null values still exist in the 'Promotion-ids' column\""
   ]
  },
  {
   "cell_type": "code",
   "execution_count": 233,
   "id": "c74a6952",
   "metadata": {},
   "outputs": [
    {
     "name": "stdout",
     "output_type": "stream",
     "text": [
      "0\n"
     ]
    }
   ],
   "source": [
    "print(df[\"Promotion-ids\"].isna().sum())"
   ]
  },
  {
   "cell_type": "markdown",
   "id": "b98cfdcd",
   "metadata": {},
   "source": [
    "## 6.  Dealing with `Fulfilled-by` Column"
   ]
  },
  {
   "cell_type": "code",
   "execution_count": 214,
   "id": "ce3ec4cd",
   "metadata": {},
   "outputs": [
    {
     "data": {
      "text/plain": [
       "Easy Ship    39277\n",
       "Name: Fulfilled-by, dtype: int64"
      ]
     },
     "execution_count": 214,
     "metadata": {},
     "output_type": "execute_result"
    }
   ],
   "source": [
    "#to get the count of each unique value in the \"fulfilled-by\" column\n",
    "df[\"Fulfilled-by\"].value_counts()"
   ]
  },
  {
   "cell_type": "code",
   "execution_count": 235,
   "id": "af40e08c",
   "metadata": {},
   "outputs": [
    {
     "name": "stdout",
     "output_type": "stream",
     "text": [
      "0\n"
     ]
    }
   ],
   "source": [
    "#to get the count of the null values in the \"fulfilled-by\" column\n",
    "print(df[\"Fulfilled-by\"].isna().sum())\n",
    "\n",
    "\n",
    "#filling the null with mode value\n",
    "df[\"Fulfilled-by\"] = df[\"Fulfilled-by\"].fillna(\"Easy Ship\")"
   ]
  },
  {
   "cell_type": "code",
   "execution_count": 236,
   "id": "f1d5f46f",
   "metadata": {},
   "outputs": [],
   "source": [
    "#aserting that there are no null values in the \"fulfilled-by\" column\n",
    "assert df[\"Fulfilled-by\"].isnull().sum() == 0, \"null values still exist in the 'Fulfilled-by' column\""
   ]
  },
  {
   "cell_type": "code",
   "execution_count": 234,
   "id": "61bc7b42",
   "metadata": {},
   "outputs": [
    {
     "data": {
      "text/plain": [
       "Order ID                                     0\n",
       "Date                                         0\n",
       "Status                                       0\n",
       "Fulfilment                                   0\n",
       "Sales Channel                                0\n",
       "Ship-Service-Level                           0\n",
       "Style                                        0\n",
       "Stock Keeping Unit                           0\n",
       "Category                                     0\n",
       "Size                                         0\n",
       "Amazon Standard Identification Number        0\n",
       "Courier Status                               0\n",
       "Qty                                          0\n",
       "Currency                                     0\n",
       "Amount                                       0\n",
       "Ship-City                                    0\n",
       "Ship-State                                   0\n",
       "Ship-Postal-Code                             0\n",
       "Ship-Country                                 0\n",
       "Promotion-ids                                0\n",
       "B2B                                          0\n",
       "Fulfilled-by                                 0\n",
       "Unnamed: 22                              49050\n",
       "dtype: int64"
      ]
     },
     "execution_count": 234,
     "metadata": {},
     "output_type": "execute_result"
    }
   ],
   "source": [
    "df.isna().sum()"
   ]
  },
  {
   "cell_type": "code",
   "execution_count": 239,
   "id": "ef8b6f17",
   "metadata": {},
   "outputs": [
    {
     "data": {
      "text/plain": [
       "Shipped                          77804\n",
       "Shipped - Delivered to Buyer     28769\n",
       "Cancelled                        18332\n",
       "Shipped - Returned to Seller      1953\n",
       "Shipped - Picked Up                973\n",
       "Pending                            658\n",
       "Pending - Waiting for Pick Up      281\n",
       "Shipped - Returning to Seller      145\n",
       "Shipped - Out for Delivery          35\n",
       "Shipped - Rejected by Buyer         11\n",
       "Shipping                             8\n",
       "Shipped - Lost in Transit            5\n",
       "Shipped - Damaged                    1\n",
       "Name: Status, dtype: int64"
      ]
     },
     "execution_count": 239,
     "metadata": {},
     "output_type": "execute_result"
    }
   ],
   "source": [
    "df[\"Status\"].value_counts()"
   ]
  },
  {
   "cell_type": "code",
   "execution_count": null,
   "id": "411f1df0",
   "metadata": {},
   "outputs": [],
   "source": []
  }
 ],
 "metadata": {
  "kernelspec": {
   "display_name": "Python 3 (ipykernel)",
   "language": "python",
   "name": "python3"
  },
  "language_info": {
   "codemirror_mode": {
    "name": "ipython",
    "version": 3
   },
   "file_extension": ".py",
   "mimetype": "text/x-python",
   "name": "python",
   "nbconvert_exporter": "python",
   "pygments_lexer": "ipython3",
   "version": "3.9.12"
  }
 },
 "nbformat": 4,
 "nbformat_minor": 5
}
