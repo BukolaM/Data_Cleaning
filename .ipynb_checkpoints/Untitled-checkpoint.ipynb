{
 "cells": [
  {
   "cell_type": "code",
   "execution_count": 105,
   "id": "727361c7",
   "metadata": {},
   "outputs": [],
   "source": [
    "import pandas as pd\n",
    "import re\n",
    "import numpy as np"
   ]
  },
  {
   "cell_type": "code",
   "execution_count": 106,
   "id": "7bf73a64",
   "metadata": {
    "scrolled": true
   },
   "outputs": [
    {
     "data": {
      "text/html": [
       "<div>\n",
       "<style scoped>\n",
       "    .dataframe tbody tr th:only-of-type {\n",
       "        vertical-align: middle;\n",
       "    }\n",
       "\n",
       "    .dataframe tbody tr th {\n",
       "        vertical-align: top;\n",
       "    }\n",
       "\n",
       "    .dataframe thead th {\n",
       "        text-align: right;\n",
       "    }\n",
       "</style>\n",
       "<table border=\"1\" class=\"dataframe\">\n",
       "  <thead>\n",
       "    <tr style=\"text-align: right;\">\n",
       "      <th></th>\n",
       "      <th>MOVIES</th>\n",
       "      <th>YEAR</th>\n",
       "      <th>GENRE</th>\n",
       "      <th>RATING</th>\n",
       "      <th>ONE-LINE</th>\n",
       "      <th>STARS</th>\n",
       "      <th>VOTES</th>\n",
       "      <th>RunTime</th>\n",
       "      <th>Gross</th>\n",
       "    </tr>\n",
       "  </thead>\n",
       "  <tbody>\n",
       "    <tr>\n",
       "      <th>0</th>\n",
       "      <td>Blood Red Sky</td>\n",
       "      <td>-2021</td>\n",
       "      <td>\\nAction, Horror, Thriller</td>\n",
       "      <td>6.1</td>\n",
       "      <td>\\nA woman with a mysterious illness is forced ...</td>\n",
       "      <td>\\n    Director:\\nPeter Thorwarth\\n| \\n    Star...</td>\n",
       "      <td>21,062</td>\n",
       "      <td>121.0</td>\n",
       "      <td>NaN</td>\n",
       "    </tr>\n",
       "    <tr>\n",
       "      <th>1</th>\n",
       "      <td>Masters of the Universe: Revelation</td>\n",
       "      <td>(2021– )</td>\n",
       "      <td>\\nAnimation, Action, Adventure</td>\n",
       "      <td>5.0</td>\n",
       "      <td>\\nThe war for Eternia begins again in what may...</td>\n",
       "      <td>\\n            \\n    Stars:\\nChris Wood, \\nSara...</td>\n",
       "      <td>17,870</td>\n",
       "      <td>25.0</td>\n",
       "      <td>NaN</td>\n",
       "    </tr>\n",
       "    <tr>\n",
       "      <th>2</th>\n",
       "      <td>The Walking Dead</td>\n",
       "      <td>(2010–2022)</td>\n",
       "      <td>\\nDrama, Horror, Thriller</td>\n",
       "      <td>8.2</td>\n",
       "      <td>\\nSheriff Deputy Rick Grimes wakes up from a c...</td>\n",
       "      <td>\\n            \\n    Stars:\\nAndrew Lincoln, \\n...</td>\n",
       "      <td>885,805</td>\n",
       "      <td>44.0</td>\n",
       "      <td>NaN</td>\n",
       "    </tr>\n",
       "    <tr>\n",
       "      <th>3</th>\n",
       "      <td>Rick and Morty</td>\n",
       "      <td>(2013– )</td>\n",
       "      <td>\\nAnimation, Adventure, Comedy</td>\n",
       "      <td>9.2</td>\n",
       "      <td>\\nAn animated series that follows the exploits...</td>\n",
       "      <td>\\n            \\n    Stars:\\nJustin Roiland, \\n...</td>\n",
       "      <td>414,849</td>\n",
       "      <td>23.0</td>\n",
       "      <td>NaN</td>\n",
       "    </tr>\n",
       "    <tr>\n",
       "      <th>4</th>\n",
       "      <td>Army of Thieves</td>\n",
       "      <td>-2021</td>\n",
       "      <td>\\nAction, Crime, Horror</td>\n",
       "      <td>NaN</td>\n",
       "      <td>\\nA prequel, set before the events of Army of ...</td>\n",
       "      <td>\\n    Director:\\nMatthias Schweighöfer\\n| \\n  ...</td>\n",
       "      <td>NaN</td>\n",
       "      <td>NaN</td>\n",
       "      <td>NaN</td>\n",
       "    </tr>\n",
       "  </tbody>\n",
       "</table>\n",
       "</div>"
      ],
      "text/plain": [
       "                                MOVIES         YEAR  \\\n",
       "0                        Blood Red Sky        -2021   \n",
       "1  Masters of the Universe: Revelation     (2021– )   \n",
       "2                     The Walking Dead  (2010–2022)   \n",
       "3                       Rick and Morty     (2013– )   \n",
       "4                      Army of Thieves        -2021   \n",
       "\n",
       "                                        GENRE  RATING  \\\n",
       "0      \\nAction, Horror, Thriller                 6.1   \n",
       "1  \\nAnimation, Action, Adventure                 5.0   \n",
       "2       \\nDrama, Horror, Thriller                 8.2   \n",
       "3  \\nAnimation, Adventure, Comedy                 9.2   \n",
       "4         \\nAction, Crime, Horror                 NaN   \n",
       "\n",
       "                                            ONE-LINE  \\\n",
       "0  \\nA woman with a mysterious illness is forced ...   \n",
       "1  \\nThe war for Eternia begins again in what may...   \n",
       "2  \\nSheriff Deputy Rick Grimes wakes up from a c...   \n",
       "3  \\nAn animated series that follows the exploits...   \n",
       "4  \\nA prequel, set before the events of Army of ...   \n",
       "\n",
       "                                               STARS    VOTES  RunTime Gross  \n",
       "0  \\n    Director:\\nPeter Thorwarth\\n| \\n    Star...   21,062    121.0   NaN  \n",
       "1  \\n            \\n    Stars:\\nChris Wood, \\nSara...   17,870     25.0   NaN  \n",
       "2  \\n            \\n    Stars:\\nAndrew Lincoln, \\n...  885,805     44.0   NaN  \n",
       "3  \\n            \\n    Stars:\\nJustin Roiland, \\n...  414,849     23.0   NaN  \n",
       "4  \\n    Director:\\nMatthias Schweighöfer\\n| \\n  ...      NaN      NaN   NaN  "
      ]
     },
     "execution_count": 106,
     "metadata": {},
     "output_type": "execute_result"
    }
   ],
   "source": [
    "df = pd.read_csv('movies.data.csv')\n",
    "df.head()"
   ]
  },
  {
   "cell_type": "code",
   "execution_count": 107,
   "id": "907c9a9a",
   "metadata": {
    "scrolled": true
   },
   "outputs": [],
   "source": [
    "#convert headers lower case\n",
    "df.columns = [x.lower() for x in df.columns]"
   ]
  },
  {
   "cell_type": "code",
   "execution_count": 108,
   "id": "40c57901",
   "metadata": {},
   "outputs": [
    {
     "name": "stdout",
     "output_type": "stream",
     "text": [
      "<class 'pandas.core.frame.DataFrame'>\n",
      "RangeIndex: 9999 entries, 0 to 9998\n",
      "Data columns (total 9 columns):\n",
      " #   Column    Non-Null Count  Dtype  \n",
      "---  ------    --------------  -----  \n",
      " 0   movies    9999 non-null   object \n",
      " 1   year      9355 non-null   object \n",
      " 2   genre     9919 non-null   object \n",
      " 3   rating    8179 non-null   float64\n",
      " 4   one-line  9999 non-null   object \n",
      " 5   stars     9999 non-null   object \n",
      " 6   votes     8179 non-null   object \n",
      " 7   runtime   7041 non-null   float64\n",
      " 8   gross     460 non-null    object \n",
      "dtypes: float64(2), object(7)\n",
      "memory usage: 703.2+ KB\n"
     ]
    }
   ],
   "source": [
    "df.info()"
   ]
  },
  {
   "cell_type": "markdown",
   "id": "bf36b40a",
   "metadata": {},
   "source": [
    "## genre"
   ]
  },
  {
   "cell_type": "code",
   "execution_count": 109,
   "id": "5af55ffe",
   "metadata": {},
   "outputs": [],
   "source": [
    "df['genre'] = df['genre'].astype(str)"
   ]
  },
  {
   "cell_type": "code",
   "execution_count": 110,
   "id": "f0c15898",
   "metadata": {
    "scrolled": true
   },
   "outputs": [
    {
     "data": {
      "text/plain": [
       "0            Action\n",
       "1         Animation\n",
       "2             Drama\n",
       "3         Animation\n",
       "4            Action\n",
       "           ...     \n",
       "9994      Adventure\n",
       "9995      Animation\n",
       "9996    Documentary\n",
       "9997      Adventure\n",
       "9998      Adventure\n",
       "Name: genre1, Length: 9999, dtype: object"
      ]
     },
     "execution_count": 110,
     "metadata": {},
     "output_type": "execute_result"
    }
   ],
   "source": [
    "df['genre1'] = df['genre'].apply(lambda x: x.strip().split(',')[0])\n",
    "df['genre1']"
   ]
  },
  {
   "cell_type": "markdown",
   "id": "e801ba22",
   "metadata": {},
   "source": [
    "## one line"
   ]
  },
  {
   "cell_type": "code",
   "execution_count": 111,
   "id": "d6ff911c",
   "metadata": {},
   "outputs": [
    {
     "data": {
      "text/plain": [
       "0       A woman with a mysterious illness is forced in...\n",
       "1       The war for Eternia begins again in what may b...\n",
       "2       Sheriff Deputy Rick Grimes wakes up from a com...\n",
       "3       An animated series that follows the exploits o...\n",
       "4       A prequel, set before the events of Army of th...\n",
       "                              ...                        \n",
       "9994                                           Add a Plot\n",
       "9995                                           Add a Plot\n",
       "9996                                           Add a Plot\n",
       "9997                                           Add a Plot\n",
       "9998                                           Add a Plot\n",
       "Name: one_line1, Length: 9999, dtype: object"
      ]
     },
     "execution_count": 111,
     "metadata": {},
     "output_type": "execute_result"
    }
   ],
   "source": [
    "df['one_line1'] = df['one-line'].apply(lambda x: x.strip())\n",
    "df['one_line1']"
   ]
  },
  {
   "cell_type": "markdown",
   "id": "5132415a",
   "metadata": {},
   "source": [
    "## year"
   ]
  },
  {
   "cell_type": "code",
   "execution_count": 112,
   "id": "3ae00938",
   "metadata": {},
   "outputs": [
    {
     "data": {
      "text/plain": [
       "0            2021\n",
       "1            2021\n",
       "2       2010–2022\n",
       "3            2013\n",
       "4            2021\n",
       "          ...    \n",
       "9994         2021\n",
       "9995         2021\n",
       "9996         2022\n",
       "9997         2021\n",
       "9998         2021\n",
       "Name: year1, Length: 9999, dtype: object"
      ]
     },
     "execution_count": 112,
     "metadata": {},
     "output_type": "execute_result"
    }
   ],
   "source": [
    "pattern = '(\\d{4}–\\d{4}|\\d{4})'\n",
    "df['year1'] = df['year'].str.extract(\n",
    "                    pattern, \n",
    "                    expand=False)\n",
    "df['year1']"
   ]
  },
  {
   "cell_type": "markdown",
   "id": "84b15e46",
   "metadata": {},
   "source": [
    "## Stars"
   ]
  },
  {
   "cell_type": "code",
   "execution_count": 113,
   "id": "d46052a2",
   "metadata": {},
   "outputs": [
    {
     "data": {
      "text/plain": [
       "0       Director:Peter Thorwarth|     Stars:Peri Baume...\n",
       "1       Stars:Chris Wood, Sarah Michelle Gellar, Lena ...\n",
       "2       Stars:Andrew Lincoln, Norman Reedus, Melissa M...\n",
       "3       Stars:Justin Roiland, Chris Parnell, Spencer G...\n",
       "4       Director:Matthias Schweighöfer|     Stars:Matt...\n",
       "                              ...                        \n",
       "9994    Stars:Morgan Taylor Campbell, Chris Cope, Iñak...\n",
       "9995                                                     \n",
       "9996    Director:Orlando von Einsiedel|     Star:Princ...\n",
       "9997    Director:Jovanka Vuckovic|     Stars:Morgan Ta...\n",
       "9998    Director:Jovanka Vuckovic|     Stars:Morgan Ta...\n",
       "Name: stars, Length: 9999, dtype: object"
      ]
     },
     "execution_count": 113,
     "metadata": {},
     "output_type": "execute_result"
    }
   ],
   "source": [
    "df['stars'] = df['stars'].apply(lambda x: x.strip().replace('\\n', \"\"))\n",
    "df['stars']"
   ]
  },
  {
   "cell_type": "code",
   "execution_count": 114,
   "id": "b6a6832a",
   "metadata": {},
   "outputs": [],
   "source": [
    "def get_director(item):\n",
    "    if 'Director' not in item:\n",
    "        return 'No Director'\n",
    "    else:\n",
    "        item = item.split('|')[0].replace('Director:', '')\n",
    "        return item\n"
   ]
  },
  {
   "cell_type": "code",
   "execution_count": 115,
   "id": "4b2cb95a",
   "metadata": {},
   "outputs": [
    {
     "data": {
      "text/plain": [
       "0             Peter Thorwarth\n",
       "1                 No Director\n",
       "2                 No Director\n",
       "3                 No Director\n",
       "4       Matthias Schweighöfer\n",
       "                ...          \n",
       "9994              No Director\n",
       "9995              No Director\n",
       "9996    Orlando von Einsiedel\n",
       "9997         Jovanka Vuckovic\n",
       "9998         Jovanka Vuckovic\n",
       "Name: director, Length: 9999, dtype: object"
      ]
     },
     "execution_count": 115,
     "metadata": {},
     "output_type": "execute_result"
    }
   ],
   "source": [
    "df['director'] = df['stars'].apply(get_director)\n",
    "df['director']"
   ]
  },
  {
   "cell_type": "code",
   "execution_count": 116,
   "id": "adca9a25",
   "metadata": {},
   "outputs": [],
   "source": [
    "def get_stars(item):\n",
    "    if 'Stars' in item or 'Star' in item:\n",
    "        item = item.split('|')\n",
    "        if len(item) == 1:\n",
    "            item = item[0].replace('Stars:','').replace('Star:', '')\n",
    "        else:\n",
    "            item = item[1].replace('Stars:','').replace('Star:', '')\n",
    "        return item.strip()\n",
    "    else:\n",
    "        return 'No Star'\n",
    "     "
   ]
  },
  {
   "cell_type": "code",
   "execution_count": 117,
   "id": "ee3a8063",
   "metadata": {},
   "outputs": [],
   "source": [
    "df['star'] = df['stars'].apply(get_stars)"
   ]
  },
  {
   "cell_type": "markdown",
   "id": "2cf3604b",
   "metadata": {},
   "source": [
    "## gross"
   ]
  },
  {
   "cell_type": "code",
   "execution_count": 118,
   "id": "d1c19d9c",
   "metadata": {},
   "outputs": [],
   "source": [
    "df['gross'] = df['gross'].astype(str)\n",
    "df['gross1-(M)']= df['gross'].apply(lambda x:x.replace('$','').replace('M', ''))"
   ]
  },
  {
   "cell_type": "code",
   "execution_count": 119,
   "id": "33e5f9ad",
   "metadata": {},
   "outputs": [],
   "source": [
    "df['gross1-(M)'] = df['gross1-(M)'].astype(float)"
   ]
  },
  {
   "cell_type": "code",
   "execution_count": 120,
   "id": "a1698638",
   "metadata": {},
   "outputs": [],
   "source": [
    "df['gross1-(M)'] = df['gross1-(M)'].fillna(df['gross1-(M)'].mean())"
   ]
  },
  {
   "cell_type": "code",
   "execution_count": 121,
   "id": "bafc541e",
   "metadata": {},
   "outputs": [
    {
     "data": {
      "text/plain": [
       "0       43.70187\n",
       "1       43.70187\n",
       "2       43.70187\n",
       "3       43.70187\n",
       "4       43.70187\n",
       "          ...   \n",
       "9994    43.70187\n",
       "9995    43.70187\n",
       "9996    43.70187\n",
       "9997    43.70187\n",
       "9998    43.70187\n",
       "Name: gross1-(M), Length: 9999, dtype: float64"
      ]
     },
     "execution_count": 121,
     "metadata": {},
     "output_type": "execute_result"
    }
   ],
   "source": [
    "df['gross1-(M)']"
   ]
  },
  {
   "cell_type": "markdown",
   "id": "3e9da306",
   "metadata": {},
   "source": [
    "## run time"
   ]
  },
  {
   "cell_type": "code",
   "execution_count": 122,
   "id": "c4e16781",
   "metadata": {},
   "outputs": [
    {
     "data": {
      "text/plain": [
       "<AxesSubplot:>"
      ]
     },
     "execution_count": 122,
     "metadata": {},
     "output_type": "execute_result"
    },
    {
     "data": {
      "image/png": "[encoded data removed]",
      "text/plain": [
       "<Figure size 432x288 with 1 Axes>"
      ]
     },
     "metadata": {
      "needs_background": "light"
     },
     "output_type": "display_data"
    }
   ],
   "source": [
    "df['runtime'].hist()"
   ]
  },
  {
   "cell_type": "code",
   "execution_count": 123,
   "id": "d789c196",
   "metadata": {},
   "outputs": [],
   "source": [
    "df['runtime'] = df['runtime'].fillna(df['runtime'].median())"
   ]
  },
  {
   "cell_type": "markdown",
   "id": "43cca2e8",
   "metadata": {},
   "source": [
    "## votes"
   ]
  },
  {
   "cell_type": "code",
   "execution_count": 124,
   "id": "89eca2ee",
   "metadata": {},
   "outputs": [
    {
     "data": {
      "text/plain": [
       "<AxesSubplot:>"
      ]
     },
     "execution_count": 124,
     "metadata": {},
     "output_type": "execute_result"
    },
    {
     "data": {
      "image/png": "[encoded data removed]",
      "text/plain": [
       "<Figure size 432x288 with 1 Axes>"
      ]
     },
     "metadata": {
      "needs_background": "light"
     },
     "output_type": "display_data"
    }
   ],
   "source": [
    "df['votes'].hist()"
   ]
  },
  {
   "cell_type": "code",
   "execution_count": 125,
   "id": "5933fa12",
   "metadata": {},
   "outputs": [],
   "source": [
    "\n",
    "df['votes'] = df['votes'].astype(str)"
   ]
  },
  {
   "cell_type": "code",
   "execution_count": 126,
   "id": "f3b1a1a4",
   "metadata": {},
   "outputs": [],
   "source": [
    "df['votes']= df['votes'].apply(lambda x:x.replace(',',''))\n"
   ]
  },
  {
   "cell_type": "code",
   "execution_count": 127,
   "id": "4758bc8e",
   "metadata": {},
   "outputs": [],
   "source": [
    "\n",
    "df['votes'] = df['votes'].astype(float)"
   ]
  },
  {
   "cell_type": "code",
   "execution_count": 128,
   "id": "e578b6c5",
   "metadata": {},
   "outputs": [],
   "source": [
    "df['votes'] = df['votes'].fillna(df['votes'].mean())"
   ]
  },
  {
   "cell_type": "markdown",
   "id": "94719c01",
   "metadata": {},
   "source": [
    "## rating"
   ]
  },
  {
   "cell_type": "code",
   "execution_count": 129,
   "id": "17497e05",
   "metadata": {},
   "outputs": [
    {
     "data": {
      "text/plain": [
       "<AxesSubplot:>"
      ]
     },
     "execution_count": 129,
     "metadata": {},
     "output_type": "execute_result"
    },
    {
     "data": {
      "image/png": "[encoded data removed]",
      "text/plain": [
       "<Figure size 432x288 with 1 Axes>"
      ]
     },
     "metadata": {
      "needs_background": "light"
     },
     "output_type": "display_data"
    }
   ],
   "source": [
    "df['rating'].hist()"
   ]
  },
  {
   "cell_type": "code",
   "execution_count": 130,
   "id": "3e969115",
   "metadata": {},
   "outputs": [],
   "source": [
    "df['rating'] = df['rating'].fillna(df['rating'].median())"
   ]
  },
  {
   "cell_type": "code",
   "execution_count": 132,
   "id": "fe327a5a",
   "metadata": {},
   "outputs": [
    {
     "data": {
      "text/html": [
       "<div>\n",
       "<style scoped>\n",
       "    .dataframe tbody tr th:only-of-type {\n",
       "        vertical-align: middle;\n",
       "    }\n",
       "\n",
       "    .dataframe tbody tr th {\n",
       "        vertical-align: top;\n",
       "    }\n",
       "\n",
       "    .dataframe thead th {\n",
       "        text-align: right;\n",
       "    }\n",
       "</style>\n",
       "<table border=\"1\" class=\"dataframe\">\n",
       "  <thead>\n",
       "    <tr style=\"text-align: right;\">\n",
       "      <th></th>\n",
       "      <th>movies</th>\n",
       "      <th>rating</th>\n",
       "      <th>votes</th>\n",
       "      <th>runtime</th>\n",
       "      <th>genre1</th>\n",
       "      <th>one_line1</th>\n",
       "      <th>year1</th>\n",
       "      <th>director</th>\n",
       "      <th>star</th>\n",
       "      <th>gross1-(M)</th>\n",
       "    </tr>\n",
       "  </thead>\n",
       "  <tbody>\n",
       "    <tr>\n",
       "      <th>0</th>\n",
       "      <td>Blood Red Sky</td>\n",
       "      <td>6.1</td>\n",
       "      <td>21062.000000</td>\n",
       "      <td>121.0</td>\n",
       "      <td>Action</td>\n",
       "      <td>A woman with a mysterious illness is forced in...</td>\n",
       "      <td>2021</td>\n",
       "      <td>Peter Thorwarth</td>\n",
       "      <td>Peri Baumeister, Carl Anton Koch, Alexander Sc...</td>\n",
       "      <td>43.70187</td>\n",
       "    </tr>\n",
       "    <tr>\n",
       "      <th>1</th>\n",
       "      <td>Masters of the Universe: Revelation</td>\n",
       "      <td>5.0</td>\n",
       "      <td>17870.000000</td>\n",
       "      <td>25.0</td>\n",
       "      <td>Animation</td>\n",
       "      <td>The war for Eternia begins again in what may b...</td>\n",
       "      <td>2021</td>\n",
       "      <td>No Director</td>\n",
       "      <td>Chris Wood, Sarah Michelle Gellar, Lena Headey...</td>\n",
       "      <td>43.70187</td>\n",
       "    </tr>\n",
       "    <tr>\n",
       "      <th>2</th>\n",
       "      <td>The Walking Dead</td>\n",
       "      <td>8.2</td>\n",
       "      <td>885805.000000</td>\n",
       "      <td>44.0</td>\n",
       "      <td>Drama</td>\n",
       "      <td>Sheriff Deputy Rick Grimes wakes up from a com...</td>\n",
       "      <td>2010–2022</td>\n",
       "      <td>No Director</td>\n",
       "      <td>Andrew Lincoln, Norman Reedus, Melissa McBride...</td>\n",
       "      <td>43.70187</td>\n",
       "    </tr>\n",
       "    <tr>\n",
       "      <th>3</th>\n",
       "      <td>Rick and Morty</td>\n",
       "      <td>9.2</td>\n",
       "      <td>414849.000000</td>\n",
       "      <td>23.0</td>\n",
       "      <td>Animation</td>\n",
       "      <td>An animated series that follows the exploits o...</td>\n",
       "      <td>2013</td>\n",
       "      <td>No Director</td>\n",
       "      <td>Justin Roiland, Chris Parnell, Spencer Grammer...</td>\n",
       "      <td>43.70187</td>\n",
       "    </tr>\n",
       "    <tr>\n",
       "      <th>4</th>\n",
       "      <td>Army of Thieves</td>\n",
       "      <td>7.1</td>\n",
       "      <td>15124.062722</td>\n",
       "      <td>60.0</td>\n",
       "      <td>Action</td>\n",
       "      <td>A prequel, set before the events of Army of th...</td>\n",
       "      <td>2021</td>\n",
       "      <td>Matthias Schweighöfer</td>\n",
       "      <td>Matthias Schweighöfer, Nathalie Emmanuel, Ruby...</td>\n",
       "      <td>43.70187</td>\n",
       "    </tr>\n",
       "    <tr>\n",
       "      <th>...</th>\n",
       "      <td>...</td>\n",
       "      <td>...</td>\n",
       "      <td>...</td>\n",
       "      <td>...</td>\n",
       "      <td>...</td>\n",
       "      <td>...</td>\n",
       "      <td>...</td>\n",
       "      <td>...</td>\n",
       "      <td>...</td>\n",
       "      <td>...</td>\n",
       "    </tr>\n",
       "    <tr>\n",
       "      <th>9994</th>\n",
       "      <td>The Imperfects</td>\n",
       "      <td>7.1</td>\n",
       "      <td>15124.062722</td>\n",
       "      <td>60.0</td>\n",
       "      <td>Adventure</td>\n",
       "      <td>Add a Plot</td>\n",
       "      <td>2021</td>\n",
       "      <td>No Director</td>\n",
       "      <td>Morgan Taylor Campbell, Chris Cope, Iñaki Godo...</td>\n",
       "      <td>43.70187</td>\n",
       "    </tr>\n",
       "    <tr>\n",
       "      <th>9995</th>\n",
       "      <td>Arcane</td>\n",
       "      <td>7.1</td>\n",
       "      <td>15124.062722</td>\n",
       "      <td>60.0</td>\n",
       "      <td>Animation</td>\n",
       "      <td>Add a Plot</td>\n",
       "      <td>2021</td>\n",
       "      <td>No Director</td>\n",
       "      <td>No Star</td>\n",
       "      <td>43.70187</td>\n",
       "    </tr>\n",
       "    <tr>\n",
       "      <th>9996</th>\n",
       "      <td>Heart of Invictus</td>\n",
       "      <td>7.1</td>\n",
       "      <td>15124.062722</td>\n",
       "      <td>60.0</td>\n",
       "      <td>Documentary</td>\n",
       "      <td>Add a Plot</td>\n",
       "      <td>2022</td>\n",
       "      <td>Orlando von Einsiedel</td>\n",
       "      <td>Prince Harry</td>\n",
       "      <td>43.70187</td>\n",
       "    </tr>\n",
       "    <tr>\n",
       "      <th>9997</th>\n",
       "      <td>The Imperfects</td>\n",
       "      <td>7.1</td>\n",
       "      <td>15124.062722</td>\n",
       "      <td>60.0</td>\n",
       "      <td>Adventure</td>\n",
       "      <td>Add a Plot</td>\n",
       "      <td>2021</td>\n",
       "      <td>Jovanka Vuckovic</td>\n",
       "      <td>Morgan Taylor Campbell, Iñaki Godoy, Rhianna J...</td>\n",
       "      <td>43.70187</td>\n",
       "    </tr>\n",
       "    <tr>\n",
       "      <th>9998</th>\n",
       "      <td>The Imperfects</td>\n",
       "      <td>7.1</td>\n",
       "      <td>15124.062722</td>\n",
       "      <td>60.0</td>\n",
       "      <td>Adventure</td>\n",
       "      <td>Add a Plot</td>\n",
       "      <td>2021</td>\n",
       "      <td>Jovanka Vuckovic</td>\n",
       "      <td>Morgan Taylor Campbell, Jennifer Cheon Garcia,...</td>\n",
       "      <td>43.70187</td>\n",
       "    </tr>\n",
       "  </tbody>\n",
       "</table>\n",
       "<p>9999 rows × 10 columns</p>\n",
       "</div>"
      ],
      "text/plain": [
       "                                   movies  rating          votes  runtime  \\\n",
       "0                           Blood Red Sky     6.1   21062.000000    121.0   \n",
       "1     Masters of the Universe: Revelation     5.0   17870.000000     25.0   \n",
       "2                        The Walking Dead     8.2  885805.000000     44.0   \n",
       "3                          Rick and Morty     9.2  414849.000000     23.0   \n",
       "4                         Army of Thieves     7.1   15124.062722     60.0   \n",
       "...                                   ...     ...            ...      ...   \n",
       "9994                       The Imperfects     7.1   15124.062722     60.0   \n",
       "9995                               Arcane     7.1   15124.062722     60.0   \n",
       "9996                    Heart of Invictus     7.1   15124.062722     60.0   \n",
       "9997                       The Imperfects     7.1   15124.062722     60.0   \n",
       "9998                       The Imperfects     7.1   15124.062722     60.0   \n",
       "\n",
       "           genre1                                          one_line1  \\\n",
       "0          Action  A woman with a mysterious illness is forced in...   \n",
       "1       Animation  The war for Eternia begins again in what may b...   \n",
       "2           Drama  Sheriff Deputy Rick Grimes wakes up from a com...   \n",
       "3       Animation  An animated series that follows the exploits o...   \n",
       "4          Action  A prequel, set before the events of Army of th...   \n",
       "...           ...                                                ...   \n",
       "9994    Adventure                                         Add a Plot   \n",
       "9995    Animation                                         Add a Plot   \n",
       "9996  Documentary                                         Add a Plot   \n",
       "9997    Adventure                                         Add a Plot   \n",
       "9998    Adventure                                         Add a Plot   \n",
       "\n",
       "          year1               director  \\\n",
       "0          2021        Peter Thorwarth   \n",
       "1          2021            No Director   \n",
       "2     2010–2022            No Director   \n",
       "3          2013            No Director   \n",
       "4          2021  Matthias Schweighöfer   \n",
       "...         ...                    ...   \n",
       "9994       2021            No Director   \n",
       "9995       2021            No Director   \n",
       "9996       2022  Orlando von Einsiedel   \n",
       "9997       2021       Jovanka Vuckovic   \n",
       "9998       2021       Jovanka Vuckovic   \n",
       "\n",
       "                                                   star  gross1-(M)  \n",
       "0     Peri Baumeister, Carl Anton Koch, Alexander Sc...    43.70187  \n",
       "1     Chris Wood, Sarah Michelle Gellar, Lena Headey...    43.70187  \n",
       "2     Andrew Lincoln, Norman Reedus, Melissa McBride...    43.70187  \n",
       "3     Justin Roiland, Chris Parnell, Spencer Grammer...    43.70187  \n",
       "4     Matthias Schweighöfer, Nathalie Emmanuel, Ruby...    43.70187  \n",
       "...                                                 ...         ...  \n",
       "9994  Morgan Taylor Campbell, Chris Cope, Iñaki Godo...    43.70187  \n",
       "9995                                            No Star    43.70187  \n",
       "9996                                       Prince Harry    43.70187  \n",
       "9997  Morgan Taylor Campbell, Iñaki Godoy, Rhianna J...    43.70187  \n",
       "9998  Morgan Taylor Campbell, Jennifer Cheon Garcia,...    43.70187  \n",
       "\n",
       "[9999 rows x 10 columns]"
      ]
     },
     "execution_count": 132,
     "metadata": {},
     "output_type": "execute_result"
    }
   ],
   "source": [
    "df.drop(columns= ['year', 'one-line','gross', 'genre', 'stars'] )"
   ]
  },
  {
   "cell_type": "code",
   "execution_count": 134,
   "id": "90e5ce32",
   "metadata": {},
   "outputs": [
    {
     "name": "stdout",
     "output_type": "stream",
     "text": [
      "<class 'pandas.core.frame.DataFrame'>\n",
      "RangeIndex: 9999 entries, 0 to 9998\n",
      "Data columns (total 15 columns):\n",
      " #   Column      Non-Null Count  Dtype  \n",
      "---  ------      --------------  -----  \n",
      " 0   movies      9999 non-null   object \n",
      " 1   year        9355 non-null   object \n",
      " 2   genre       9999 non-null   object \n",
      " 3   rating      9999 non-null   float64\n",
      " 4   one-line    9999 non-null   object \n",
      " 5   stars       9999 non-null   object \n",
      " 6   votes       9999 non-null   float64\n",
      " 7   runtime     9999 non-null   float64\n",
      " 8   gross       9999 non-null   object \n",
      " 9   genre1      9999 non-null   object \n",
      " 10  one_line1   9999 non-null   object \n",
      " 11  year1       9251 non-null   object \n",
      " 12  director    9999 non-null   object \n",
      " 13  star        9999 non-null   object \n",
      " 14  gross1-(M)  9999 non-null   float64\n",
      "dtypes: float64(4), object(11)\n",
      "memory usage: 1.1+ MB\n"
     ]
    }
   ],
   "source": [
    "df.info()"
   ]
  },
  {
   "cell_type": "code",
   "execution_count": null,
   "id": "60a6c80e",
   "metadata": {},
   "outputs": [],
   "source": []
  }
 ],
 "metadata": {
  "kernelspec": {
   "display_name": "Python 3 (ipykernel)",
   "language": "python",
   "name": "python3"
  },
  "language_info": {
   "codemirror_mode": {
    "name": "ipython",
    "version": 3
   },
   "file_extension": ".py",
   "mimetype": "text/x-python",
   "name": "python",
   "nbconvert_exporter": "python",
   "pygments_lexer": "ipython3",
   "version": "3.9.12"
  }
 },
 "nbformat": 4,
 "nbformat_minor": 5
}
