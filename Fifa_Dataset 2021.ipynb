{
 "cells": [
  {
   "cell_type": "markdown",
   "id": "f31892da",
   "metadata": {},
   "source": [
    "## FIFA'21 Dataset"
   ]
  },
  {
   "cell_type": "markdown",
   "id": "166fc26e",
   "metadata": {},
   "source": [
    "#### The major aim of this project is to clean the  messy, raw dataset for exploring"
   ]
  },
  {
   "cell_type": "code",
   "execution_count": 1,
   "id": "3e6b34fb",
   "metadata": {},
   "outputs": [],
   "source": [
    "#importing libraries\n",
    "import pandas as pd\n",
    "import numpy as np"
   ]
  },
  {
   "cell_type": "code",
   "execution_count": 469,
   "id": "c428fbaf",
   "metadata": {
    "scrolled": true
   },
   "outputs": [
    {
     "name": "stderr",
     "output_type": "stream",
     "text": [
      "/var/folders/73/dfnlcqg57w7btn76pt1r17cm0000gp/T/ipykernel_6865/2715229434.py:2: DtypeWarning: Columns (76) have mixed types. Specify dtype option on import or set low_memory=False.\n",
      "  df = pd.read_csv('fifa21 raw data v2.csv')\n"
     ]
    },
    {
     "data": {
      "text/html": [
       "<div>\n",
       "<style scoped>\n",
       "    .dataframe tbody tr th:only-of-type {\n",
       "        vertical-align: middle;\n",
       "    }\n",
       "\n",
       "    .dataframe tbody tr th {\n",
       "        vertical-align: top;\n",
       "    }\n",
       "\n",
       "    .dataframe thead th {\n",
       "        text-align: right;\n",
       "    }\n",
       "</style>\n",
       "<table border=\"1\" class=\"dataframe\">\n",
       "  <thead>\n",
       "    <tr style=\"text-align: right;\">\n",
       "      <th></th>\n",
       "      <th>ID</th>\n",
       "      <th>Name</th>\n",
       "      <th>LongName</th>\n",
       "      <th>photoUrl</th>\n",
       "      <th>playerUrl</th>\n",
       "      <th>Nationality</th>\n",
       "      <th>Age</th>\n",
       "      <th>↓OVA</th>\n",
       "      <th>POT</th>\n",
       "      <th>Club</th>\n",
       "      <th>...</th>\n",
       "      <th>A/W</th>\n",
       "      <th>D/W</th>\n",
       "      <th>IR</th>\n",
       "      <th>PAC</th>\n",
       "      <th>SHO</th>\n",
       "      <th>PAS</th>\n",
       "      <th>DRI</th>\n",
       "      <th>DEF</th>\n",
       "      <th>PHY</th>\n",
       "      <th>Hits</th>\n",
       "    </tr>\n",
       "  </thead>\n",
       "  <tbody>\n",
       "    <tr>\n",
       "      <th>0</th>\n",
       "      <td>158023</td>\n",
       "      <td>L. Messi</td>\n",
       "      <td>Lionel Messi</td>\n",
       "      <td>https://cdn.sofifa.com/players/158/023/21_60.png</td>\n",
       "      <td>http://sofifa.com/player/158023/lionel-messi/2...</td>\n",
       "      <td>Argentina</td>\n",
       "      <td>33</td>\n",
       "      <td>93</td>\n",
       "      <td>93</td>\n",
       "      <td>\\n\\n\\n\\nFC Barcelona</td>\n",
       "      <td>...</td>\n",
       "      <td>Medium</td>\n",
       "      <td>Low</td>\n",
       "      <td>5 ★</td>\n",
       "      <td>85</td>\n",
       "      <td>92</td>\n",
       "      <td>91</td>\n",
       "      <td>95</td>\n",
       "      <td>38</td>\n",
       "      <td>65</td>\n",
       "      <td>771</td>\n",
       "    </tr>\n",
       "    <tr>\n",
       "      <th>1</th>\n",
       "      <td>20801</td>\n",
       "      <td>Cristiano Ronaldo</td>\n",
       "      <td>C. Ronaldo dos Santos Aveiro</td>\n",
       "      <td>https://cdn.sofifa.com/players/020/801/21_60.png</td>\n",
       "      <td>http://sofifa.com/player/20801/c-ronaldo-dos-s...</td>\n",
       "      <td>Portugal</td>\n",
       "      <td>35</td>\n",
       "      <td>92</td>\n",
       "      <td>92</td>\n",
       "      <td>\\n\\n\\n\\nJuventus</td>\n",
       "      <td>...</td>\n",
       "      <td>High</td>\n",
       "      <td>Low</td>\n",
       "      <td>5 ★</td>\n",
       "      <td>89</td>\n",
       "      <td>93</td>\n",
       "      <td>81</td>\n",
       "      <td>89</td>\n",
       "      <td>35</td>\n",
       "      <td>77</td>\n",
       "      <td>562</td>\n",
       "    </tr>\n",
       "    <tr>\n",
       "      <th>2</th>\n",
       "      <td>200389</td>\n",
       "      <td>J. Oblak</td>\n",
       "      <td>Jan Oblak</td>\n",
       "      <td>https://cdn.sofifa.com/players/200/389/21_60.png</td>\n",
       "      <td>http://sofifa.com/player/200389/jan-oblak/210006/</td>\n",
       "      <td>Slovenia</td>\n",
       "      <td>27</td>\n",
       "      <td>91</td>\n",
       "      <td>93</td>\n",
       "      <td>\\n\\n\\n\\nAtlético Madrid</td>\n",
       "      <td>...</td>\n",
       "      <td>Medium</td>\n",
       "      <td>Medium</td>\n",
       "      <td>3 ★</td>\n",
       "      <td>87</td>\n",
       "      <td>92</td>\n",
       "      <td>78</td>\n",
       "      <td>90</td>\n",
       "      <td>52</td>\n",
       "      <td>90</td>\n",
       "      <td>150</td>\n",
       "    </tr>\n",
       "    <tr>\n",
       "      <th>3</th>\n",
       "      <td>192985</td>\n",
       "      <td>K. De Bruyne</td>\n",
       "      <td>Kevin De Bruyne</td>\n",
       "      <td>https://cdn.sofifa.com/players/192/985/21_60.png</td>\n",
       "      <td>http://sofifa.com/player/192985/kevin-de-bruyn...</td>\n",
       "      <td>Belgium</td>\n",
       "      <td>29</td>\n",
       "      <td>91</td>\n",
       "      <td>91</td>\n",
       "      <td>\\n\\n\\n\\nManchester City</td>\n",
       "      <td>...</td>\n",
       "      <td>High</td>\n",
       "      <td>High</td>\n",
       "      <td>4 ★</td>\n",
       "      <td>76</td>\n",
       "      <td>86</td>\n",
       "      <td>93</td>\n",
       "      <td>88</td>\n",
       "      <td>64</td>\n",
       "      <td>78</td>\n",
       "      <td>207</td>\n",
       "    </tr>\n",
       "    <tr>\n",
       "      <th>4</th>\n",
       "      <td>190871</td>\n",
       "      <td>Neymar Jr</td>\n",
       "      <td>Neymar da Silva Santos Jr.</td>\n",
       "      <td>https://cdn.sofifa.com/players/190/871/21_60.png</td>\n",
       "      <td>http://sofifa.com/player/190871/neymar-da-silv...</td>\n",
       "      <td>Brazil</td>\n",
       "      <td>28</td>\n",
       "      <td>91</td>\n",
       "      <td>91</td>\n",
       "      <td>\\n\\n\\n\\nParis Saint-Germain</td>\n",
       "      <td>...</td>\n",
       "      <td>High</td>\n",
       "      <td>Medium</td>\n",
       "      <td>5 ★</td>\n",
       "      <td>91</td>\n",
       "      <td>85</td>\n",
       "      <td>86</td>\n",
       "      <td>94</td>\n",
       "      <td>36</td>\n",
       "      <td>59</td>\n",
       "      <td>595</td>\n",
       "    </tr>\n",
       "  </tbody>\n",
       "</table>\n",
       "<p>5 rows × 77 columns</p>\n",
       "</div>"
      ],
      "text/plain": [
       "       ID               Name                      LongName  \\\n",
       "0  158023           L. Messi                  Lionel Messi   \n",
       "1   20801  Cristiano Ronaldo  C. Ronaldo dos Santos Aveiro   \n",
       "2  200389           J. Oblak                     Jan Oblak   \n",
       "3  192985       K. De Bruyne               Kevin De Bruyne   \n",
       "4  190871          Neymar Jr    Neymar da Silva Santos Jr.   \n",
       "\n",
       "                                           photoUrl  \\\n",
       "0  https://cdn.sofifa.com/players/158/023/21_60.png   \n",
       "1  https://cdn.sofifa.com/players/020/801/21_60.png   \n",
       "2  https://cdn.sofifa.com/players/200/389/21_60.png   \n",
       "3  https://cdn.sofifa.com/players/192/985/21_60.png   \n",
       "4  https://cdn.sofifa.com/players/190/871/21_60.png   \n",
       "\n",
       "                                           playerUrl Nationality  Age  ↓OVA  \\\n",
       "0  http://sofifa.com/player/158023/lionel-messi/2...   Argentina   33    93   \n",
       "1  http://sofifa.com/player/20801/c-ronaldo-dos-s...    Portugal   35    92   \n",
       "2  http://sofifa.com/player/200389/jan-oblak/210006/    Slovenia   27    91   \n",
       "3  http://sofifa.com/player/192985/kevin-de-bruyn...     Belgium   29    91   \n",
       "4  http://sofifa.com/player/190871/neymar-da-silv...      Brazil   28    91   \n",
       "\n",
       "   POT                         Club  ...     A/W     D/W   IR PAC SHO  PAS  \\\n",
       "0   93         \\n\\n\\n\\nFC Barcelona  ...  Medium     Low  5 ★  85  92   91   \n",
       "1   92             \\n\\n\\n\\nJuventus  ...    High     Low  5 ★  89  93   81   \n",
       "2   93      \\n\\n\\n\\nAtlético Madrid  ...  Medium  Medium  3 ★  87  92   78   \n",
       "3   91      \\n\\n\\n\\nManchester City  ...    High    High  4 ★  76  86   93   \n",
       "4   91  \\n\\n\\n\\nParis Saint-Germain  ...    High  Medium  5 ★  91  85   86   \n",
       "\n",
       "  DRI DEF PHY Hits  \n",
       "0  95  38  65  771  \n",
       "1  89  35  77  562  \n",
       "2  90  52  90  150  \n",
       "3  88  64  78  207  \n",
       "4  94  36  59  595  \n",
       "\n",
       "[5 rows x 77 columns]"
      ]
     },
     "execution_count": 469,
     "metadata": {},
     "output_type": "execute_result"
    }
   ],
   "source": [
    "#reading the dataset to a dataframe\n",
    "df = pd.read_csv('fifa21 raw data v2.csv')\n",
    "\n",
    "#the first five records of the data\n",
    "df.head(5)"
   ]
  },
  {
   "cell_type": "code",
   "execution_count": 470,
   "id": "8b32dd37",
   "metadata": {
    "scrolled": true
   },
   "outputs": [
    {
     "name": "stdout",
     "output_type": "stream",
     "text": [
      "This is the Dataset information :\n",
      "\n",
      "<class 'pandas.core.frame.DataFrame'>\n",
      "RangeIndex: 18979 entries, 0 to 18978\n",
      "Data columns (total 77 columns):\n",
      " #   Column            Non-Null Count  Dtype \n",
      "---  ------            --------------  ----- \n",
      " 0   ID                18979 non-null  int64 \n",
      " 1   Name              18979 non-null  object\n",
      " 2   LongName          18979 non-null  object\n",
      " 3   photoUrl          18979 non-null  object\n",
      " 4   playerUrl         18979 non-null  object\n",
      " 5   Nationality       18979 non-null  object\n",
      " 6   Age               18979 non-null  int64 \n",
      " 7   ↓OVA              18979 non-null  int64 \n",
      " 8   POT               18979 non-null  int64 \n",
      " 9   Club              18979 non-null  object\n",
      " 10  Contract          18979 non-null  object\n",
      " 11  Positions         18979 non-null  object\n",
      " 12  Height            18979 non-null  object\n",
      " 13  Weight            18979 non-null  object\n",
      " 14  Preferred Foot    18979 non-null  object\n",
      " 15  BOV               18979 non-null  int64 \n",
      " 16  Best Position     18979 non-null  object\n",
      " 17  Joined            18979 non-null  object\n",
      " 18  Loan Date End     1013 non-null   object\n",
      " 19  Value             18979 non-null  object\n",
      " 20  Wage              18979 non-null  object\n",
      " 21  Release Clause    18979 non-null  object\n",
      " 22  Attacking         18979 non-null  int64 \n",
      " 23  Crossing          18979 non-null  int64 \n",
      " 24  Finishing         18979 non-null  int64 \n",
      " 25  Heading Accuracy  18979 non-null  int64 \n",
      " 26  Short Passing     18979 non-null  int64 \n",
      " 27  Volleys           18979 non-null  int64 \n",
      " 28  Skill             18979 non-null  int64 \n",
      " 29  Dribbling         18979 non-null  int64 \n",
      " 30  Curve             18979 non-null  int64 \n",
      " 31  FK Accuracy       18979 non-null  int64 \n",
      " 32  Long Passing      18979 non-null  int64 \n",
      " 33  Ball Control      18979 non-null  int64 \n",
      " 34  Movement          18979 non-null  int64 \n",
      " 35  Acceleration      18979 non-null  int64 \n",
      " 36  Sprint Speed      18979 non-null  int64 \n",
      " 37  Agility           18979 non-null  int64 \n",
      " 38  Reactions         18979 non-null  int64 \n",
      " 39  Balance           18979 non-null  int64 \n",
      " 40  Power             18979 non-null  int64 \n",
      " 41  Shot Power        18979 non-null  int64 \n",
      " 42  Jumping           18979 non-null  int64 \n",
      " 43  Stamina           18979 non-null  int64 \n",
      " 44  Strength          18979 non-null  int64 \n",
      " 45  Long Shots        18979 non-null  int64 \n",
      " 46  Mentality         18979 non-null  int64 \n",
      " 47  Aggression        18979 non-null  int64 \n",
      " 48  Interceptions     18979 non-null  int64 \n",
      " 49  Positioning       18979 non-null  int64 \n",
      " 50  Vision            18979 non-null  int64 \n",
      " 51  Penalties         18979 non-null  int64 \n",
      " 52  Composure         18979 non-null  int64 \n",
      " 53  Defending         18979 non-null  int64 \n",
      " 54  Marking           18979 non-null  int64 \n",
      " 55  Standing Tackle   18979 non-null  int64 \n",
      " 56  Sliding Tackle    18979 non-null  int64 \n",
      " 57  Goalkeeping       18979 non-null  int64 \n",
      " 58  GK Diving         18979 non-null  int64 \n",
      " 59  GK Handling       18979 non-null  int64 \n",
      " 60  GK Kicking        18979 non-null  int64 \n",
      " 61  GK Positioning    18979 non-null  int64 \n",
      " 62  GK Reflexes       18979 non-null  int64 \n",
      " 63  Total Stats       18979 non-null  int64 \n",
      " 64  Base Stats        18979 non-null  int64 \n",
      " 65  W/F               18979 non-null  object\n",
      " 66  SM                18979 non-null  object\n",
      " 67  A/W               18979 non-null  object\n",
      " 68  D/W               18979 non-null  object\n",
      " 69  IR                18979 non-null  object\n",
      " 70  PAC               18979 non-null  int64 \n",
      " 71  SHO               18979 non-null  int64 \n",
      " 72  PAS               18979 non-null  int64 \n",
      " 73  DRI               18979 non-null  int64 \n",
      " 74  DEF               18979 non-null  int64 \n",
      " 75  PHY               18979 non-null  int64 \n",
      " 76  Hits              16384 non-null  object\n",
      "dtypes: int64(54), object(23)\n",
      "memory usage: 11.1+ MB\n"
     ]
    }
   ],
   "source": [
    "print(f\"This is the Dataset information :\\n\")\n",
    "df.info()"
   ]
  },
  {
   "cell_type": "code",
   "execution_count": 471,
   "id": "52003397",
   "metadata": {},
   "outputs": [
    {
     "name": "stdout",
     "output_type": "stream",
     "text": [
      "There are 18979 rows and 77 columns in the dataset\n"
     ]
    }
   ],
   "source": [
    "#the number of rows and columns \n",
    "rows, columns = df.shape\n",
    "print(f\"There are {rows} rows and {columns} columns in the dataset\")"
   ]
  },
  {
   "cell_type": "markdown",
   "id": "edfaff7b",
   "metadata": {},
   "source": [
    "# Data Cleaning"
   ]
  },
  {
   "cell_type": "markdown",
   "id": "dc7f4699",
   "metadata": {},
   "source": [
    "#### Issue 1. Converting the header names to lower case for uniformity"
   ]
  },
  {
   "cell_type": "code",
   "execution_count": 472,
   "id": "2de4e84c",
   "metadata": {},
   "outputs": [],
   "source": [
    "# Converting all the header name into lower case\n",
    "df.columns = [x.lower() for x in df.columns]\n",
    "\n",
    "#renaming the column 'ova'\n",
    "df.rename(columns = {'↓ova': 'ova'}, inplace = True)\n",
    "\n",
    "# remove special character\n",
    "df.columns = df.columns.str.replace(' ', '_')"
   ]
  },
  {
   "cell_type": "code",
   "execution_count": 473,
   "id": "7cc6de20",
   "metadata": {
    "scrolled": true
   },
   "outputs": [
    {
     "data": {
      "text/plain": [
       "Index(['id', 'name', 'longname', 'photourl', 'playerurl', 'nationality', 'age',\n",
       "       'ova', 'pot', 'club', 'contract', 'positions', 'height', 'weight',\n",
       "       'preferred_foot', 'bov', 'best_position', 'joined', 'loan_date_end',\n",
       "       'value', 'wage', 'release_clause', 'attacking', 'crossing', 'finishing',\n",
       "       'heading_accuracy', 'short_passing', 'volleys', 'skill', 'dribbling',\n",
       "       'curve', 'fk_accuracy', 'long_passing', 'ball_control', 'movement',\n",
       "       'acceleration', 'sprint_speed', 'agility', 'reactions', 'balance',\n",
       "       'power', 'shot_power', 'jumping', 'stamina', 'strength', 'long_shots',\n",
       "       'mentality', 'aggression', 'interceptions', 'positioning', 'vision',\n",
       "       'penalties', 'composure', 'defending', 'marking', 'standing_tackle',\n",
       "       'sliding_tackle', 'goalkeeping', 'gk_diving', 'gk_handling',\n",
       "       'gk_kicking', 'gk_positioning', 'gk_reflexes', 'total_stats',\n",
       "       'base_stats', 'w/f', 'sm', 'a/w', 'd/w', 'ir', 'pac', 'sho', 'pas',\n",
       "       'dri', 'def', 'phy', 'hits'],\n",
       "      dtype='object')"
      ]
     },
     "execution_count": 473,
     "metadata": {},
     "output_type": "execute_result"
    }
   ],
   "source": [
    "df.columns"
   ]
  },
  {
   "cell_type": "markdown",
   "id": "7cdf4964",
   "metadata": {},
   "source": [
    "#### Issue 2. Dealing with the `club` Column "
   ]
  },
  {
   "cell_type": "code",
   "execution_count": 474,
   "id": "262998f5",
   "metadata": {
    "scrolled": true
   },
   "outputs": [
    {
     "data": {
      "text/plain": [
       "1779    \\n\\n\\n\\nClub Brugge KV\n",
       "Name: club, dtype: object"
      ]
     },
     "execution_count": 474,
     "metadata": {},
     "output_type": "execute_result"
    }
   ],
   "source": [
    "#reviewing the sample of club column\n",
    "df['club'].sample()"
   ]
  },
  {
   "cell_type": "code",
   "execution_count": 475,
   "id": "4f16450a",
   "metadata": {},
   "outputs": [],
   "source": [
    "#removing the new lines\n",
    "df['club'] = df['club'].apply(lambda x: x.strip())"
   ]
  },
  {
   "cell_type": "markdown",
   "id": "7729744a",
   "metadata": {},
   "source": [
    "#### Issue 3 .  Dealing with the `contract` Column "
   ]
  },
  {
   "cell_type": "code",
   "execution_count": 476,
   "id": "9ed32957",
   "metadata": {},
   "outputs": [],
   "source": [
    "df['contract'] = df['contract'].apply(lambda x: x.replace(' ~ ','-'))"
   ]
  },
  {
   "cell_type": "markdown",
   "id": "4f734a8b",
   "metadata": {},
   "source": [
    "- I noticed that some players are under contract, free,  while others are on loan.\n",
    "- In order to keep the column type consistent, we classify players under contract as active while classifying those on loan as such  unbiased parties"
   ]
  },
  {
   "cell_type": "code",
   "execution_count": 477,
   "id": "b3a986c0",
   "metadata": {},
   "outputs": [],
   "source": [
    "#function to define the terms of the contract \n",
    "def contract_terms(item):\n",
    "    if '-' in item:\n",
    "        return 'active'\n",
    "    if 'On Loan' in item:\n",
    "        return 'loan'\n",
    "    if 'Free' in item:\n",
    "        return 'free'"
   ]
  },
  {
   "cell_type": "code",
   "execution_count": 478,
   "id": "a75c44b8",
   "metadata": {},
   "outputs": [],
   "source": [
    "df['contract_terms'] = df['contract'].apply(contract_terms)"
   ]
  },
  {
   "cell_type": "markdown",
   "id": "d62918cf",
   "metadata": {},
   "source": [
    "#### Issue 4 .  Dealing with the `Joined` Column "
   ]
  },
  {
   "cell_type": "markdown",
   "id": "9d83a02c",
   "metadata": {},
   "source": [
    "- Based on the 'Joined' column, we can check which players have been playing at a club for more than 10 years!"
   ]
  },
  {
   "cell_type": "code",
   "execution_count": 479,
   "id": "f36ab23e",
   "metadata": {},
   "outputs": [],
   "source": [
    "#converting the joined date to pandas datetime and extracting the year\n",
    "df['previous_year'] = pd.to_datetime(df.joined).dt.year\n",
    "\n",
    "#changing the datatype to int for futher processing\n",
    "df['previous_year'] = df['previous_year'].astype('int')"
   ]
  },
  {
   "cell_type": "code",
   "execution_count": 480,
   "id": "3cc5346a",
   "metadata": {},
   "outputs": [],
   "source": [
    "#importing the required library to get the present year\n",
    "import datetime\n",
    "\n",
    "\n",
    "df['current_year'] = datetime.datetime.now().year\n",
    "\n",
    "\n",
    "#changing the datatype to int for futher processing\n",
    "df['current_year'] = df['current_year'].astype('int')"
   ]
  },
  {
   "cell_type": "code",
   "execution_count": 481,
   "id": "78aee660",
   "metadata": {},
   "outputs": [],
   "source": [
    "#the number of years the players has spent in a paricular club\n",
    "df['players_club_year'] = df['current_year'] - df['previous_year']"
   ]
  },
  {
   "cell_type": "markdown",
   "id": "3359d87e",
   "metadata": {},
   "source": [
    "#### Issue 5. Dealing with `Value`, `Wage`, `Release Clause` Columns"
   ]
  },
  {
   "cell_type": "code",
   "execution_count": 482,
   "id": "f140533a",
   "metadata": {},
   "outputs": [],
   "source": [
    "#uniform function to deal with the messiness\n",
    "def values(item):\n",
    "    try:\n",
    "        item = item.replace('€', '').strip()\n",
    "        if 'K' in item:\n",
    "            item = float(item.replace('K', ''))\n",
    "            item  = item * 1000\n",
    "        elif 'M' in item:\n",
    "            item = float(item.replace('M',''))\n",
    "            item = item * 1000000\n",
    "        else:\n",
    "            item = float(item)\n",
    "        return round(item)\n",
    "    \n",
    "    except:\n",
    "        return 0"
   ]
  },
  {
   "cell_type": "code",
   "execution_count": 483,
   "id": "7008e7b7",
   "metadata": {},
   "outputs": [],
   "source": [
    "#applying the function on the columns\n",
    "df['value_'] = df['value'].apply(values)\n",
    "df['wage_'] = df['wage'].apply(values)\n",
    "df['release_clause_'] = df['release_clause'].apply(values)"
   ]
  },
  {
   "cell_type": "markdown",
   "id": "546a2b63",
   "metadata": {},
   "source": [
    "#### Issue 6. Dealing with `Height` and `Weight` Columns"
   ]
  },
  {
   "cell_type": "code",
   "execution_count": 484,
   "id": "5b4d0688",
   "metadata": {},
   "outputs": [],
   "source": [
    "# function to deal with the Height column as some values were given in 'cm' and some in 'feet&inches'\n",
    "def parse_cm(item):\n",
    "    if 'cm' in item:\n",
    "        item = item.replace('cm', '')\n",
    "    else: \n",
    "        item = item.replace('\"','')\n",
    "        value = item.split(\"\\'\")\n",
    "        item = (int(value[0]) * 30.48) + (int(value[1]) * 2.54)\n",
    "    return int(item)"
   ]
  },
  {
   "cell_type": "code",
   "execution_count": 486,
   "id": "1649f314",
   "metadata": {},
   "outputs": [],
   "source": [
    "#applying the function\n",
    "df['height (cm)'] = df['height'].apply(parse_cm)"
   ]
  },
  {
   "cell_type": "code",
   "execution_count": 487,
   "id": "4de2977f",
   "metadata": {},
   "outputs": [],
   "source": [
    "# function to deal with the Weight column as some values were given in 'kg' and some in 'lbs(pounds)'\n",
    "def parse_kg(item):\n",
    "    if 'kg' in item:\n",
    "        item = item.replace('kg', '')\n",
    "    else:\n",
    "        value = item.replace('lbs', '')\n",
    "        item = int(value) * 0.453592\n",
    "    return round(int(item))"
   ]
  },
  {
   "cell_type": "code",
   "execution_count": 488,
   "id": "8263ba83",
   "metadata": {},
   "outputs": [],
   "source": [
    "#applying the function\n",
    "df['weight (kg)'] = df['weight'].apply(parse_kg)"
   ]
  },
  {
   "cell_type": "markdown",
   "id": "f485ac94",
   "metadata": {},
   "source": [
    "#### Issue 7. Dealing with `w/f `, `sm`,  and the   `ir` columns"
   ]
  },
  {
   "cell_type": "code",
   "execution_count": 489,
   "id": "9606d5f8",
   "metadata": {},
   "outputs": [],
   "source": [
    "# function to remove the 'star' characters\n",
    "def remove_star(item):\n",
    "    item = str(item)\n",
    "    item = int(item.replace('★', '').strip())\n",
    "    return item"
   ]
  },
  {
   "cell_type": "code",
   "execution_count": 490,
   "id": "2305a8fd",
   "metadata": {},
   "outputs": [],
   "source": [
    "#applying the function\n",
    "df['w/f_'] = df['w/f'].apply(remove_star)\n",
    "df['sm_'] = df['sm'].apply(remove_star)\n",
    "df['ir_'] = df['ir'].apply(remove_star)"
   ]
  },
  {
   "cell_type": "markdown",
   "id": "73bba1b3",
   "metadata": {},
   "source": [
    "#### Issue 8. Dealing with the  `hits` column"
   ]
  },
  {
   "cell_type": "code",
   "execution_count": 491,
   "id": "dd83a63c",
   "metadata": {},
   "outputs": [],
   "source": [
    "df['hits_'] = df['hits'].apply(values)"
   ]
  },
  {
   "cell_type": "markdown",
   "id": "ae787ab7",
   "metadata": {},
   "source": [
    "### Renaming and dropping the irrelevant  columns"
   ]
  },
  {
   "cell_type": "code",
   "execution_count": 492,
   "id": "c641bbc0",
   "metadata": {},
   "outputs": [],
   "source": [
    "columns = ['id', 'name', 'photourl', 'playerurl', 'joined',  'loan_date_end', 'value', 'wage', 'height', 'weight', \n",
    "           'release_clause', 'w/f', 'a/w','ir', 'hits']"
   ]
  },
  {
   "cell_type": "code",
   "execution_count": 493,
   "id": "0be1680e",
   "metadata": {},
   "outputs": [],
   "source": [
    "#dropping the columns\n",
    "df = df.drop(columns = columns , axis=1)"
   ]
  },
  {
   "cell_type": "code",
   "execution_count": 494,
   "id": "d425db9b",
   "metadata": {},
   "outputs": [],
   "source": [
    "dict = {'wage_' : 'wage',\n",
    "        'release_clause_': 'release_clause',\n",
    "        'value_': 'value',\n",
    "        'w/f_' : 'w/f',\n",
    "        'sm_' : 'sm',\n",
    "        'ir_' : 'ir',\n",
    "        'hits_': 'hits',\n",
    "       'height (cm)': 'height (cm)',\n",
    "       'weight (kg)':'weight (kg)'}"
   ]
  },
  {
   "cell_type": "code",
   "execution_count": 495,
   "id": "344cc4e6",
   "metadata": {},
   "outputs": [],
   "source": [
    "# call rename () method\n",
    "df.rename(columns = dict, inplace=True)"
   ]
  },
  {
   "cell_type": "markdown",
   "id": "ac524493",
   "metadata": {},
   "source": [
    "- Since all the cleaning is done, I would be exporting to a new csv for exploration"
   ]
  },
  {
   "cell_type": "code",
   "execution_count": 496,
   "id": "9ae045dc",
   "metadata": {},
   "outputs": [],
   "source": [
    "df_cleaned = df.to_csv('cleaned_fifa_data.csv')"
   ]
  }
 ],
 "metadata": {
  "kernelspec": {
   "display_name": "Python 3 (ipykernel)",
   "language": "python",
   "name": "python3"
  },
  "language_info": {
   "codemirror_mode": {
    "name": "ipython",
    "version": 3
   },
   "file_extension": ".py",
   "mimetype": "text/x-python",
   "name": "python",
   "nbconvert_exporter": "python",
   "pygments_lexer": "ipython3",
   "version": "3.9.12"
  }
 },
 "nbformat": 4,
 "nbformat_minor": 5
}
