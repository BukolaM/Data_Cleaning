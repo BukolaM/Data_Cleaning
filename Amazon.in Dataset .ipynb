{
 "cells": [
  {
   "cell_type": "code",
   "execution_count": 325,
   "id": "0c922b70",
   "metadata": {},
   "outputs": [],
   "source": [
    "import pandas as pd\n",
    "import matplotlib.pyplot as plt\n",
    "\n",
    "\n",
    "import warnings\n",
    "#suppress future warnings\n",
    "warnings.simplefilter(action = \"ignore\", category = FutureWarning )"
   ]
  },
  {
   "cell_type": "code",
   "execution_count": 326,
   "id": "4f838f31",
   "metadata": {},
   "outputs": [
    {
     "data": {
      "text/html": [
       "<div>\n",
       "<style scoped>\n",
       "    .dataframe tbody tr th:only-of-type {\n",
       "        vertical-align: middle;\n",
       "    }\n",
       "\n",
       "    .dataframe tbody tr th {\n",
       "        vertical-align: top;\n",
       "    }\n",
       "\n",
       "    .dataframe thead th {\n",
       "        text-align: right;\n",
       "    }\n",
       "</style>\n",
       "<table border=\"1\" class=\"dataframe\">\n",
       "  <thead>\n",
       "    <tr style=\"text-align: right;\">\n",
       "      <th></th>\n",
       "      <th>Order ID</th>\n",
       "      <th>Date</th>\n",
       "      <th>Status</th>\n",
       "      <th>Fulfilment</th>\n",
       "      <th>Sales Channel</th>\n",
       "      <th>ship-service-level</th>\n",
       "      <th>Style</th>\n",
       "      <th>SKU</th>\n",
       "      <th>Category</th>\n",
       "      <th>Size</th>\n",
       "      <th>ASIN</th>\n",
       "      <th>Courier Status</th>\n",
       "      <th>Qty</th>\n",
       "      <th>currency</th>\n",
       "      <th>Amount</th>\n",
       "      <th>ship-city</th>\n",
       "      <th>ship-state</th>\n",
       "      <th>ship-postal-code</th>\n",
       "      <th>ship-country</th>\n",
       "      <th>promotion-ids</th>\n",
       "      <th>B2B</th>\n",
       "      <th>fulfilled-by</th>\n",
       "      <th>Unnamed: 22</th>\n",
       "    </tr>\n",
       "    <tr>\n",
       "      <th>index</th>\n",
       "      <th></th>\n",
       "      <th></th>\n",
       "      <th></th>\n",
       "      <th></th>\n",
       "      <th></th>\n",
       "      <th></th>\n",
       "      <th></th>\n",
       "      <th></th>\n",
       "      <th></th>\n",
       "      <th></th>\n",
       "      <th></th>\n",
       "      <th></th>\n",
       "      <th></th>\n",
       "      <th></th>\n",
       "      <th></th>\n",
       "      <th></th>\n",
       "      <th></th>\n",
       "      <th></th>\n",
       "      <th></th>\n",
       "      <th></th>\n",
       "      <th></th>\n",
       "      <th></th>\n",
       "      <th></th>\n",
       "    </tr>\n",
       "  </thead>\n",
       "  <tbody>\n",
       "    <tr>\n",
       "      <th>0</th>\n",
       "      <td>405-8078784-5731545</td>\n",
       "      <td>04-30-22</td>\n",
       "      <td>Cancelled</td>\n",
       "      <td>Merchant</td>\n",
       "      <td>Amazon.in</td>\n",
       "      <td>Standard</td>\n",
       "      <td>SET389</td>\n",
       "      <td>SET389-KR-NP-S</td>\n",
       "      <td>Set</td>\n",
       "      <td>S</td>\n",
       "      <td>B09KXVBD7Z</td>\n",
       "      <td>NaN</td>\n",
       "      <td>0</td>\n",
       "      <td>INR</td>\n",
       "      <td>647.62</td>\n",
       "      <td>MUMBAI</td>\n",
       "      <td>MAHARASHTRA</td>\n",
       "      <td>400081.0</td>\n",
       "      <td>IN</td>\n",
       "      <td>NaN</td>\n",
       "      <td>False</td>\n",
       "      <td>Easy Ship</td>\n",
       "      <td>NaN</td>\n",
       "    </tr>\n",
       "    <tr>\n",
       "      <th>1</th>\n",
       "      <td>171-9198151-1101146</td>\n",
       "      <td>04-30-22</td>\n",
       "      <td>Shipped - Delivered to Buyer</td>\n",
       "      <td>Merchant</td>\n",
       "      <td>Amazon.in</td>\n",
       "      <td>Standard</td>\n",
       "      <td>JNE3781</td>\n",
       "      <td>JNE3781-KR-XXXL</td>\n",
       "      <td>kurta</td>\n",
       "      <td>3XL</td>\n",
       "      <td>B09K3WFS32</td>\n",
       "      <td>Shipped</td>\n",
       "      <td>1</td>\n",
       "      <td>INR</td>\n",
       "      <td>406.00</td>\n",
       "      <td>BENGALURU</td>\n",
       "      <td>KARNATAKA</td>\n",
       "      <td>560085.0</td>\n",
       "      <td>IN</td>\n",
       "      <td>Amazon PLCC Free-Financing Universal Merchant ...</td>\n",
       "      <td>False</td>\n",
       "      <td>Easy Ship</td>\n",
       "      <td>NaN</td>\n",
       "    </tr>\n",
       "    <tr>\n",
       "      <th>2</th>\n",
       "      <td>404-0687676-7273146</td>\n",
       "      <td>04-30-22</td>\n",
       "      <td>Shipped</td>\n",
       "      <td>Amazon</td>\n",
       "      <td>Amazon.in</td>\n",
       "      <td>Expedited</td>\n",
       "      <td>JNE3371</td>\n",
       "      <td>JNE3371-KR-XL</td>\n",
       "      <td>kurta</td>\n",
       "      <td>XL</td>\n",
       "      <td>B07WV4JV4D</td>\n",
       "      <td>Shipped</td>\n",
       "      <td>1</td>\n",
       "      <td>INR</td>\n",
       "      <td>329.00</td>\n",
       "      <td>NAVI MUMBAI</td>\n",
       "      <td>MAHARASHTRA</td>\n",
       "      <td>410210.0</td>\n",
       "      <td>IN</td>\n",
       "      <td>IN Core Free Shipping 2015/04/08 23-48-5-108</td>\n",
       "      <td>True</td>\n",
       "      <td>NaN</td>\n",
       "      <td>NaN</td>\n",
       "    </tr>\n",
       "    <tr>\n",
       "      <th>3</th>\n",
       "      <td>403-9615377-8133951</td>\n",
       "      <td>04-30-22</td>\n",
       "      <td>Cancelled</td>\n",
       "      <td>Merchant</td>\n",
       "      <td>Amazon.in</td>\n",
       "      <td>Standard</td>\n",
       "      <td>J0341</td>\n",
       "      <td>J0341-DR-L</td>\n",
       "      <td>Western Dress</td>\n",
       "      <td>L</td>\n",
       "      <td>B099NRCT7B</td>\n",
       "      <td>NaN</td>\n",
       "      <td>0</td>\n",
       "      <td>INR</td>\n",
       "      <td>753.33</td>\n",
       "      <td>PUDUCHERRY</td>\n",
       "      <td>PUDUCHERRY</td>\n",
       "      <td>605008.0</td>\n",
       "      <td>IN</td>\n",
       "      <td>NaN</td>\n",
       "      <td>False</td>\n",
       "      <td>Easy Ship</td>\n",
       "      <td>NaN</td>\n",
       "    </tr>\n",
       "  </tbody>\n",
       "</table>\n",
       "</div>"
      ],
      "text/plain": [
       "                  Order ID      Date                        Status Fulfilment  \\\n",
       "index                                                                           \n",
       "0      405-8078784-5731545  04-30-22                     Cancelled   Merchant   \n",
       "1      171-9198151-1101146  04-30-22  Shipped - Delivered to Buyer   Merchant   \n",
       "2      404-0687676-7273146  04-30-22                       Shipped     Amazon   \n",
       "3      403-9615377-8133951  04-30-22                     Cancelled   Merchant   \n",
       "\n",
       "      Sales Channel  ship-service-level    Style              SKU  \\\n",
       "index                                                               \n",
       "0          Amazon.in           Standard   SET389   SET389-KR-NP-S   \n",
       "1          Amazon.in           Standard  JNE3781  JNE3781-KR-XXXL   \n",
       "2          Amazon.in          Expedited  JNE3371    JNE3371-KR-XL   \n",
       "3          Amazon.in           Standard    J0341       J0341-DR-L   \n",
       "\n",
       "            Category Size        ASIN Courier Status  Qty currency  Amount  \\\n",
       "index                                                                        \n",
       "0                Set    S  B09KXVBD7Z            NaN    0      INR  647.62   \n",
       "1              kurta  3XL  B09K3WFS32        Shipped    1      INR  406.00   \n",
       "2              kurta   XL  B07WV4JV4D        Shipped    1      INR  329.00   \n",
       "3      Western Dress    L  B099NRCT7B            NaN    0      INR  753.33   \n",
       "\n",
       "         ship-city   ship-state  ship-postal-code ship-country  \\\n",
       "index                                                            \n",
       "0           MUMBAI  MAHARASHTRA          400081.0           IN   \n",
       "1        BENGALURU    KARNATAKA          560085.0           IN   \n",
       "2      NAVI MUMBAI  MAHARASHTRA          410210.0           IN   \n",
       "3       PUDUCHERRY   PUDUCHERRY          605008.0           IN   \n",
       "\n",
       "                                           promotion-ids    B2B fulfilled-by  \\\n",
       "index                                                                          \n",
       "0                                                    NaN  False    Easy Ship   \n",
       "1      Amazon PLCC Free-Financing Universal Merchant ...  False    Easy Ship   \n",
       "2           IN Core Free Shipping 2015/04/08 23-48-5-108   True          NaN   \n",
       "3                                                    NaN  False    Easy Ship   \n",
       "\n",
       "      Unnamed: 22  \n",
       "index              \n",
       "0             NaN  \n",
       "1             NaN  \n",
       "2             NaN  \n",
       "3             NaN  "
      ]
     },
     "execution_count": 326,
     "metadata": {},
     "output_type": "execute_result"
    }
   ],
   "source": [
    "df = pd.read_csv(\"Amazon Sale Report.csv\", index_col = \"index\",  low_memory=False)\n",
    "pd.set_option('display.max_columns', None)\n",
    "df.head(4)"
   ]
  },
  {
   "cell_type": "code",
   "execution_count": 327,
   "id": "c70754c8",
   "metadata": {
    "scrolled": false
   },
   "outputs": [
    {
     "data": {
      "text/html": [
       "<div>\n",
       "<style scoped>\n",
       "    .dataframe tbody tr th:only-of-type {\n",
       "        vertical-align: middle;\n",
       "    }\n",
       "\n",
       "    .dataframe tbody tr th {\n",
       "        vertical-align: top;\n",
       "    }\n",
       "\n",
       "    .dataframe thead th {\n",
       "        text-align: right;\n",
       "    }\n",
       "</style>\n",
       "<table border=\"1\" class=\"dataframe\">\n",
       "  <thead>\n",
       "    <tr style=\"text-align: right;\">\n",
       "      <th></th>\n",
       "      <th>count</th>\n",
       "      <th>unique</th>\n",
       "      <th>top</th>\n",
       "      <th>freq</th>\n",
       "      <th>mean</th>\n",
       "      <th>std</th>\n",
       "      <th>min</th>\n",
       "      <th>25%</th>\n",
       "      <th>50%</th>\n",
       "      <th>75%</th>\n",
       "      <th>max</th>\n",
       "    </tr>\n",
       "  </thead>\n",
       "  <tbody>\n",
       "    <tr>\n",
       "      <th>Order ID</th>\n",
       "      <td>128975</td>\n",
       "      <td>120378</td>\n",
       "      <td>171-5057375-2831560</td>\n",
       "      <td>12</td>\n",
       "      <td>NaN</td>\n",
       "      <td>NaN</td>\n",
       "      <td>NaN</td>\n",
       "      <td>NaN</td>\n",
       "      <td>NaN</td>\n",
       "      <td>NaN</td>\n",
       "      <td>NaN</td>\n",
       "    </tr>\n",
       "    <tr>\n",
       "      <th>Date</th>\n",
       "      <td>128975</td>\n",
       "      <td>91</td>\n",
       "      <td>05-03-22</td>\n",
       "      <td>2085</td>\n",
       "      <td>NaN</td>\n",
       "      <td>NaN</td>\n",
       "      <td>NaN</td>\n",
       "      <td>NaN</td>\n",
       "      <td>NaN</td>\n",
       "      <td>NaN</td>\n",
       "      <td>NaN</td>\n",
       "    </tr>\n",
       "    <tr>\n",
       "      <th>Status</th>\n",
       "      <td>128975</td>\n",
       "      <td>13</td>\n",
       "      <td>Shipped</td>\n",
       "      <td>77804</td>\n",
       "      <td>NaN</td>\n",
       "      <td>NaN</td>\n",
       "      <td>NaN</td>\n",
       "      <td>NaN</td>\n",
       "      <td>NaN</td>\n",
       "      <td>NaN</td>\n",
       "      <td>NaN</td>\n",
       "    </tr>\n",
       "    <tr>\n",
       "      <th>Fulfilment</th>\n",
       "      <td>128975</td>\n",
       "      <td>2</td>\n",
       "      <td>Amazon</td>\n",
       "      <td>89698</td>\n",
       "      <td>NaN</td>\n",
       "      <td>NaN</td>\n",
       "      <td>NaN</td>\n",
       "      <td>NaN</td>\n",
       "      <td>NaN</td>\n",
       "      <td>NaN</td>\n",
       "      <td>NaN</td>\n",
       "    </tr>\n",
       "    <tr>\n",
       "      <th>Sales Channel</th>\n",
       "      <td>128975</td>\n",
       "      <td>2</td>\n",
       "      <td>Amazon.in</td>\n",
       "      <td>128851</td>\n",
       "      <td>NaN</td>\n",
       "      <td>NaN</td>\n",
       "      <td>NaN</td>\n",
       "      <td>NaN</td>\n",
       "      <td>NaN</td>\n",
       "      <td>NaN</td>\n",
       "      <td>NaN</td>\n",
       "    </tr>\n",
       "    <tr>\n",
       "      <th>ship-service-level</th>\n",
       "      <td>128975</td>\n",
       "      <td>2</td>\n",
       "      <td>Expedited</td>\n",
       "      <td>88615</td>\n",
       "      <td>NaN</td>\n",
       "      <td>NaN</td>\n",
       "      <td>NaN</td>\n",
       "      <td>NaN</td>\n",
       "      <td>NaN</td>\n",
       "      <td>NaN</td>\n",
       "      <td>NaN</td>\n",
       "    </tr>\n",
       "    <tr>\n",
       "      <th>Style</th>\n",
       "      <td>128975</td>\n",
       "      <td>1377</td>\n",
       "      <td>JNE3797</td>\n",
       "      <td>4224</td>\n",
       "      <td>NaN</td>\n",
       "      <td>NaN</td>\n",
       "      <td>NaN</td>\n",
       "      <td>NaN</td>\n",
       "      <td>NaN</td>\n",
       "      <td>NaN</td>\n",
       "      <td>NaN</td>\n",
       "    </tr>\n",
       "    <tr>\n",
       "      <th>SKU</th>\n",
       "      <td>128975</td>\n",
       "      <td>7195</td>\n",
       "      <td>JNE3797-KR-L</td>\n",
       "      <td>773</td>\n",
       "      <td>NaN</td>\n",
       "      <td>NaN</td>\n",
       "      <td>NaN</td>\n",
       "      <td>NaN</td>\n",
       "      <td>NaN</td>\n",
       "      <td>NaN</td>\n",
       "      <td>NaN</td>\n",
       "    </tr>\n",
       "    <tr>\n",
       "      <th>Category</th>\n",
       "      <td>128975</td>\n",
       "      <td>9</td>\n",
       "      <td>Set</td>\n",
       "      <td>50284</td>\n",
       "      <td>NaN</td>\n",
       "      <td>NaN</td>\n",
       "      <td>NaN</td>\n",
       "      <td>NaN</td>\n",
       "      <td>NaN</td>\n",
       "      <td>NaN</td>\n",
       "      <td>NaN</td>\n",
       "    </tr>\n",
       "    <tr>\n",
       "      <th>Size</th>\n",
       "      <td>128975</td>\n",
       "      <td>11</td>\n",
       "      <td>M</td>\n",
       "      <td>22711</td>\n",
       "      <td>NaN</td>\n",
       "      <td>NaN</td>\n",
       "      <td>NaN</td>\n",
       "      <td>NaN</td>\n",
       "      <td>NaN</td>\n",
       "      <td>NaN</td>\n",
       "      <td>NaN</td>\n",
       "    </tr>\n",
       "    <tr>\n",
       "      <th>ASIN</th>\n",
       "      <td>128975</td>\n",
       "      <td>7190</td>\n",
       "      <td>B09SDXFFQ1</td>\n",
       "      <td>773</td>\n",
       "      <td>NaN</td>\n",
       "      <td>NaN</td>\n",
       "      <td>NaN</td>\n",
       "      <td>NaN</td>\n",
       "      <td>NaN</td>\n",
       "      <td>NaN</td>\n",
       "      <td>NaN</td>\n",
       "    </tr>\n",
       "    <tr>\n",
       "      <th>Courier Status</th>\n",
       "      <td>122103</td>\n",
       "      <td>3</td>\n",
       "      <td>Shipped</td>\n",
       "      <td>109487</td>\n",
       "      <td>NaN</td>\n",
       "      <td>NaN</td>\n",
       "      <td>NaN</td>\n",
       "      <td>NaN</td>\n",
       "      <td>NaN</td>\n",
       "      <td>NaN</td>\n",
       "      <td>NaN</td>\n",
       "    </tr>\n",
       "    <tr>\n",
       "      <th>Qty</th>\n",
       "      <td>128975.0</td>\n",
       "      <td>NaN</td>\n",
       "      <td>NaN</td>\n",
       "      <td>NaN</td>\n",
       "      <td>0.904431</td>\n",
       "      <td>0.313354</td>\n",
       "      <td>0.0</td>\n",
       "      <td>1.0</td>\n",
       "      <td>1.0</td>\n",
       "      <td>1.0</td>\n",
       "      <td>15.0</td>\n",
       "    </tr>\n",
       "    <tr>\n",
       "      <th>currency</th>\n",
       "      <td>121180</td>\n",
       "      <td>1</td>\n",
       "      <td>INR</td>\n",
       "      <td>121180</td>\n",
       "      <td>NaN</td>\n",
       "      <td>NaN</td>\n",
       "      <td>NaN</td>\n",
       "      <td>NaN</td>\n",
       "      <td>NaN</td>\n",
       "      <td>NaN</td>\n",
       "      <td>NaN</td>\n",
       "    </tr>\n",
       "    <tr>\n",
       "      <th>Amount</th>\n",
       "      <td>121180.0</td>\n",
       "      <td>NaN</td>\n",
       "      <td>NaN</td>\n",
       "      <td>NaN</td>\n",
       "      <td>648.561465</td>\n",
       "      <td>281.211687</td>\n",
       "      <td>0.0</td>\n",
       "      <td>449.0</td>\n",
       "      <td>605.0</td>\n",
       "      <td>788.0</td>\n",
       "      <td>5584.0</td>\n",
       "    </tr>\n",
       "    <tr>\n",
       "      <th>ship-city</th>\n",
       "      <td>128942</td>\n",
       "      <td>8955</td>\n",
       "      <td>BENGALURU</td>\n",
       "      <td>11217</td>\n",
       "      <td>NaN</td>\n",
       "      <td>NaN</td>\n",
       "      <td>NaN</td>\n",
       "      <td>NaN</td>\n",
       "      <td>NaN</td>\n",
       "      <td>NaN</td>\n",
       "      <td>NaN</td>\n",
       "    </tr>\n",
       "    <tr>\n",
       "      <th>ship-state</th>\n",
       "      <td>128942</td>\n",
       "      <td>69</td>\n",
       "      <td>MAHARASHTRA</td>\n",
       "      <td>22260</td>\n",
       "      <td>NaN</td>\n",
       "      <td>NaN</td>\n",
       "      <td>NaN</td>\n",
       "      <td>NaN</td>\n",
       "      <td>NaN</td>\n",
       "      <td>NaN</td>\n",
       "      <td>NaN</td>\n",
       "    </tr>\n",
       "    <tr>\n",
       "      <th>ship-postal-code</th>\n",
       "      <td>128942.0</td>\n",
       "      <td>NaN</td>\n",
       "      <td>NaN</td>\n",
       "      <td>NaN</td>\n",
       "      <td>463966.236509</td>\n",
       "      <td>191476.764941</td>\n",
       "      <td>110001.0</td>\n",
       "      <td>382421.0</td>\n",
       "      <td>500033.0</td>\n",
       "      <td>600024.0</td>\n",
       "      <td>989898.0</td>\n",
       "    </tr>\n",
       "    <tr>\n",
       "      <th>ship-country</th>\n",
       "      <td>128942</td>\n",
       "      <td>1</td>\n",
       "      <td>IN</td>\n",
       "      <td>128942</td>\n",
       "      <td>NaN</td>\n",
       "      <td>NaN</td>\n",
       "      <td>NaN</td>\n",
       "      <td>NaN</td>\n",
       "      <td>NaN</td>\n",
       "      <td>NaN</td>\n",
       "      <td>NaN</td>\n",
       "    </tr>\n",
       "    <tr>\n",
       "      <th>promotion-ids</th>\n",
       "      <td>79822</td>\n",
       "      <td>5787</td>\n",
       "      <td>IN Core Free Shipping 2015/04/08 23-48-5-108</td>\n",
       "      <td>46100</td>\n",
       "      <td>NaN</td>\n",
       "      <td>NaN</td>\n",
       "      <td>NaN</td>\n",
       "      <td>NaN</td>\n",
       "      <td>NaN</td>\n",
       "      <td>NaN</td>\n",
       "      <td>NaN</td>\n",
       "    </tr>\n",
       "    <tr>\n",
       "      <th>B2B</th>\n",
       "      <td>128975</td>\n",
       "      <td>2</td>\n",
       "      <td>False</td>\n",
       "      <td>128104</td>\n",
       "      <td>NaN</td>\n",
       "      <td>NaN</td>\n",
       "      <td>NaN</td>\n",
       "      <td>NaN</td>\n",
       "      <td>NaN</td>\n",
       "      <td>NaN</td>\n",
       "      <td>NaN</td>\n",
       "    </tr>\n",
       "    <tr>\n",
       "      <th>fulfilled-by</th>\n",
       "      <td>39277</td>\n",
       "      <td>1</td>\n",
       "      <td>Easy Ship</td>\n",
       "      <td>39277</td>\n",
       "      <td>NaN</td>\n",
       "      <td>NaN</td>\n",
       "      <td>NaN</td>\n",
       "      <td>NaN</td>\n",
       "      <td>NaN</td>\n",
       "      <td>NaN</td>\n",
       "      <td>NaN</td>\n",
       "    </tr>\n",
       "    <tr>\n",
       "      <th>Unnamed: 22</th>\n",
       "      <td>79925</td>\n",
       "      <td>1</td>\n",
       "      <td>False</td>\n",
       "      <td>79925</td>\n",
       "      <td>NaN</td>\n",
       "      <td>NaN</td>\n",
       "      <td>NaN</td>\n",
       "      <td>NaN</td>\n",
       "      <td>NaN</td>\n",
       "      <td>NaN</td>\n",
       "      <td>NaN</td>\n",
       "    </tr>\n",
       "  </tbody>\n",
       "</table>\n",
       "</div>"
      ],
      "text/plain": [
       "                       count  unique  \\\n",
       "Order ID              128975  120378   \n",
       "Date                  128975      91   \n",
       "Status                128975      13   \n",
       "Fulfilment            128975       2   \n",
       "Sales Channel         128975       2   \n",
       "ship-service-level    128975       2   \n",
       "Style                 128975    1377   \n",
       "SKU                   128975    7195   \n",
       "Category              128975       9   \n",
       "Size                  128975      11   \n",
       "ASIN                  128975    7190   \n",
       "Courier Status        122103       3   \n",
       "Qty                 128975.0     NaN   \n",
       "currency              121180       1   \n",
       "Amount              121180.0     NaN   \n",
       "ship-city             128942    8955   \n",
       "ship-state            128942      69   \n",
       "ship-postal-code    128942.0     NaN   \n",
       "ship-country          128942       1   \n",
       "promotion-ids          79822    5787   \n",
       "B2B                   128975       2   \n",
       "fulfilled-by           39277       1   \n",
       "Unnamed: 22            79925       1   \n",
       "\n",
       "                                                             top    freq  \\\n",
       "Order ID                                     171-5057375-2831560      12   \n",
       "Date                                                    05-03-22    2085   \n",
       "Status                                                   Shipped   77804   \n",
       "Fulfilment                                                Amazon   89698   \n",
       "Sales Channel                                          Amazon.in  128851   \n",
       "ship-service-level                                     Expedited   88615   \n",
       "Style                                                    JNE3797    4224   \n",
       "SKU                                                 JNE3797-KR-L     773   \n",
       "Category                                                     Set   50284   \n",
       "Size                                                           M   22711   \n",
       "ASIN                                                  B09SDXFFQ1     773   \n",
       "Courier Status                                           Shipped  109487   \n",
       "Qty                                                          NaN     NaN   \n",
       "currency                                                     INR  121180   \n",
       "Amount                                                       NaN     NaN   \n",
       "ship-city                                              BENGALURU   11217   \n",
       "ship-state                                           MAHARASHTRA   22260   \n",
       "ship-postal-code                                             NaN     NaN   \n",
       "ship-country                                                  IN  128942   \n",
       "promotion-ids       IN Core Free Shipping 2015/04/08 23-48-5-108   46100   \n",
       "B2B                                                        False  128104   \n",
       "fulfilled-by                                           Easy Ship   39277   \n",
       "Unnamed: 22                                                False   79925   \n",
       "\n",
       "                             mean            std       min       25%  \\\n",
       "Order ID                      NaN            NaN       NaN       NaN   \n",
       "Date                          NaN            NaN       NaN       NaN   \n",
       "Status                        NaN            NaN       NaN       NaN   \n",
       "Fulfilment                    NaN            NaN       NaN       NaN   \n",
       "Sales Channel                 NaN            NaN       NaN       NaN   \n",
       "ship-service-level            NaN            NaN       NaN       NaN   \n",
       "Style                         NaN            NaN       NaN       NaN   \n",
       "SKU                           NaN            NaN       NaN       NaN   \n",
       "Category                      NaN            NaN       NaN       NaN   \n",
       "Size                          NaN            NaN       NaN       NaN   \n",
       "ASIN                          NaN            NaN       NaN       NaN   \n",
       "Courier Status                NaN            NaN       NaN       NaN   \n",
       "Qty                      0.904431       0.313354       0.0       1.0   \n",
       "currency                      NaN            NaN       NaN       NaN   \n",
       "Amount                 648.561465     281.211687       0.0     449.0   \n",
       "ship-city                     NaN            NaN       NaN       NaN   \n",
       "ship-state                    NaN            NaN       NaN       NaN   \n",
       "ship-postal-code    463966.236509  191476.764941  110001.0  382421.0   \n",
       "ship-country                  NaN            NaN       NaN       NaN   \n",
       "promotion-ids                 NaN            NaN       NaN       NaN   \n",
       "B2B                           NaN            NaN       NaN       NaN   \n",
       "fulfilled-by                  NaN            NaN       NaN       NaN   \n",
       "Unnamed: 22                   NaN            NaN       NaN       NaN   \n",
       "\n",
       "                         50%       75%       max  \n",
       "Order ID                 NaN       NaN       NaN  \n",
       "Date                     NaN       NaN       NaN  \n",
       "Status                   NaN       NaN       NaN  \n",
       "Fulfilment               NaN       NaN       NaN  \n",
       "Sales Channel            NaN       NaN       NaN  \n",
       "ship-service-level       NaN       NaN       NaN  \n",
       "Style                    NaN       NaN       NaN  \n",
       "SKU                      NaN       NaN       NaN  \n",
       "Category                 NaN       NaN       NaN  \n",
       "Size                     NaN       NaN       NaN  \n",
       "ASIN                     NaN       NaN       NaN  \n",
       "Courier Status           NaN       NaN       NaN  \n",
       "Qty                      1.0       1.0      15.0  \n",
       "currency                 NaN       NaN       NaN  \n",
       "Amount                 605.0     788.0    5584.0  \n",
       "ship-city                NaN       NaN       NaN  \n",
       "ship-state               NaN       NaN       NaN  \n",
       "ship-postal-code    500033.0  600024.0  989898.0  \n",
       "ship-country             NaN       NaN       NaN  \n",
       "promotion-ids            NaN       NaN       NaN  \n",
       "B2B                      NaN       NaN       NaN  \n",
       "fulfilled-by             NaN       NaN       NaN  \n",
       "Unnamed: 22              NaN       NaN       NaN  "
      ]
     },
     "execution_count": 327,
     "metadata": {},
     "output_type": "execute_result"
    }
   ],
   "source": [
    "df.describe(include = \"all\").T"
   ]
  },
  {
   "cell_type": "markdown",
   "id": "4b9fe8b3",
   "metadata": {},
   "source": [
    "# Data Cleaning"
   ]
  },
  {
   "cell_type": "markdown",
   "id": "e4b2303c",
   "metadata": {},
   "source": [
    "This dataset provides detailed insights into Amazon sales data, including SKU Code, Design Number, Stock, Category, Size and Color, to help optimize product profitability\n",
    "\n",
    "- Category: Type of product. (String)\n",
    "- Size: Size of the product. (String)\n",
    "- Date: Date of the sale. (Date)\n",
    "- Status: Status of the sale. (String)\n",
    "- Fulfilment: Method of fulfilment. (String)\n",
    "- Style: Style of the product. (String)\n",
    "- SKU: Stock Keeping Unit. (String)\n",
    "- ASIN: Amazon Standard Identification Number. (String)\n",
    "- Courier Status: Status of the courier. (String)\n",
    "- Qty: Quantity of the product. (Integer)\n",
    "- Amount: Amount of the sale. (Float)\n",
    "- B2B: Business to business sale. (Boolean)\n",
    "- Currency: The currency used for the sale. (String)"
   ]
  },
  {
   "cell_type": "markdown",
   "id": "07abbd28",
   "metadata": {},
   "source": [
    "# Renaming DataFrame Columns"
   ]
  },
  {
   "cell_type": "code",
   "execution_count": 328,
   "id": "83505073",
   "metadata": {},
   "outputs": [],
   "source": [
    "#renaming the df columns for clarity\n",
    "df.rename(columns = {'ship-service-level' : 'Ship-Service-Level',\n",
    "                      'SKU' : 'Stock Keeping Unit',\n",
    "                      'ASIN' : 'Amazon Standard Identification Number',\n",
    "                     'currency': 'Currency',\n",
    "                      'ship-city': 'Ship-City',\n",
    "                      'ship-state': 'Ship-State',\n",
    "                      'ship-postal-code' : 'Ship-Postal-Code',\n",
    "                     'ship-country' : 'Ship-Country',\n",
    "                      'promotion-ids': 'Promotion-ids',\n",
    "                     'fulfilled-by' : 'Fulfilled-by'}, inplace = True)"
   ]
  },
  {
   "cell_type": "markdown",
   "id": "f0c8a019",
   "metadata": {},
   "source": [
    "## 1.  Dealing with `Courier Status` Column"
   ]
  },
  {
   "cell_type": "code",
   "execution_count": 329,
   "id": "98729eed",
   "metadata": {},
   "outputs": [
    {
     "data": {
      "image/png": "[encoded data removed]",
      "text/plain": [
       "<Figure size 432x288 with 1 Axes>"
      ]
     },
     "metadata": {
      "needs_background": "light"
     },
     "output_type": "display_data"
    }
   ],
   "source": [
    "df[\"Courier Status\"].hist(grid = False)\n",
    "plt.show()"
   ]
  },
  {
   "cell_type": "code",
   "execution_count": 330,
   "id": "80edd23c",
   "metadata": {
    "scrolled": false
   },
   "outputs": [
    {
     "data": {
      "text/plain": [
       "Shipped      109487\n",
       "Unshipped      6681\n",
       "Cancelled      5935\n",
       "Name: Courier Status, dtype: int64"
      ]
     },
     "execution_count": 330,
     "metadata": {},
     "output_type": "execute_result"
    }
   ],
   "source": [
    "#to get the count of each unique value in the \"courier status\" column\n",
    "df[\"Courier Status\"].value_counts()"
   ]
  },
  {
   "cell_type": "code",
   "execution_count": 331,
   "id": "79246374",
   "metadata": {},
   "outputs": [
    {
     "data": {
      "text/plain": [
       "6872"
      ]
     },
     "execution_count": 331,
     "metadata": {},
     "output_type": "execute_result"
    }
   ],
   "source": [
    "#null values count\n",
    "null_values = df[\"Courier Status\"].isna().sum()\n",
    "null_values "
   ]
  },
  {
   "cell_type": "markdown",
   "id": "21373b22",
   "metadata": {},
   "source": [
    "This column is categorical so its best to replace the null values with its mode, i.e the most frequently occurring value."
   ]
  },
  {
   "cell_type": "code",
   "execution_count": 332,
   "id": "47f1a286",
   "metadata": {},
   "outputs": [
    {
     "name": "stdout",
     "output_type": "stream",
     "text": [
      "Filled values count: 128975\n",
      "Assertion passed: no null values in the 'Courier Status' column\n"
     ]
    }
   ],
   "source": [
    "#filling the null with mode value\n",
    "df[\"Courier Status\"] = df[\"Courier Status\"].fillna(df[\"Courier Status\"].mode()[0])\n",
    "\n",
    "#count of the filled values\n",
    "filled_count = df[\"Courier Status\"].count()\n",
    "\n",
    "\n",
    "#asserting that there are no null values in the \"Courier Status\" column\n",
    "assert df[\"Courier Status\"].isnull().sum() == 0, \"Null values still exist\"\n",
    "\n",
    "\n",
    "print(f\"Filled values count: {filled_count}\")\n",
    "print(\"Assertion passed: no null values in the 'Courier Status' column\")"
   ]
  },
  {
   "cell_type": "markdown",
   "id": "552e9c6a",
   "metadata": {},
   "source": [
    "  ## 2.  Dealing with `Currency` Column"
   ]
  },
  {
   "cell_type": "code",
   "execution_count": 333,
   "id": "1e646366",
   "metadata": {},
   "outputs": [
    {
     "name": "stdout",
     "output_type": "stream",
     "text": [
      "7795\n"
     ]
    }
   ],
   "source": [
    "#to get the count of the null values in the \"currency\" column\n",
    "print(df[\"Currency\"].isna().sum())\n",
    "\n",
    "\n",
    "#filling the null with mode value\n",
    "df[\"Currency\"] = df[\"Currency\"].fillna(\"INR\")"
   ]
  },
  {
   "cell_type": "code",
   "execution_count": 334,
   "id": "7b9c565e",
   "metadata": {},
   "outputs": [],
   "source": [
    "#aserting that there are no null values in the \"currency\" column\n",
    "assert df[\"Currency\"].isnull().sum() == 0, \"null values still exist in the 'Currency' column\""
   ]
  },
  {
   "cell_type": "markdown",
   "id": "70368fb3",
   "metadata": {},
   "source": [
    "## 3.  Dealing with `Amount` Column"
   ]
  },
  {
   "cell_type": "markdown",
   "id": "297000f4",
   "metadata": {},
   "source": [
    "- In the dataset, the \"Amount\" column contains null values in cases where the Quantity ordered is zero. It is logical to fill these null values with zero, as it signifies that no quantity was ordered, resulting in no associated amount."
   ]
  },
  {
   "cell_type": "code",
   "execution_count": 335,
   "id": "d7e808ee",
   "metadata": {},
   "outputs": [
    {
     "name": "stdout",
     "output_type": "stream",
     "text": [
      "7795\n"
     ]
    }
   ],
   "source": [
    "#to get the count of the null values in the \"amount\" column\n",
    "print(df[\"Amount\"].isna().sum())"
   ]
  },
  {
   "cell_type": "code",
   "execution_count": 336,
   "id": "cedd0635",
   "metadata": {},
   "outputs": [],
   "source": [
    "#filling the null with mode value\n",
    "df[\"Amount\"] = df[\"Amount\"].fillna(0)\n",
    "\n",
    "#aserting that there are no null values in the \"amount\" column\n",
    "assert df[\"Amount\"].isnull().sum() == 0, \"null values still exist in the 'Amount' column\""
   ]
  },
  {
   "cell_type": "markdown",
   "id": "f0fa1253",
   "metadata": {},
   "source": [
    "## 4.  Dealing with `Ship-City`, `Ship-State`, `Ship-Postal-Code` and `Ship-Country` Columns"
   ]
  },
  {
   "cell_type": "markdown",
   "id": "926ab73a",
   "metadata": {},
   "source": [
    "- Filling and Syncing the Missing Shipping Information"
   ]
  },
  {
   "cell_type": "code",
   "execution_count": 337,
   "id": "38dc1d01",
   "metadata": {},
   "outputs": [
    {
     "data": {
      "text/html": [
       "<div>\n",
       "<style scoped>\n",
       "    .dataframe tbody tr th:only-of-type {\n",
       "        vertical-align: middle;\n",
       "    }\n",
       "\n",
       "    .dataframe tbody tr th {\n",
       "        vertical-align: top;\n",
       "    }\n",
       "\n",
       "    .dataframe thead th {\n",
       "        text-align: right;\n",
       "    }\n",
       "</style>\n",
       "<table border=\"1\" class=\"dataframe\">\n",
       "  <thead>\n",
       "    <tr style=\"text-align: right;\">\n",
       "      <th></th>\n",
       "      <th>Ship-City</th>\n",
       "      <th>Ship-State</th>\n",
       "      <th>Ship-Postal-Code</th>\n",
       "      <th>Ship-Country</th>\n",
       "    </tr>\n",
       "    <tr>\n",
       "      <th>index</th>\n",
       "      <th></th>\n",
       "      <th></th>\n",
       "      <th></th>\n",
       "      <th></th>\n",
       "    </tr>\n",
       "  </thead>\n",
       "  <tbody>\n",
       "    <tr>\n",
       "      <th>1871</th>\n",
       "      <td>NaN</td>\n",
       "      <td>NaN</td>\n",
       "      <td>NaN</td>\n",
       "      <td>NaN</td>\n",
       "    </tr>\n",
       "    <tr>\n",
       "      <th>1872</th>\n",
       "      <td>NaN</td>\n",
       "      <td>NaN</td>\n",
       "      <td>NaN</td>\n",
       "      <td>NaN</td>\n",
       "    </tr>\n",
       "    <tr>\n",
       "      <th>8752</th>\n",
       "      <td>NaN</td>\n",
       "      <td>NaN</td>\n",
       "      <td>NaN</td>\n",
       "      <td>NaN</td>\n",
       "    </tr>\n",
       "    <tr>\n",
       "      <th>11215</th>\n",
       "      <td>NaN</td>\n",
       "      <td>NaN</td>\n",
       "      <td>NaN</td>\n",
       "      <td>NaN</td>\n",
       "    </tr>\n",
       "    <tr>\n",
       "      <th>13252</th>\n",
       "      <td>NaN</td>\n",
       "      <td>NaN</td>\n",
       "      <td>NaN</td>\n",
       "      <td>NaN</td>\n",
       "    </tr>\n",
       "    <tr>\n",
       "      <th>15688</th>\n",
       "      <td>NaN</td>\n",
       "      <td>NaN</td>\n",
       "      <td>NaN</td>\n",
       "      <td>NaN</td>\n",
       "    </tr>\n",
       "  </tbody>\n",
       "</table>\n",
       "</div>"
      ],
      "text/plain": [
       "      Ship-City Ship-State  Ship-Postal-Code Ship-Country\n",
       "index                                                    \n",
       "1871        NaN        NaN               NaN          NaN\n",
       "1872        NaN        NaN               NaN          NaN\n",
       "8752        NaN        NaN               NaN          NaN\n",
       "11215       NaN        NaN               NaN          NaN\n",
       "13252       NaN        NaN               NaN          NaN\n",
       "15688       NaN        NaN               NaN          NaN"
      ]
     },
     "execution_count": 337,
     "metadata": {},
     "output_type": "execute_result"
    }
   ],
   "source": [
    "#\"\"\"locating the ship-city with \"null values\" to see if there's a correlation with Ship-Postal-Code and Ship-Country Columns\n",
    "df.loc[df[\"Ship-City\"].isnull(), \"Ship-City\":\"Ship-Country\"].head(6)"
   ]
  },
  {
   "cell_type": "code",
   "execution_count": 338,
   "id": "7204cdb0",
   "metadata": {},
   "outputs": [
    {
     "data": {
      "text/plain": [
       "BENGALURU    11217\n",
       "HYDERABAD     8074\n",
       "MUMBAI        6126\n",
       "NEW DELHI     5795\n",
       "CHENNAI       5421\n",
       "Name: Ship-City, dtype: int64"
      ]
     },
     "execution_count": 338,
     "metadata": {},
     "output_type": "execute_result"
    }
   ],
   "source": [
    "#confirming the ship city with the top counts\n",
    "df[\"Ship-City\"].value_counts().head()"
   ]
  },
  {
   "cell_type": "code",
   "execution_count": 339,
   "id": "f29361b0",
   "metadata": {},
   "outputs": [],
   "source": [
    "#so to find the mode of the \"Ship-City\" column since its a categorical column\n",
    "ship_city_mode = df[\"Ship-City\"].mode()[0]\n",
    "\n",
    "#filling \"ship-city\" null values with mode value\n",
    "df[\"Ship-City\"].fillna(ship_city_mode, inplace = True)\n",
    "\n",
    "#filling the related columns with the mode value\n",
    "df[\"Ship-State\"].fillna(df[\"Ship-State\"].mode()[0], inplace = True)\n",
    "df[\"Ship-Postal-Code\"].fillna(df[\"Ship-Postal-Code\"].mode()[0], inplace = True)\n",
    "df[\"Ship-Country\"].fillna(df[\"Ship-Country\"].mode()[0], inplace = True)"
   ]
  },
  {
   "cell_type": "code",
   "execution_count": 340,
   "id": "df840be8",
   "metadata": {},
   "outputs": [],
   "source": [
    "#to assert that there are no more null values in the specified columns after filling them\n",
    "assert df[\"Ship-City\"].isnull().sum() == 0, \"null values still exist in Ship City column\"\n",
    "assert df[\"Ship-State\"].isnull().sum() == 0, \"null values still exist in Ship State column\"\n",
    "assert df[\"Ship-Postal-Code\"].isnull().sum() == 0, \"null values still exist in Ship Postal Code column\"\n",
    "assert df[\"Ship-Country\"].isnull().sum() == 0, \"null values still exist in Ship Country column\""
   ]
  },
  {
   "cell_type": "markdown",
   "id": "3ce66324",
   "metadata": {},
   "source": [
    "## 5.  Dealing with `Promotion-ids` Column"
   ]
  },
  {
   "cell_type": "code",
   "execution_count": 341,
   "id": "940ff2c4",
   "metadata": {},
   "outputs": [
    {
     "name": "stdout",
     "output_type": "stream",
     "text": [
      "49153\n"
     ]
    }
   ],
   "source": [
    "#to get the count of the null values in the \"Promotion-ids\" column\n",
    "print(df[\"Promotion-ids\"].isna().sum())\n",
    "\n",
    "\n",
    "#filling the null with mode value\n",
    "df[\"Promotion-ids\"] = df[\"Promotion-ids\"].fillna(df[\"Promotion-ids\"].mode()[0])"
   ]
  },
  {
   "cell_type": "code",
   "execution_count": 342,
   "id": "cf88328b",
   "metadata": {},
   "outputs": [],
   "source": [
    "#aserting that there are no null values in the \"Promotion-ids\" column\n",
    "assert df[\"Promotion-ids\"].isnull().sum() == 0, \"null values still exist in the 'Promotion-ids' column\""
   ]
  },
  {
   "cell_type": "code",
   "execution_count": 343,
   "id": "2123a4f9",
   "metadata": {},
   "outputs": [
    {
     "name": "stdout",
     "output_type": "stream",
     "text": [
      "0\n"
     ]
    }
   ],
   "source": [
    "print(df[\"Promotion-ids\"].isna().sum())"
   ]
  },
  {
   "cell_type": "markdown",
   "id": "8196fc9d",
   "metadata": {},
   "source": [
    "## 6.  Dealing with `Fulfilled-by` Column"
   ]
  },
  {
   "cell_type": "code",
   "execution_count": 344,
   "id": "9ddfc01e",
   "metadata": {},
   "outputs": [
    {
     "data": {
      "text/plain": [
       "Easy Ship    39277\n",
       "Name: Fulfilled-by, dtype: int64"
      ]
     },
     "execution_count": 344,
     "metadata": {},
     "output_type": "execute_result"
    }
   ],
   "source": [
    "#to get the count of each unique value in the \"fulfilled-by\" column\n",
    "df[\"Fulfilled-by\"].value_counts()"
   ]
  },
  {
   "cell_type": "code",
   "execution_count": 345,
   "id": "77797904",
   "metadata": {},
   "outputs": [
    {
     "name": "stdout",
     "output_type": "stream",
     "text": [
      "89698\n"
     ]
    }
   ],
   "source": [
    "#to get the count of the null values in the \"fulfilled-by\" column\n",
    "print(df[\"Fulfilled-by\"].isna().sum())\n",
    "\n",
    "\n",
    "#filling the null with mode value\n",
    "df[\"Fulfilled-by\"] = df[\"Fulfilled-by\"].fillna(\"Easy Ship\")"
   ]
  },
  {
   "cell_type": "code",
   "execution_count": 346,
   "id": "d652037d",
   "metadata": {},
   "outputs": [],
   "source": [
    "#aserting that there are no null values in the \"fulfilled-by\" column\n",
    "assert df[\"Fulfilled-by\"].isnull().sum() == 0, \"null values still exist in the 'Fulfilled-by' column\""
   ]
  },
  {
   "cell_type": "markdown",
   "id": "261de1fe",
   "metadata": {},
   "source": [
    "## 7.  Dealing with `Ordered Date` Column"
   ]
  },
  {
   "cell_type": "code",
   "execution_count": 347,
   "id": "f2388432",
   "metadata": {},
   "outputs": [],
   "source": [
    "#converting the ordered date datatype to datetime \n",
    "df[\"Date\"] = pd.to_datetime(df[\"Date\"]).dt.strftime('%Y-%m-%d')\n",
    "\n",
    "\n",
    "#converting the ordered date datatype from string to datetime\n",
    "df[\"Date\"] = df[\"Date\"].astype('datetime64[ns]')"
   ]
  },
  {
   "cell_type": "code",
   "execution_count": 348,
   "id": "ebf4ac5e",
   "metadata": {},
   "outputs": [],
   "source": [
    "#extracting the year, month and date \n",
    "df[\"Year\"] = df[\"Date\"].dt.year\n",
    "df[\"Month\"] = df[\"Date\"].dt.month\n",
    "df[\"Day\"] = df[\"Date\"].dt.day"
   ]
  },
  {
   "cell_type": "code",
   "execution_count": 349,
   "id": "d4b3e737",
   "metadata": {
    "scrolled": true
   },
   "outputs": [
    {
     "data": {
      "text/plain": [
       "4    49067\n",
       "5    42040\n",
       "6    37697\n",
       "3      171\n",
       "Name: Month, dtype: int64"
      ]
     },
     "execution_count": 349,
     "metadata": {},
     "output_type": "execute_result"
    }
   ],
   "source": [
    "df[\"Month\"].value_counts()"
   ]
  },
  {
   "cell_type": "markdown",
   "id": "ae1097ce",
   "metadata": {},
   "source": [
    "## 8.  Removing Unnamed Column from the Dataset"
   ]
  },
  {
   "cell_type": "code",
   "execution_count": 350,
   "id": "f830f48a",
   "metadata": {},
   "outputs": [],
   "source": [
    "#dropping \"Unnamed: 22\" \n",
    "df = df.drop([\"Unnamed: 22\"], axis = 1)"
   ]
  },
  {
   "cell_type": "code",
   "execution_count": null,
   "id": "e09c5c56",
   "metadata": {},
   "outputs": [],
   "source": [
    "#saving the cleaned csv file\n",
    "df.to_csv(\"Amazon Sale Report_2.csv\")"
   ]
  },
  {
   "cell_type": "code",
   "execution_count": null,
   "id": "6106aedf",
   "metadata": {},
   "outputs": [],
   "source": []
  }
 ],
 "metadata": {
  "kernelspec": {
   "display_name": "Python 3 (ipykernel)",
   "language": "python",
   "name": "python3"
  },
  "language_info": {
   "codemirror_mode": {
    "name": "ipython",
    "version": 3
   },
   "file_extension": ".py",
   "mimetype": "text/x-python",
   "name": "python",
   "nbconvert_exporter": "python",
   "pygments_lexer": "ipython3",
   "version": "3.9.12"
  }
 },
 "nbformat": 4,
 "nbformat_minor": 5
}
