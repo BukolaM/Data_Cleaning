{
 "cells": [
  {
   "cell_type": "code",
   "execution_count": 1,
   "id": "0afb076a",
   "metadata": {},
   "outputs": [],
   "source": [
    "import pandas as pd"
   ]
  },
  {
   "cell_type": "code",
   "execution_count": 3,
   "id": "924faf38",
   "metadata": {},
   "outputs": [
    {
     "data": {
      "text/html": [
       "<div>\n",
       "<style scoped>\n",
       "    .dataframe tbody tr th:only-of-type {\n",
       "        vertical-align: middle;\n",
       "    }\n",
       "\n",
       "    .dataframe tbody tr th {\n",
       "        vertical-align: top;\n",
       "    }\n",
       "\n",
       "    .dataframe thead th {\n",
       "        text-align: right;\n",
       "    }\n",
       "</style>\n",
       "<table border=\"1\" class=\"dataframe\">\n",
       "  <thead>\n",
       "    <tr style=\"text-align: right;\">\n",
       "      <th></th>\n",
       "      <th>Description</th>\n",
       "      <th>Quantity</th>\n",
       "    </tr>\n",
       "  </thead>\n",
       "  <tbody>\n",
       "    <tr>\n",
       "      <th>0</th>\n",
       "      <td>lotion Benzylbenzoate lotion</td>\n",
       "      <td>0Bottle</td>\n",
       "    </tr>\n",
       "    <tr>\n",
       "      <th>1</th>\n",
       "      <td>Methylated spirit 100ml</td>\n",
       "      <td>0Bottle</td>\n",
       "    </tr>\n",
       "    <tr>\n",
       "      <th>2</th>\n",
       "      <td>susp Magnessium Trisilicate 200ml</td>\n",
       "      <td>0Bottle</td>\n",
       "    </tr>\n",
       "    <tr>\n",
       "      <th>3</th>\n",
       "      <td>Susp. Amoxicillin 125mg/5ml</td>\n",
       "      <td>0Bottle</td>\n",
       "    </tr>\n",
       "    <tr>\n",
       "      <th>4</th>\n",
       "      <td>Susp. Erythromycin 125mg/5ml</td>\n",
       "      <td>0Bottle</td>\n",
       "    </tr>\n",
       "    <tr>\n",
       "      <th>...</th>\n",
       "      <td>...</td>\n",
       "      <td>...</td>\n",
       "    </tr>\n",
       "    <tr>\n",
       "      <th>2274</th>\n",
       "      <td>Syp Ascorbic acid</td>\n",
       "      <td>20Bottle</td>\n",
       "    </tr>\n",
       "    <tr>\n",
       "      <th>2275</th>\n",
       "      <td>syr Cough Syrup (P) 100ml</td>\n",
       "      <td>20Bottle</td>\n",
       "    </tr>\n",
       "    <tr>\n",
       "      <th>2276</th>\n",
       "      <td>syr Cough Syrup (A) 100ml</td>\n",
       "      <td>10Bottle</td>\n",
       "    </tr>\n",
       "    <tr>\n",
       "      <th>2277</th>\n",
       "      <td>Cotton Wool 100g</td>\n",
       "      <td>1Pcs</td>\n",
       "    </tr>\n",
       "    <tr>\n",
       "      <th>2278</th>\n",
       "      <td>Disposable gloves</td>\n",
       "      <td>1Pairs</td>\n",
       "    </tr>\n",
       "  </tbody>\n",
       "</table>\n",
       "<p>2279 rows × 2 columns</p>\n",
       "</div>"
      ],
      "text/plain": [
       "                            Description  Quantity\n",
       "0          lotion Benzylbenzoate lotion   0Bottle\n",
       "1               Methylated spirit 100ml   0Bottle\n",
       "2     susp Magnessium Trisilicate 200ml   0Bottle\n",
       "3           Susp. Amoxicillin 125mg/5ml   0Bottle\n",
       "4          Susp. Erythromycin 125mg/5ml   0Bottle\n",
       "...                                 ...       ...\n",
       "2274                  Syp Ascorbic acid  20Bottle\n",
       "2275          syr Cough Syrup (P) 100ml  20Bottle\n",
       "2276          syr Cough Syrup (A) 100ml  10Bottle\n",
       "2277                   Cotton Wool 100g      1Pcs\n",
       "2278                  Disposable gloves    1Pairs\n",
       "\n",
       "[2279 rows x 2 columns]"
      ]
     },
     "execution_count": 3,
     "metadata": {},
     "output_type": "execute_result"
    }
   ],
   "source": [
    "df = pd.read_excel('7.-Medicine-Data-with-lumped-Quantity-and-Measure.xlsx')\n",
    "df"
   ]
  },
  {
   "cell_type": "code",
   "execution_count": null,
   "id": "876c99a5",
   "metadata": {},
   "outputs": [],
   "source": []
  }
 ],
 "metadata": {
  "kernelspec": {
   "display_name": "Python 3 (ipykernel)",
   "language": "python",
   "name": "python3"
  },
  "language_info": {
   "codemirror_mode": {
    "name": "ipython",
    "version": 3
   },
   "file_extension": ".py",
   "mimetype": "text/x-python",
   "name": "python",
   "nbconvert_exporter": "python",
   "pygments_lexer": "ipython3",
   "version": "3.9.12"
  }
 },
 "nbformat": 4,
 "nbformat_minor": 5
}
